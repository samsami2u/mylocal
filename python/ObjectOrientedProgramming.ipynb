{
 "cells": [
  {
   "cell_type": "code",
   "execution_count": 26,
   "id": "0295f611",
   "metadata": {},
   "outputs": [],
   "source": [
    "class Car():\n",
    "    \n",
    "    # class object attribute\n",
    "    # same for any instance of class\n",
    "    species = 'Vehicle'\n",
    "    \n",
    "    def __init__(self, color, brand):\n",
    "        self.color = color\n",
    "        self.brand = brand\n",
    "        \n",
    "    def print_color(self):\n",
    "        print('Color of the car is {}'.format(self.color))\n",
    "        \n",
    "    def run(self):\n",
    "        print('Wroom!!')"
   ]
  },
  {
   "cell_type": "code",
   "execution_count": 28,
   "id": "15e37547",
   "metadata": {},
   "outputs": [
    {
     "data": {
      "text/plain": [
       "__main__.Car"
      ]
     },
     "execution_count": 28,
     "metadata": {},
     "output_type": "execute_result"
    }
   ],
   "source": [
    "mer = Car('black', 'mercedez')\n",
    "type(mer)"
   ]
  },
  {
   "cell_type": "code",
   "execution_count": 3,
   "id": "8ed7c338",
   "metadata": {},
   "outputs": [
    {
     "data": {
      "text/plain": [
       "'black'"
      ]
     },
     "execution_count": 3,
     "metadata": {},
     "output_type": "execute_result"
    }
   ],
   "source": [
    "mer.color"
   ]
  },
  {
   "cell_type": "code",
   "execution_count": 11,
   "id": "3928bc24",
   "metadata": {},
   "outputs": [
    {
     "name": "stdout",
     "output_type": "stream",
     "text": [
      "Color of the car is black\n"
     ]
    }
   ],
   "source": [
    "mer.print_color()"
   ]
  },
  {
   "cell_type": "code",
   "execution_count": 21,
   "id": "b6d36211",
   "metadata": {},
   "outputs": [
    {
     "data": {
      "text/plain": [
       "'Vehicle'"
      ]
     },
     "execution_count": 21,
     "metadata": {},
     "output_type": "execute_result"
    }
   ],
   "source": [
    "mer.species"
   ]
  },
  {
   "cell_type": "code",
   "execution_count": 29,
   "id": "a2ba9de8",
   "metadata": {},
   "outputs": [
    {
     "name": "stdout",
     "output_type": "stream",
     "text": [
      "Wroom!!\n"
     ]
    }
   ],
   "source": [
    "mer.run()"
   ]
  },
  {
   "cell_type": "code",
   "execution_count": 43,
   "id": "0416c70f",
   "metadata": {},
   "outputs": [],
   "source": [
    "class Circle():\n",
    "    \n",
    "    pi = 3.14\n",
    "    \n",
    "    def __init__(self, radius=1):\n",
    "        self.radius = radius\n",
    "        self.area = radius * radius * Circle.pi\n",
    "        \n",
    "    def get_circumference(self):\n",
    "        return self.radius * Circle.pi * 2"
   ]
  },
  {
   "cell_type": "code",
   "execution_count": 46,
   "id": "a38802c0",
   "metadata": {},
   "outputs": [],
   "source": [
    "my_circle = Circle(35)"
   ]
  },
  {
   "cell_type": "code",
   "execution_count": 47,
   "id": "94c8b2f7",
   "metadata": {},
   "outputs": [
    {
     "data": {
      "text/plain": [
       "219.8"
      ]
     },
     "execution_count": 47,
     "metadata": {},
     "output_type": "execute_result"
    }
   ],
   "source": [
    "my_circle.get_circumference()"
   ]
  },
  {
   "cell_type": "code",
   "execution_count": 48,
   "id": "0f1e79df",
   "metadata": {},
   "outputs": [
    {
     "data": {
      "text/plain": [
       "3846.5"
      ]
     },
     "execution_count": 48,
     "metadata": {},
     "output_type": "execute_result"
    }
   ],
   "source": [
    "my_circle.area"
   ]
  },
  {
   "cell_type": "code",
   "execution_count": null,
   "id": "6bc5e863",
   "metadata": {},
   "outputs": [],
   "source": []
  },
  {
   "cell_type": "code",
   "execution_count": null,
   "id": "efec8896",
   "metadata": {},
   "outputs": [],
   "source": []
  },
  {
   "cell_type": "code",
   "execution_count": 50,
   "id": "4bee08bf",
   "metadata": {},
   "outputs": [],
   "source": [
    "class Vehicle():\n",
    "    \n",
    "    def __init__(self):\n",
    "        print('Vehilcle Created!')\n",
    "        \n",
    "    def who_am_i(self):\n",
    "        print('I am Vehicle')\n",
    "        \n",
    "    def run(self):\n",
    "        print('I am running')"
   ]
  },
  {
   "cell_type": "code",
   "execution_count": 67,
   "id": "19b83f9e",
   "metadata": {},
   "outputs": [],
   "source": [
    "class Car(Vehicle):\n",
    "    \n",
    "    def __init__(self):\n",
    "        Vehicle.__init__(self)\n",
    "        print('Car Created!')\n",
    "        \n",
    "    def who_am_i(self):\n",
    "        print('I am a nice Car!')\n",
    "    \n",
    "    def break_down(self):\n",
    "        print('Car Broke!!')"
   ]
  },
  {
   "cell_type": "code",
   "execution_count": 65,
   "id": "1c135d00",
   "metadata": {},
   "outputs": [
    {
     "name": "stdout",
     "output_type": "stream",
     "text": [
      "Vehilcle Created!\n",
      "Car Created!\n"
     ]
    }
   ],
   "source": [
    "my_car = Car()"
   ]
  },
  {
   "cell_type": "code",
   "execution_count": 66,
   "id": "a24eb86e",
   "metadata": {},
   "outputs": [
    {
     "name": "stdout",
     "output_type": "stream",
     "text": [
      "I am Vehicle\n"
     ]
    }
   ],
   "source": [
    "my_car.who_am_i()"
   ]
  },
  {
   "cell_type": "code",
   "execution_count": 58,
   "id": "3cf379f6",
   "metadata": {},
   "outputs": [
    {
     "name": "stdout",
     "output_type": "stream",
     "text": [
      "I am running\n"
     ]
    }
   ],
   "source": [
    "my_car.run()"
   ]
  },
  {
   "cell_type": "code",
   "execution_count": 61,
   "id": "cadf07e4",
   "metadata": {},
   "outputs": [
    {
     "name": "stdout",
     "output_type": "stream",
     "text": [
      "Car Broke!!\n"
     ]
    }
   ],
   "source": [
    "my_car.break_down()"
   ]
  },
  {
   "cell_type": "code",
   "execution_count": null,
   "id": "9e17f74c",
   "metadata": {},
   "outputs": [],
   "source": []
  },
  {
   "cell_type": "code",
   "execution_count": null,
   "id": "48b17c05",
   "metadata": {},
   "outputs": [],
   "source": []
  },
  {
   "cell_type": "code",
   "execution_count": 73,
   "id": "3b118818",
   "metadata": {},
   "outputs": [],
   "source": [
    "class Human():\n",
    "    \n",
    "    def __init__(self, name):\n",
    "        self.name = name\n",
    "        \n",
    "    def speak(self):\n",
    "        print( '{} says stay'.format(self.name))"
   ]
  },
  {
   "cell_type": "code",
   "execution_count": 74,
   "id": "773d06fa",
   "metadata": {},
   "outputs": [],
   "source": [
    "class Ghost():\n",
    "    \n",
    "    def __init__(self, name):\n",
    "        self.name = name\n",
    "        \n",
    "    def speak(self):\n",
    "        print( '{} says GO!'.format(self.name))"
   ]
  },
  {
   "cell_type": "code",
   "execution_count": 75,
   "id": "bc5107ee",
   "metadata": {},
   "outputs": [],
   "source": [
    "nikko = Human( 'Nikko' )\n",
    "felix = Ghost( 'Felix' )"
   ]
  },
  {
   "cell_type": "code",
   "execution_count": 76,
   "id": "860e3a45",
   "metadata": {},
   "outputs": [
    {
     "name": "stdout",
     "output_type": "stream",
     "text": [
      "Nikko says stay\n"
     ]
    }
   ],
   "source": [
    "nikko.speak()"
   ]
  },
  {
   "cell_type": "code",
   "execution_count": 77,
   "id": "2a8f7f84",
   "metadata": {},
   "outputs": [
    {
     "name": "stdout",
     "output_type": "stream",
     "text": [
      "Felix says GO!\n"
     ]
    }
   ],
   "source": [
    "felix.speak()"
   ]
  },
  {
   "cell_type": "code",
   "execution_count": 78,
   "id": "24c20386",
   "metadata": {},
   "outputs": [],
   "source": [
    "class Vehicle():\n",
    "    \n",
    "    def __init__(self, name):\n",
    "        self.name = name\n",
    "        \n",
    "    def start(self):\n",
    "        raise NotImplementedError('Subclass must implement this method.')"
   ]
  },
  {
   "cell_type": "code",
   "execution_count": 85,
   "id": "f50b73fd",
   "metadata": {},
   "outputs": [],
   "source": [
    "class Car(Vehicle):\n",
    "    \n",
    "    def start(self):\n",
    "        print( self.name + 'is starting!' )\n",
    "        \n",
    "class Cycle(Vehicle):\n",
    "    \n",
    "    def start(self):\n",
    "        print( self.name + ' is running!' )"
   ]
  },
  {
   "cell_type": "code",
   "execution_count": 86,
   "id": "e5f76a35",
   "metadata": {},
   "outputs": [],
   "source": [
    "car = Car('Mercedez')\n",
    "cycle = Cycle('Schnell')"
   ]
  },
  {
   "cell_type": "code",
   "execution_count": 87,
   "id": "76c810ec",
   "metadata": {},
   "outputs": [
    {
     "name": "stdout",
     "output_type": "stream",
     "text": [
      "Mercedezis starting!\n"
     ]
    }
   ],
   "source": [
    "car.start()"
   ]
  },
  {
   "cell_type": "code",
   "execution_count": 88,
   "id": "15a06be2",
   "metadata": {},
   "outputs": [
    {
     "name": "stdout",
     "output_type": "stream",
     "text": [
      "Schnell is running!\n"
     ]
    }
   ],
   "source": [
    "cycle.start()"
   ]
  },
  {
   "cell_type": "code",
   "execution_count": null,
   "id": "338006d9",
   "metadata": {},
   "outputs": [],
   "source": []
  },
  {
   "cell_type": "code",
   "execution_count": null,
   "id": "e1c11514",
   "metadata": {},
   "outputs": [],
   "source": []
  },
  {
   "cell_type": "code",
   "execution_count": 91,
   "id": "c8a66406",
   "metadata": {},
   "outputs": [],
   "source": [
    "class Book():\n",
    "    \n",
    "    def __init__(self, name, author, pages):\n",
    "        \n",
    "        self.name = name\n",
    "        self.author = author\n",
    "        self.pages = pages\n",
    "        \n",
    "    def __str__(self):\n",
    "        return f\"{self.name} by {self.author}\"\n",
    "    \n",
    "    def __len__(self):\n",
    "        return self.pages\n",
    "    \n",
    "    def __del__(self):\n",
    "        print( 'An object ({}) of Book is being deleted.'.format(self.name) )"
   ]
  },
  {
   "cell_type": "code",
   "execution_count": 92,
   "id": "e8bbca51",
   "metadata": {},
   "outputs": [],
   "source": [
    "b = Book('Learnings of Life', 'Sachin Makwana', 100)"
   ]
  },
  {
   "cell_type": "code",
   "execution_count": 93,
   "id": "356e6b5d",
   "metadata": {},
   "outputs": [
    {
     "data": {
      "text/plain": [
       "100"
      ]
     },
     "execution_count": 93,
     "metadata": {},
     "output_type": "execute_result"
    }
   ],
   "source": [
    "len(b)"
   ]
  },
  {
   "cell_type": "code",
   "execution_count": 94,
   "id": "a0b81e18",
   "metadata": {},
   "outputs": [
    {
     "name": "stdout",
     "output_type": "stream",
     "text": [
      "Learnings of Life by Sachin Makwana\n"
     ]
    }
   ],
   "source": [
    "print(b)"
   ]
  },
  {
   "cell_type": "code",
   "execution_count": 95,
   "id": "0c7592ba",
   "metadata": {},
   "outputs": [
    {
     "name": "stdout",
     "output_type": "stream",
     "text": [
      "An object (Learnings of Life) of Book is being deleted.\n"
     ]
    }
   ],
   "source": [
    "del b"
   ]
  },
  {
   "cell_type": "code",
   "execution_count": null,
   "id": "2dc727e1",
   "metadata": {},
   "outputs": [],
   "source": []
  }
 ],
 "metadata": {
  "kernelspec": {
   "display_name": "Python 3 (ipykernel)",
   "language": "python",
   "name": "python3"
  },
  "language_info": {
   "codemirror_mode": {
    "name": "ipython",
    "version": 3
   },
   "file_extension": ".py",
   "mimetype": "text/x-python",
   "name": "python",
   "nbconvert_exporter": "python",
   "pygments_lexer": "ipython3",
   "version": "3.11.5"
  }
 },
 "nbformat": 4,
 "nbformat_minor": 5
}
