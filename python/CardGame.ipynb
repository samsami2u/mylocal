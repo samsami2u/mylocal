{
 "cells": [
  {
   "cell_type": "code",
   "execution_count": 6,
   "id": "35f6ed5d",
   "metadata": {},
   "outputs": [],
   "source": [
    "import random\n",
    "\n",
    "values = {'Two':2, 'Three':3, 'Four':4, 'Five':5, 'Six':6, 'Seven':7, 'Eight':8, 'Nine':9, 'Ten':10, 'Jack':11, 'Queen':12, 'King':13, 'Ace':14}\n",
    "\n",
    "suits = {'Clubs', 'Hearts', 'Diamonds', 'Spades'}\n",
    "ranks = {'Two', 'Three', 'Four', 'Five', 'Six', 'Seven', 'Eight', 'Nine', 'Ten', 'Jack', 'Queen', 'King', 'Ace'}\n",
    "\n",
    "'''\n",
    "Cards class will be used a template for using cards\n",
    "'''\n",
    "class Card:\n",
    "    def __init__(self, suit, rank):\n",
    "        self.suit = suit\n",
    "        self.value = values[rank]\n",
    "        self.rank = rank\n",
    "        \n",
    "    def __str__(self):\n",
    "        return self.rank + ' of ' + self.suit\n",
    "    "
   ]
  },
  {
   "cell_type": "code",
   "execution_count": 39,
   "id": "725764f2",
   "metadata": {},
   "outputs": [],
   "source": [
    "two_hearts = Card('Hearts', 'Two')"
   ]
  },
  {
   "cell_type": "code",
   "execution_count": 40,
   "id": "5918125d",
   "metadata": {},
   "outputs": [
    {
     "name": "stdout",
     "output_type": "stream",
     "text": [
      "Two of Hearts\n"
     ]
    }
   ],
   "source": [
    "print(two_hearts)\n"
   ]
  },
  {
   "cell_type": "code",
   "execution_count": 32,
   "id": "8bf9a47f",
   "metadata": {},
   "outputs": [],
   "source": []
  },
  {
   "cell_type": "code",
   "execution_count": 41,
   "id": "81642557",
   "metadata": {},
   "outputs": [
    {
     "data": {
      "text/plain": [
       "2"
      ]
     },
     "execution_count": 41,
     "metadata": {},
     "output_type": "execute_result"
    }
   ],
   "source": [
    "values[two_hearts.rank]"
   ]
  },
  {
   "cell_type": "code",
   "execution_count": 42,
   "id": "ba905e1d",
   "metadata": {},
   "outputs": [],
   "source": [
    "three_of_clubs = Card('Clubs', 'Three')"
   ]
  },
  {
   "cell_type": "code",
   "execution_count": 43,
   "id": "7b24884e",
   "metadata": {},
   "outputs": [
    {
     "name": "stdout",
     "output_type": "stream",
     "text": [
      "Three of Clubs\n"
     ]
    }
   ],
   "source": [
    "print(three_of_clubs)"
   ]
  },
  {
   "cell_type": "code",
   "execution_count": 13,
   "id": "cf51cd11",
   "metadata": {},
   "outputs": [
    {
     "data": {
      "text/plain": [
       "3"
      ]
     },
     "execution_count": 13,
     "metadata": {},
     "output_type": "execute_result"
    }
   ],
   "source": [
    "three_of_clubs.value"
   ]
  },
  {
   "cell_type": "code",
   "execution_count": null,
   "id": "5a46502c",
   "metadata": {},
   "outputs": [],
   "source": []
  },
  {
   "cell_type": "code",
   "execution_count": 7,
   "id": "bb1d06f3",
   "metadata": {},
   "outputs": [],
   "source": [
    "class Deck():\n",
    "    \n",
    "    def __init__(self):\n",
    "            \n",
    "        self.all_cards = []\n",
    "\n",
    "        for suit in suits:\n",
    "            for rank in ranks:\n",
    "                # create card object\n",
    "                created_card = Card(suit, rank)\n",
    "                # print(suit)\n",
    "                self.all_cards.append(created_card)\n",
    "                    \n",
    "    def shuffle_deck(self):\n",
    "        random.shuffle(self.all_cards)\n",
    "        \n",
    "    def deal_one(self):\n",
    "        return self.all_cards.pop()"
   ]
  },
  {
   "cell_type": "code",
   "execution_count": 53,
   "id": "e529f450",
   "metadata": {},
   "outputs": [],
   "source": [
    "ndck = Deck()\n",
    "ndck.shuffle_deck()"
   ]
  },
  {
   "cell_type": "code",
   "execution_count": 56,
   "id": "6cf2dd95",
   "metadata": {},
   "outputs": [
    {
     "name": "stdout",
     "output_type": "stream",
     "text": [
      "Ace of Diamonds\n"
     ]
    }
   ],
   "source": [
    "print(ndck.deal_one())"
   ]
  },
  {
   "cell_type": "code",
   "execution_count": 50,
   "id": "620d7574",
   "metadata": {},
   "outputs": [
    {
     "name": "stdout",
     "output_type": "stream",
     "text": [
      "Jack of Clubs\n",
      "Ace of Clubs\n",
      "Two of Hearts\n",
      "Nine of Hearts\n",
      "Eight of Clubs\n",
      "Jack of Hearts\n",
      "Seven of Diamonds\n",
      "Eight of Hearts\n",
      "Five of Clubs\n",
      "Queen of Clubs\n",
      "Three of Spades\n",
      "Seven of Spades\n",
      "Four of Spades\n",
      "Nine of Clubs\n",
      "Ten of Diamonds\n",
      "Ten of Hearts\n",
      "Jack of Spades\n",
      "Four of Diamonds\n",
      "Three of Hearts\n",
      "Ten of Spades\n",
      "Eight of Diamonds\n",
      "Five of Spades\n",
      "King of Clubs\n",
      "Ten of Clubs\n",
      "Jack of Diamonds\n",
      "Six of Diamonds\n",
      "Seven of Clubs\n",
      "Nine of Spades\n",
      "Three of Diamonds\n",
      "Nine of Diamonds\n",
      "Seven of Hearts\n",
      "Five of Hearts\n",
      "Ace of Hearts\n",
      "Three of Clubs\n",
      "Two of Spades\n",
      "King of Diamonds\n",
      "Queen of Hearts\n",
      "Eight of Spades\n",
      "Ace of Spades\n",
      "Five of Diamonds\n",
      "Ace of Diamonds\n",
      "Two of Clubs\n",
      "Queen of Spades\n",
      "King of Spades\n",
      "Four of Hearts\n",
      "Two of Diamonds\n",
      "Queen of Diamonds\n",
      "Six of Spades\n",
      "King of Hearts\n",
      "Six of Hearts\n",
      "Four of Clubs\n",
      "Six of Clubs\n"
     ]
    }
   ],
   "source": [
    "for card in ndck.all_cards:\n",
    "    print(card)"
   ]
  },
  {
   "cell_type": "code",
   "execution_count": null,
   "id": "72e92124",
   "metadata": {},
   "outputs": [],
   "source": []
  },
  {
   "cell_type": "code",
   "execution_count": null,
   "id": "818dcbdd",
   "metadata": {},
   "outputs": [],
   "source": []
  },
  {
   "cell_type": "code",
   "execution_count": 8,
   "id": "5619d6b1",
   "metadata": {},
   "outputs": [],
   "source": [
    "class Player:\n",
    "    \n",
    "    def __init__(self, name):\n",
    "        \n",
    "        self.name = name\n",
    "        self.all_cards = []\n",
    "        \n",
    "    def remove_one(self):\n",
    "        return self.all_cards.pop(0)\n",
    "        \n",
    "    def add_cards(self, new_cards):\n",
    "        if type(new_cards) == type([]):\n",
    "            self.all_cards.extend(new_cards)\n",
    "        else:\n",
    "            self.all_cards.append(new_cards)\n",
    "    \n",
    "    def __str__(self):\n",
    "        return f'Player {self.name} has {len(self.all_cards)} cards.'\n",
    "    "
   ]
  },
  {
   "cell_type": "code",
   "execution_count": 50,
   "id": "9d13a49a",
   "metadata": {},
   "outputs": [],
   "source": [
    "new_player = Player('Ronaldo')"
   ]
  },
  {
   "cell_type": "code",
   "execution_count": 51,
   "id": "9cc10794",
   "metadata": {},
   "outputs": [
    {
     "name": "stdout",
     "output_type": "stream",
     "text": [
      "Player Ronaldo has 0 cards.\n"
     ]
    }
   ],
   "source": [
    "print(new_player)"
   ]
  },
  {
   "cell_type": "code",
   "execution_count": 52,
   "id": "01a6f766",
   "metadata": {},
   "outputs": [],
   "source": [
    "new_player.add_cards(two_hearts)"
   ]
  },
  {
   "cell_type": "code",
   "execution_count": 54,
   "id": "13d18d0c",
   "metadata": {},
   "outputs": [
    {
     "name": "stdout",
     "output_type": "stream",
     "text": [
      "Player Ronaldo has 1 cards.\n"
     ]
    }
   ],
   "source": [
    "print(new_player)"
   ]
  },
  {
   "cell_type": "code",
   "execution_count": 55,
   "id": "6a72ba5a",
   "metadata": {},
   "outputs": [],
   "source": [
    "new_player.add_cards([two_hearts, three_of_clubs])"
   ]
  },
  {
   "cell_type": "code",
   "execution_count": 56,
   "id": "7fa138f3",
   "metadata": {},
   "outputs": [
    {
     "name": "stdout",
     "output_type": "stream",
     "text": [
      "Player Ronaldo has 3 cards.\n"
     ]
    }
   ],
   "source": [
    "print(new_player)"
   ]
  },
  {
   "cell_type": "code",
   "execution_count": 57,
   "id": "1f965a7e",
   "metadata": {},
   "outputs": [
    {
     "name": "stdout",
     "output_type": "stream",
     "text": [
      "Two of Hearts\n"
     ]
    }
   ],
   "source": [
    "print(new_player.all_cards[1])"
   ]
  },
  {
   "cell_type": "code",
   "execution_count": 58,
   "id": "c17cc04a",
   "metadata": {},
   "outputs": [
    {
     "data": {
      "text/plain": [
       "<__main__.Card at 0x14e44fbe810>"
      ]
     },
     "execution_count": 58,
     "metadata": {},
     "output_type": "execute_result"
    }
   ],
   "source": [
    "new_player.remove_one()"
   ]
  },
  {
   "cell_type": "code",
   "execution_count": 59,
   "id": "8d168e47",
   "metadata": {},
   "outputs": [
    {
     "name": "stdout",
     "output_type": "stream",
     "text": [
      "Player Ronaldo has 2 cards.\n"
     ]
    }
   ],
   "source": [
    "print(new_player)"
   ]
  },
  {
   "cell_type": "code",
   "execution_count": 16,
   "id": "e5f6868a",
   "metadata": {},
   "outputs": [],
   "source": [
    "# Game setup\n",
    "player_one = Player('One')\n",
    "player_two = Player('Two')\n",
    "\n",
    "new_deck = Deck()\n",
    "new_deck.shuffle_deck()\n",
    "\n",
    "for x in range(26):\n",
    "    player_one.add_cards(new_deck.deal_one())\n",
    "    player_two.add_cards(new_deck.deal_one())"
   ]
  },
  {
   "cell_type": "code",
   "execution_count": 18,
   "id": "826d1547",
   "metadata": {},
   "outputs": [
    {
     "name": "stdout",
     "output_type": "stream",
     "text": [
      "Round 1\n",
      "Round 2\n",
      "Round 3\n",
      "Round 4\n",
      "!WAR!\n",
      "Player Two was not able to declare war\n",
      "Player One WINS!\n"
     ]
    }
   ],
   "source": [
    "game_on = True\n",
    "round_num = 0\n",
    "card_required_to_fight_war = 5\n",
    "\n",
    "# while game_on\n",
    "while game_on:\n",
    "    round_num += 1\n",
    "    \n",
    "    print(f'Round {round_num}')\n",
    "    \n",
    "    if len(player_one.all_cards) ==0:\n",
    "        print('Player One, out of cards! Player Two Wins!!')\n",
    "        game_on = False\n",
    "        break\n",
    "        \n",
    "    if len(player_two.all_cards) ==0:\n",
    "        print('Player One, out of cards! Player Two Wins!!')\n",
    "        game_on = False\n",
    "        break\n",
    "        \n",
    "    # start new round\n",
    "    player_one_cards = []\n",
    "    player_one_cards.append(player_one.remove_one())\n",
    "    \n",
    "    \n",
    "    player_two_cards = []\n",
    "    player_two_cards.append(player_two.remove_one())\n",
    "    \n",
    "    # while at war\n",
    "    at_war = True\n",
    "    \n",
    "    while at_war:\n",
    "        if player_one_cards[-1].value > player_two_cards[-1].value:\n",
    "            player_one.add_cards(player_one_cards)\n",
    "            player_one.add_cards(player_two_cards)\n",
    "            at_war = False\n",
    "            break\n",
    "        elif player_one_cards[-1].value < player_two_cards[-1].value:\n",
    "            player_two.add_cards(player_one_cards)\n",
    "            player_two.add_cards(player_two_cards)\n",
    "            at_war = False\n",
    "            break\n",
    "        else:\n",
    "            print('!WAR!')\n",
    "            \n",
    "            if len(player_one.all_cards) < card_required_to_fight_war:\n",
    "                print('Player One was not able to declare war')\n",
    "                print('Player Two WINS!')\n",
    "                game_on = False\n",
    "                break\n",
    "            \n",
    "            elif len(player_two.all_cards) < card_required_to_fight_war:\n",
    "                print('Player Two was not able to declare war')\n",
    "                print('Player One WINS!')\n",
    "                game_on = False\n",
    "                break\n",
    "                \n",
    "            else:\n",
    "                for num in range(card_required_to_fight_war):\n",
    "                    player_one_cards.append(player_one.remove_one())\n",
    "                    player_two_cards.append(player_two.remove_one())\n",
    "    "
   ]
  },
  {
   "cell_type": "code",
   "execution_count": 11,
   "id": "4b13b154",
   "metadata": {},
   "outputs": [
    {
     "name": "stdout",
     "output_type": "stream",
     "text": [
      "Three of Spades\n"
     ]
    }
   ],
   "source": [
    "print(player_one.all_cards[0])"
   ]
  },
  {
   "cell_type": "code",
   "execution_count": null,
   "id": "7ae67063",
   "metadata": {},
   "outputs": [],
   "source": []
  }
 ],
 "metadata": {
  "kernelspec": {
   "display_name": "Python 3 (ipykernel)",
   "language": "python",
   "name": "python3"
  },
  "language_info": {
   "codemirror_mode": {
    "name": "ipython",
    "version": 3
   },
   "file_extension": ".py",
   "mimetype": "text/x-python",
   "name": "python",
   "nbconvert_exporter": "python",
   "pygments_lexer": "ipython3",
   "version": "3.11.5"
  }
 },
 "nbformat": 4,
 "nbformat_minor": 5
}
