{
 "cells": [
  {
   "cell_type": "code",
   "execution_count": 1,
   "id": "a48660a4",
   "metadata": {},
   "outputs": [],
   "source": [
    "f = open('fileone.txt', 'w+')"
   ]
  },
  {
   "cell_type": "code",
   "execution_count": 2,
   "id": "d19a146e",
   "metadata": {},
   "outputs": [
    {
     "data": {
      "text/plain": [
       "44"
      ]
     },
     "execution_count": 2,
     "metadata": {},
     "output_type": "execute_result"
    }
   ],
   "source": [
    "f.write('This is a test file for zipping an unzipping')"
   ]
  },
  {
   "cell_type": "code",
   "execution_count": 3,
   "id": "925e523c",
   "metadata": {},
   "outputs": [],
   "source": [
    "f2 = open('filetwo.txt', 'w+')"
   ]
  },
  {
   "cell_type": "code",
   "execution_count": 4,
   "id": "c48449e0",
   "metadata": {},
   "outputs": [
    {
     "data": {
      "text/plain": [
       "47"
      ]
     },
     "execution_count": 4,
     "metadata": {},
     "output_type": "execute_result"
    }
   ],
   "source": [
    "f2.write('This is a test file for zipping an unzipping it')"
   ]
  },
  {
   "cell_type": "code",
   "execution_count": 5,
   "id": "6c967bbc",
   "metadata": {},
   "outputs": [],
   "source": [
    "f.close()"
   ]
  },
  {
   "cell_type": "code",
   "execution_count": 6,
   "id": "248e574e",
   "metadata": {},
   "outputs": [],
   "source": [
    "f2.close()"
   ]
  },
  {
   "cell_type": "code",
   "execution_count": 7,
   "id": "b8f45d01",
   "metadata": {},
   "outputs": [],
   "source": [
    "import zipfile"
   ]
  },
  {
   "cell_type": "code",
   "execution_count": 24,
   "id": "3f744058",
   "metadata": {},
   "outputs": [],
   "source": [
    "comp_file = zipfile.ZipFile('comp_zip.zip', 'w')"
   ]
  },
  {
   "cell_type": "code",
   "execution_count": 25,
   "id": "0ec1ac29",
   "metadata": {},
   "outputs": [],
   "source": [
    "comp_file.write('fileone.txt', compress_type=zipfile.ZIP_DEFLATED)"
   ]
  },
  {
   "cell_type": "code",
   "execution_count": 16,
   "id": "ed5853c6",
   "metadata": {},
   "outputs": [],
   "source": []
  },
  {
   "cell_type": "code",
   "execution_count": 26,
   "id": "0fc06621",
   "metadata": {},
   "outputs": [],
   "source": [
    "comp_file.write('filetwo.txt', compress_type=zipfile.ZIP_DEFLATED)"
   ]
  },
  {
   "cell_type": "code",
   "execution_count": 27,
   "id": "acf3bfb3",
   "metadata": {},
   "outputs": [],
   "source": [
    "comp_file.close()"
   ]
  },
  {
   "cell_type": "code",
   "execution_count": 28,
   "id": "3f3c8fd0",
   "metadata": {},
   "outputs": [],
   "source": [
    "zip_obj = zipfile.ZipFile('comp_zip.zip', 'r')"
   ]
  },
  {
   "cell_type": "code",
   "execution_count": 29,
   "id": "7405cc6b",
   "metadata": {},
   "outputs": [
    {
     "data": {
      "text/plain": [
       "'C:\\\\Users\\\\Admin\\\\mylocal\\\\python\\\\fileone.txt'"
      ]
     },
     "execution_count": 29,
     "metadata": {},
     "output_type": "execute_result"
    }
   ],
   "source": [
    "zip_obj.extract('fileone.txt')"
   ]
  },
  {
   "cell_type": "code",
   "execution_count": 30,
   "id": "698eeaef",
   "metadata": {},
   "outputs": [],
   "source": [
    "zip_obj.extractall('zipExtract')"
   ]
  },
  {
   "cell_type": "code",
   "execution_count": 31,
   "id": "ac7eee70",
   "metadata": {},
   "outputs": [],
   "source": [
    "import shutil"
   ]
  },
  {
   "cell_type": "code",
   "execution_count": 32,
   "id": "872f3b0c",
   "metadata": {},
   "outputs": [],
   "source": [
    "dir_to_zip = 'C:\\\\Users\\\\Admin\\\\mylocal\\\\python\\\\zipExtract'"
   ]
  },
  {
   "cell_type": "code",
   "execution_count": 33,
   "id": "0608534a",
   "metadata": {},
   "outputs": [
    {
     "data": {
      "text/plain": [
       "'C:\\\\Users\\\\Admin\\\\mylocal\\\\python\\\\shutil_zip.zip'"
      ]
     },
     "execution_count": 33,
     "metadata": {},
     "output_type": "execute_result"
    }
   ],
   "source": [
    "output_file = 'shutil_zip'\n",
    "shutil.make_archive(output_file, 'zip', dir_to_zip)"
   ]
  },
  {
   "cell_type": "code",
   "execution_count": 34,
   "id": "936e70a3",
   "metadata": {},
   "outputs": [],
   "source": [
    "shutil.unpack_archive('shutil_zip.zip', 'unzip_shutil', 'zip')"
   ]
  },
  {
   "cell_type": "code",
   "execution_count": null,
   "id": "be2006c9",
   "metadata": {},
   "outputs": [],
   "source": []
  }
 ],
 "metadata": {
  "kernelspec": {
   "display_name": "Python 3 (ipykernel)",
   "language": "python",
   "name": "python3"
  },
  "language_info": {
   "codemirror_mode": {
    "name": "ipython",
    "version": 3
   },
   "file_extension": ".py",
   "mimetype": "text/x-python",
   "name": "python",
   "nbconvert_exporter": "python",
   "pygments_lexer": "ipython3",
   "version": "3.11.5"
  }
 },
 "nbformat": 4,
 "nbformat_minor": 5
}
