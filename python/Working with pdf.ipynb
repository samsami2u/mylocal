{
 "cells": [
  {
   "cell_type": "code",
   "execution_count": 1,
   "id": "07d7b508-ae82-483a-9fb5-28dc4f128d01",
   "metadata": {},
   "outputs": [],
   "source": [
    "import PyPDF2"
   ]
  },
  {
   "cell_type": "code",
   "execution_count": 2,
   "id": "a470f6a6-f33a-4638-8942-9cf1ec20ed4f",
   "metadata": {},
   "outputs": [],
   "source": [
    "pdf_file = open('Working_Business_Proposal.pdf', 'rb')"
   ]
  },
  {
   "cell_type": "code",
   "execution_count": 4,
   "id": "d5e6712f-60f0-4378-9490-d6881e86c7b6",
   "metadata": {},
   "outputs": [],
   "source": [
    "pdf_reader = PyPDF2.PdfReader(pdf_file)"
   ]
  },
  {
   "cell_type": "code",
   "execution_count": 19,
   "id": "b960555f-1d49-445d-9b8c-9abd01420978",
   "metadata": {},
   "outputs": [
    {
     "data": {
      "text/plain": [
       "5"
      ]
     },
     "execution_count": 19,
     "metadata": {},
     "output_type": "execute_result"
    }
   ],
   "source": [
    "len(pdf_reader.pages)"
   ]
  },
  {
   "cell_type": "code",
   "execution_count": 22,
   "id": "a592a1b9-3843-4834-a960-767d213029a6",
   "metadata": {},
   "outputs": [],
   "source": [
    "page_one = pdf_reader.pages[0]"
   ]
  },
  {
   "cell_type": "code",
   "execution_count": 23,
   "id": "3bd37e57-7edb-4d3d-8511-1d876dcaf00a",
   "metadata": {},
   "outputs": [
    {
     "data": {
      "text/plain": [
       "PyPDF2._page.PageObject"
      ]
     },
     "execution_count": 23,
     "metadata": {},
     "output_type": "execute_result"
    }
   ],
   "source": [
    "type(page_one)"
   ]
  },
  {
   "cell_type": "code",
   "execution_count": 31,
   "id": "5ab0c4f1-e14e-481b-90e5-42fe0b657c68",
   "metadata": {},
   "outputs": [],
   "source": [
    "txt = page_one.extract_text()"
   ]
  },
  {
   "cell_type": "code",
   "execution_count": 32,
   "id": "287d0fe7-4441-4165-b97b-47c0d9be5f74",
   "metadata": {},
   "outputs": [
    {
     "data": {
      "text/plain": [
       "'Business Proposal The Revolution is Coming Leverage agile frameworks to provide a robust synopsis for high level overviews. Iterative approaches to corporate strategy foster collaborative thinking to further the overall value proposition. Organically grow the holistic world view of disruptive innovation via workplace diversity and empowerment. Bring to the table win-win survival strategies to ensure proactive domination. At the end of the day, going forward, a new normal that has evolved from generation X is on the runway heading towards a streamlined cloud solution. User generated content in real-time will have multiple touchpoints for offshoring. Capitalize on low hanging fruit to identify a ballpark value added activity to beta test. Override the digital divide with additional clickthroughs from DevOps. Nanotechnology immersion along the information highway will close the loop on focusing solely on the bottom line. Podcasting operational change management inside of workﬂows to establish a framework. Taking seamless key performance indicators ofﬂine to maximise the long tail. Keeping your eye on the ball while performing a deep dive on the start-up mentality to derive convergence on cross-platform integration. Collaboratively administrate empowered markets via plug-and-play networks. Dynamically procrastinate B2C users after installed base beneﬁts. Dramatically visualize customer directed convergence without revolutionary ROI. Efﬁciently unleash cross-media information without cross-media value. Quickly maximize timely deliverables for real-time schemas. Dramatically maintain clicks-and-mortar solutions without functional solutions. BUSINESS PROPOSAL!1'"
      ]
     },
     "execution_count": 32,
     "metadata": {},
     "output_type": "execute_result"
    }
   ],
   "source": [
    "txt"
   ]
  },
  {
   "cell_type": "code",
   "execution_count": 35,
   "id": "49abbe1d-9888-4cc6-9b0b-63107f3a456a",
   "metadata": {},
   "outputs": [],
   "source": [
    "pdf_writer = PyPDF2.PdfWriter()"
   ]
  },
  {
   "cell_type": "code",
   "execution_count": 39,
   "id": "48a8d39d-6209-4490-8aa7-b5353ab8d86f",
   "metadata": {},
   "outputs": [],
   "source": [
    "pdf_write = pdf_writer.add_page(page_one)"
   ]
  },
  {
   "cell_type": "code",
   "execution_count": 40,
   "id": "f10f501b-8495-4617-9a41-246329f3ccb3",
   "metadata": {},
   "outputs": [],
   "source": [
    "my_pdf = open('my_pdf.pdf', 'wb')"
   ]
  },
  {
   "cell_type": "code",
   "execution_count": 41,
   "id": "9b4d51a8-dbb8-444b-9442-4172b518148f",
   "metadata": {},
   "outputs": [
    {
     "data": {
      "text/plain": [
       "(False, <_io.BufferedWriter name='my_pdf.pdf'>)"
      ]
     },
     "execution_count": 41,
     "metadata": {},
     "output_type": "execute_result"
    }
   ],
   "source": [
    "pdf_writer.write(my_pdf)"
   ]
  },
  {
   "cell_type": "code",
   "execution_count": 42,
   "id": "2a8fc4d3-73d0-46c9-8776-9032621a4f98",
   "metadata": {},
   "outputs": [],
   "source": [
    "my_pdf.close()"
   ]
  },
  {
   "cell_type": "code",
   "execution_count": 43,
   "id": "b73bcb76-ece8-4318-aa6b-01a30c9eb1ba",
   "metadata": {},
   "outputs": [],
   "source": [
    "pdf_file.close()"
   ]
  },
  {
   "cell_type": "code",
   "execution_count": 44,
   "id": "89956caf-a7ef-4584-af67-965c7a14d143",
   "metadata": {},
   "outputs": [],
   "source": [
    "pdf_file = open('Working_Business_Proposal.pdf', 'rb')"
   ]
  },
  {
   "cell_type": "code",
   "execution_count": 46,
   "id": "03e3322d-b0be-4ccb-a760-dd84156fec2e",
   "metadata": {},
   "outputs": [],
   "source": [
    "pdf_reader = PyPDF2.PdfReader(pdf_file)"
   ]
  },
  {
   "cell_type": "code",
   "execution_count": 48,
   "id": "8c7e1add-c37f-44ae-9ff2-87b943d52b2a",
   "metadata": {},
   "outputs": [
    {
     "data": {
      "text/plain": [
       "5"
      ]
     },
     "execution_count": 48,
     "metadata": {},
     "output_type": "execute_result"
    }
   ],
   "source": [
    "len(pdf_reader.pages)"
   ]
  },
  {
   "cell_type": "code",
   "execution_count": 52,
   "id": "c76d2687-d195-439d-add6-cb1e56dc7aa1",
   "metadata": {},
   "outputs": [],
   "source": [
    "pdf_texts = []\n",
    "\n",
    "for num in pdf_reader.pages:\n",
    "    #print(num)\n",
    "    #obj_page = num\n",
    "    pdf_texts.append(num.extract_text())"
   ]
  },
  {
   "cell_type": "code",
   "execution_count": 55,
   "id": "39f413fb-b8e7-45ce-9703-c17f644c034a",
   "metadata": {},
   "outputs": [
    {
     "name": "stdout",
     "output_type": "stream",
     "text": [
      "applications. Quickly drive clicks-and-mortar catalysts for change before vertical architectures. Credibly reintermediate backend ideas for cross-platform models. Continually reintermediate integrated processes through technically sound intellectual capital. Holistically foster superior methodologies without market-driven best practices. Distinctively exploit optimal alignments for intuitive bandwidth. Quickly coordinate e-business applications through revolutionary catalysts for change. Seamlessly underwhelm optimal testing procedures whereas bricks-and-clicks processes. Synergistically evolve 2.0 technologies rather than just in time initiatives. Quickly deploy strategic networks with compelling e-business. Credibly pontiﬁcate highly efﬁcient manufactured products and enabled data. Dynamically target high-payoff intellectual capital for customized technologies. Objectively integrate emerging core competencies before process-centric communities. Dramatically evisculate holistic innovation rather than client-centric data. Progressively maintain extensive infomediaries via extensible niches. Dramatically disseminate standardized metrics after resource-leveling processes. Objectively pursue diverse catalysts for change for interoperable meta-services. Proactively fabricate one-to-one materials via effective e-business. Completely synergize scalable e-commerce rather than high standards in e-services. Assertively iterate resource maximizing products after leading-edge intellectual capital. Distinctively re-engineer revolutionary meta-services and premium architectures. Intrinsically incubate intuitive opportunities and real-time potentialities. Appropriately communicate one-to-one technology after plug-and-play networks. Quickly aggregate B2B users and worldwide potentialities. Progressively plagiarize resource-leveling e-commerce through resource-leveling core BUSINESS PROPOSAL!3\n"
     ]
    }
   ],
   "source": [
    "print(pdf_texts[2])"
   ]
  },
  {
   "cell_type": "code",
   "execution_count": null,
   "id": "794fcc85-b090-4ab5-baa4-2c46e142d0f3",
   "metadata": {},
   "outputs": [],
   "source": []
  }
 ],
 "metadata": {
  "kernelspec": {
   "display_name": "Python 3 (ipykernel)",
   "language": "python",
   "name": "python3"
  },
  "language_info": {
   "codemirror_mode": {
    "name": "ipython",
    "version": 3
   },
   "file_extension": ".py",
   "mimetype": "text/x-python",
   "name": "python",
   "nbconvert_exporter": "python",
   "pygments_lexer": "ipython3",
   "version": "3.11.7"
  }
 },
 "nbformat": 4,
 "nbformat_minor": 5
}
