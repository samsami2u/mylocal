{
 "cells": [
  {
   "cell_type": "code",
   "execution_count": 13,
   "id": "ac83c1d0",
   "metadata": {},
   "outputs": [],
   "source": [
    "import random\n",
    "\n",
    "values = {'Two':2, 'Three':3, 'Four':4, 'Five':5, 'Six':6, 'Seven':7, 'Eight':8, 'Nine':9, 'Ten':10, 'Jack':10, 'Queen':10, 'King':10, 'Ace':11}\n",
    "\n",
    "suits = {'Club', 'Spade', 'Heart', 'Diamond'}\n",
    "ranks = {'Two', 'Three', 'Four', 'Five', 'Six', 'Seven', 'Eight', 'Nine', 'Ten', 'Jack', 'Queen', 'King', 'Ace'}\n",
    "\n",
    "playing = True\n",
    "\n",
    "class Card:\n",
    "    \n",
    "    def __init__(self, suit, rank):\n",
    "        \n",
    "        self.suit = suit\n",
    "        self.rank = rank\n",
    "        self.value = values[rank]\n",
    "        \n",
    "    def __str__(self):\n",
    "        \n",
    "        return f'{self.rank} of {self.suit}'\n",
    "    "
   ]
  },
  {
   "cell_type": "code",
   "execution_count": 2,
   "id": "2d962ded",
   "metadata": {},
   "outputs": [],
   "source": [
    "new_card = Card('Diamond', 'King')"
   ]
  },
  {
   "cell_type": "code",
   "execution_count": 3,
   "id": "c3066ded",
   "metadata": {},
   "outputs": [
    {
     "name": "stdout",
     "output_type": "stream",
     "text": [
      "King of Diamond\n"
     ]
    }
   ],
   "source": [
    "print(new_card)"
   ]
  },
  {
   "cell_type": "code",
   "execution_count": 17,
   "id": "f140d83c",
   "metadata": {},
   "outputs": [],
   "source": [
    "class Deck:\n",
    "    \n",
    "    def __init__(self):\n",
    "        \n",
    "        self.deck = []\n",
    "        \n",
    "        for suit in suits:\n",
    "            for rank in ranks:\n",
    "                \n",
    "                current_card = Card(suit, rank)\n",
    "                self.deck.append(current_card)\n",
    "                \n",
    "    def shuffle_deck(self):\n",
    "        random.shuffle(self.deck)\n",
    "        \n",
    "    def deal_one(self):\n",
    "        return self.all_cards.pop()\n",
    "    \n",
    "    def __str__(self):\n",
    "        print('The list of cards the deck has are')\n",
    "        for card in self.deck:\n",
    "            print(card)"
   ]
  },
  {
   "cell_type": "code",
   "execution_count": 19,
   "id": "5967ef06",
   "metadata": {},
   "outputs": [
    {
     "name": "stdout",
     "output_type": "stream",
     "text": [
      "The list of cards the deck has are\n",
      "Four of Club\n",
      "Ace of Club\n",
      "Six of Club\n",
      "Five of Club\n",
      "Jack of Club\n",
      "Queen of Club\n",
      "King of Club\n",
      "Ten of Club\n",
      "Three of Club\n",
      "Nine of Club\n",
      "Eight of Club\n",
      "Two of Club\n",
      "Seven of Club\n",
      "Four of Spade\n",
      "Ace of Spade\n",
      "Six of Spade\n",
      "Five of Spade\n",
      "Jack of Spade\n",
      "Queen of Spade\n",
      "King of Spade\n",
      "Ten of Spade\n",
      "Three of Spade\n",
      "Nine of Spade\n",
      "Eight of Spade\n",
      "Two of Spade\n",
      "Seven of Spade\n",
      "Four of Diamond\n",
      "Ace of Diamond\n",
      "Six of Diamond\n",
      "Five of Diamond\n",
      "Jack of Diamond\n",
      "Queen of Diamond\n",
      "King of Diamond\n",
      "Ten of Diamond\n",
      "Three of Diamond\n",
      "Nine of Diamond\n",
      "Eight of Diamond\n",
      "Two of Diamond\n",
      "Seven of Diamond\n",
      "Four of Heart\n",
      "Ace of Heart\n",
      "Six of Heart\n",
      "Five of Heart\n",
      "Jack of Heart\n",
      "Queen of Heart\n",
      "King of Heart\n",
      "Ten of Heart\n",
      "Three of Heart\n",
      "Nine of Heart\n",
      "Eight of Heart\n",
      "Two of Heart\n",
      "Seven of Heart\n"
     ]
    },
    {
     "ename": "TypeError",
     "evalue": "__str__ returned non-string (type NoneType)",
     "output_type": "error",
     "traceback": [
      "\u001b[1;31m---------------------------------------------------------------------------\u001b[0m",
      "\u001b[1;31mTypeError\u001b[0m                                 Traceback (most recent call last)",
      "Cell \u001b[1;32mIn[19], line 2\u001b[0m\n\u001b[0;32m      1\u001b[0m dck \u001b[38;5;241m=\u001b[39m Deck()\n\u001b[1;32m----> 2\u001b[0m \u001b[38;5;28mprint\u001b[39m(dck)\n",
      "\u001b[1;31mTypeError\u001b[0m: __str__ returned non-string (type NoneType)"
     ]
    }
   ],
   "source": [
    "dck = Deck()\n",
    "print(dck)"
   ]
  },
  {
   "cell_type": "code",
   "execution_count": 6,
   "id": "637dadee",
   "metadata": {},
   "outputs": [
    {
     "name": "stdout",
     "output_type": "stream",
     "text": [
      "Jack of Heart\n"
     ]
    }
   ],
   "source": [
    "dck.shuffle_deck()\n",
    "print(dck.all_cards[0])"
   ]
  },
  {
   "cell_type": "code",
   "execution_count": 7,
   "id": "7c5b922a",
   "metadata": {},
   "outputs": [],
   "source": [
    "class Player:\n",
    "    \n",
    "    def __init__(self, name):\n",
    "        \n",
    "        self.name = name\n",
    "        self.all_cards = []\n",
    "        self.bank_account =\n",
    "        \n",
    "    def __str__(self):\n",
    "        return f'Player {self.name} has {len(self.all_cards)} Cards'\n",
    "    \n",
    "    def remove_one(self):\n",
    "        return self.all_cards.pop()\n",
    "    \n",
    "    def add_cards(self, cards):\n",
    "        \n",
    "        if type(cards) == type([]):\n",
    "            self.all_cards.extend(cards)\n",
    "        else:\n",
    "            self.all_cards.append(cards)"
   ]
  },
  {
   "cell_type": "code",
   "execution_count": 8,
   "id": "b504d73a",
   "metadata": {},
   "outputs": [
    {
     "name": "stdout",
     "output_type": "stream",
     "text": [
      "Player Roxane has 0 Cards\n"
     ]
    }
   ],
   "source": [
    "new_player = Player('Roxane')\n",
    "print(new_player)"
   ]
  },
  {
   "cell_type": "code",
   "execution_count": 9,
   "id": "3e48b72b",
   "metadata": {},
   "outputs": [
    {
     "name": "stdout",
     "output_type": "stream",
     "text": [
      "King of Diamond\n"
     ]
    }
   ],
   "source": [
    "new_player.add_cards(new_card)\n",
    "print(new_player.all_cards[0])"
   ]
  },
  {
   "cell_type": "code",
   "execution_count": 10,
   "id": "e8748821",
   "metadata": {},
   "outputs": [
    {
     "name": "stdout",
     "output_type": "stream",
     "text": [
      "Player Roxane has 1 Cards\n"
     ]
    }
   ],
   "source": [
    "print(new_player)"
   ]
  },
  {
   "cell_type": "code",
   "execution_count": 11,
   "id": "0dd57f4b",
   "metadata": {},
   "outputs": [],
   "source": [
    "class BankAccount:\n",
    "    \n",
    "    def __init__(self, owner, balance):\n",
    "        self.owner = owner\n",
    "        self.balance = balance\n",
    "        \n",
    "    def __str__(self):\n",
    "        return f'The balance of {self.owner} is {self.balance}'\n",
    "    \n",
    "    def credit_account(self, credit_amount):\n",
    "        self.balance += credit_amount\n",
    "        \n",
    "    def debit_account(self, debit_amount):\n",
    "        if debit_amount > self.balance:\n",
    "            print(f'Not enough fund in your account {self.owner}')\n",
    "        else:\n",
    "            self.balance -= debit_amount\n",
    "            "
   ]
  },
  {
   "cell_type": "code",
   "execution_count": 12,
   "id": "37a56614",
   "metadata": {},
   "outputs": [],
   "source": [
    "class Hand:\n",
    "    \n",
    "    def __init__(self):\n",
    "        \n",
    "        self.cards = []\n",
    "        self.value = 0\n",
    "        self.aces = 0\n",
    "        \n",
    "    def add_card(self, card):\n",
    "        self.cards.append(card)\n",
    "        \n",
    "    def adjust_for_ace(self):\n",
    "        pass\n",
    "    \n",
    "    \n",
    "        "
   ]
  },
  {
   "cell_type": "code",
   "execution_count": 20,
   "id": "00ccf7d5",
   "metadata": {},
   "outputs": [],
   "source": [
    "class Chips:\n",
    "    \n",
    "    def __init__(self):\n",
    "        \n",
    "        self.total = 100\n",
    "        self.bet = 0\n",
    "        \n",
    "    def win_bet(self):\n",
    "        self.total += self.bet\n",
    "    \n",
    "    def lose_bet(self):\n",
    "        self.total -= self.bet\n",
    "        \n",
    "    def take_bets(self):\n",
    "        \n",
    "        while True:\n",
    "            try:\n",
    "                bet_amount = input('Please input your bet for the game')\n",
    "            except:\n",
    "                print('Please enter the amount as integer')\n",
    "            else:\n",
    "                break\n",
    "                \n",
    "        self.bet = int(bet_amount)\n",
    "            \n",
    "        "
   ]
  },
  {
   "cell_type": "code",
   "execution_count": null,
   "id": "685f01d0",
   "metadata": {},
   "outputs": [],
   "source": [
    "class gameService:\n",
    "    \n",
    "    def __init__(self):\n",
    "        pass\n",
    "    \n",
    "    def hit(hand, deck):\n",
    "        \n",
    "        hand.cards.append(deck.deal_one())\n",
    "        \n",
    "    def hit_or_stand(hand, deck):\n",
    "        global playing"
   ]
  }
 ],
 "metadata": {
  "kernelspec": {
   "display_name": "Python 3 (ipykernel)",
   "language": "python",
   "name": "python3"
  },
  "language_info": {
   "codemirror_mode": {
    "name": "ipython",
    "version": 3
   },
   "file_extension": ".py",
   "mimetype": "text/x-python",
   "name": "python",
   "nbconvert_exporter": "python",
   "pygments_lexer": "ipython3",
   "version": "3.11.5"
  }
 },
 "nbformat": 4,
 "nbformat_minor": 5
}
