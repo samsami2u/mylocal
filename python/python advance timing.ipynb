{
 "cells": [
  {
   "cell_type": "code",
   "execution_count": 1,
   "id": "9132279f",
   "metadata": {},
   "outputs": [],
   "source": [
    "import timeit"
   ]
  },
  {
   "cell_type": "code",
   "execution_count": 2,
   "id": "5123b109",
   "metadata": {},
   "outputs": [],
   "source": [
    "def func_one(n):\n",
    "    \n",
    "    return [str(num) for num in range(n)]"
   ]
  },
  {
   "cell_type": "code",
   "execution_count": 3,
   "id": "503a5b1f",
   "metadata": {},
   "outputs": [
    {
     "data": {
      "text/plain": [
       "['0', '1', '2', '3', '4']"
      ]
     },
     "execution_count": 3,
     "metadata": {},
     "output_type": "execute_result"
    }
   ],
   "source": [
    "func_one(5)"
   ]
  },
  {
   "cell_type": "code",
   "execution_count": 6,
   "id": "1a3a7e4b",
   "metadata": {},
   "outputs": [],
   "source": [
    "def func_two(n):\n",
    "    \n",
    "    return list(map(str, range(n)))"
   ]
  },
  {
   "cell_type": "code",
   "execution_count": 7,
   "id": "c87aacb8",
   "metadata": {},
   "outputs": [
    {
     "data": {
      "text/plain": [
       "['0', '1', '2', '3', '4']"
      ]
     },
     "execution_count": 7,
     "metadata": {},
     "output_type": "execute_result"
    }
   ],
   "source": [
    "func_two(5)"
   ]
  },
  {
   "cell_type": "code",
   "execution_count": 8,
   "id": "aaca8436",
   "metadata": {},
   "outputs": [],
   "source": [
    "import time"
   ]
  },
  {
   "cell_type": "code",
   "execution_count": 13,
   "id": "a064b729",
   "metadata": {},
   "outputs": [
    {
     "name": "stdout",
     "output_type": "stream",
     "text": [
      "4.2679219245910645\n"
     ]
    }
   ],
   "source": [
    "# current time\n",
    "start_time = time.time()\n",
    "# run code\n",
    "result = func_one(10000000)\n",
    "# current time\n",
    "end_time = time.time()\n",
    "# elapse time\n",
    "elapsed_time = end_time - start_time\n",
    "\n",
    "print(elapsed_time)"
   ]
  },
  {
   "cell_type": "code",
   "execution_count": 14,
   "id": "52a6983d",
   "metadata": {},
   "outputs": [
    {
     "name": "stdout",
     "output_type": "stream",
     "text": [
      "3.4489567279815674\n"
     ]
    }
   ],
   "source": [
    "# current time\n",
    "start_time = time.time()\n",
    "# run code\n",
    "result = func_two(10000000)\n",
    "# current time\n",
    "end_time = time.time()\n",
    "# elapse time\n",
    "elapsed_time = end_time - start_time\n",
    "\n",
    "print(elapsed_time)"
   ]
  },
  {
   "cell_type": "code",
   "execution_count": 17,
   "id": "5a9d91c4",
   "metadata": {},
   "outputs": [
    {
     "data": {
      "text/plain": [
       "17.66015770001104"
      ]
     },
     "execution_count": 17,
     "metadata": {},
     "output_type": "execute_result"
    }
   ],
   "source": [
    "stmt_one = '''\n",
    "func_one(100)\n",
    "'''\n",
    "setup = '''\n",
    "def func_one(n):\n",
    "    \n",
    "    return [str(num) for num in range(n)]\n",
    "'''\n",
    "timeit.timeit(stmt_one, setup, number=1000000)"
   ]
  },
  {
   "cell_type": "code",
   "execution_count": 18,
   "id": "1b36fb72",
   "metadata": {},
   "outputs": [
    {
     "data": {
      "text/plain": [
       "19.23602439998649"
      ]
     },
     "execution_count": 18,
     "metadata": {},
     "output_type": "execute_result"
    }
   ],
   "source": [
    "stmt_two = '''\n",
    "func_two(100)\n",
    "'''\n",
    "setup_two = '''\n",
    "def func_two(n):\n",
    "    \n",
    "    return list(map(str, range(n)))\n",
    "'''\n",
    "timeit.timeit(stmt_two, setup_two, number=1000000)"
   ]
  },
  {
   "cell_type": "code",
   "execution_count": null,
   "id": "6b3ea6b8",
   "metadata": {},
   "outputs": [],
   "source": [
    "%%timeit\n",
    "func_one(1000)"
   ]
  },
  {
   "cell_type": "code",
   "execution_count": null,
   "id": "a5de5932",
   "metadata": {},
   "outputs": [],
   "source": [
    "%%timeit\n",
    "func_two"
   ]
  }
 ],
 "metadata": {
  "kernelspec": {
   "display_name": "Python 3 (ipykernel)",
   "language": "python",
   "name": "python3"
  },
  "language_info": {
   "codemirror_mode": {
    "name": "ipython",
    "version": 3
   },
   "file_extension": ".py",
   "mimetype": "text/x-python",
   "name": "python",
   "nbconvert_exporter": "python",
   "pygments_lexer": "ipython3",
   "version": "3.11.5"
  }
 },
 "nbformat": 4,
 "nbformat_minor": 5
}
