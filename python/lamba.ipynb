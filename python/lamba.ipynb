{
 "cells": [
  {
   "cell_type": "code",
   "execution_count": 1,
   "id": "11b5ea2d",
   "metadata": {},
   "outputs": [],
   "source": [
    "def square( num ):\n",
    "    return num ** 2"
   ]
  },
  {
   "cell_type": "code",
   "execution_count": 2,
   "id": "fba24947",
   "metadata": {},
   "outputs": [],
   "source": [
    "my_nums = [1, 2, 3, 4, 5]"
   ]
  },
  {
   "cell_type": "code",
   "execution_count": 4,
   "id": "16072af8",
   "metadata": {},
   "outputs": [
    {
     "data": {
      "text/plain": [
       "<map at 0x2eec7e9c5b0>"
      ]
     },
     "execution_count": 4,
     "metadata": {},
     "output_type": "execute_result"
    }
   ],
   "source": [
    "map( square, my_nums )"
   ]
  },
  {
   "cell_type": "code",
   "execution_count": 5,
   "id": "201b9bad",
   "metadata": {},
   "outputs": [
    {
     "name": "stdout",
     "output_type": "stream",
     "text": [
      "1\n",
      "4\n",
      "9\n",
      "16\n",
      "25\n"
     ]
    }
   ],
   "source": [
    "for itm in map( square, my_nums ):\n",
    "    print( itm )"
   ]
  },
  {
   "cell_type": "code",
   "execution_count": 6,
   "id": "c53bf8b4",
   "metadata": {},
   "outputs": [
    {
     "data": {
      "text/plain": [
       "[1, 4, 9, 16, 25]"
      ]
     },
     "execution_count": 6,
     "metadata": {},
     "output_type": "execute_result"
    }
   ],
   "source": [
    "list( map(square, my_nums) )"
   ]
  },
  {
   "cell_type": "code",
   "execution_count": 7,
   "id": "f5c7c7db",
   "metadata": {},
   "outputs": [],
   "source": [
    "def splicer( string ):\n",
    "    if len(string) % 2 == 0:\n",
    "        return 'even'\n",
    "    else:\n",
    "        return string[0]"
   ]
  },
  {
   "cell_type": "code",
   "execution_count": 8,
   "id": "f9499d87",
   "metadata": {},
   "outputs": [],
   "source": [
    "names = [ 'Andy', 'eve', 'Sally' ]"
   ]
  },
  {
   "cell_type": "code",
   "execution_count": 11,
   "id": "c420e3de",
   "metadata": {},
   "outputs": [
    {
     "data": {
      "text/plain": [
       "['even', 'e', 'S']"
      ]
     },
     "execution_count": 11,
     "metadata": {},
     "output_type": "execute_result"
    }
   ],
   "source": [
    "list( map( splicer, names ) )"
   ]
  },
  {
   "cell_type": "code",
   "execution_count": 13,
   "id": "c3ea3985",
   "metadata": {},
   "outputs": [],
   "source": [
    "def check_even( num ):\n",
    "    return num % 2 == 0"
   ]
  },
  {
   "cell_type": "code",
   "execution_count": 14,
   "id": "a05c8675",
   "metadata": {},
   "outputs": [],
   "source": [
    "mynums = [ 2, 345, 54, 23, 76, 45, 9 ]"
   ]
  },
  {
   "cell_type": "code",
   "execution_count": 15,
   "id": "8bd4366f",
   "metadata": {},
   "outputs": [
    {
     "data": {
      "text/plain": [
       "[2, 54, 76]"
      ]
     },
     "execution_count": 15,
     "metadata": {},
     "output_type": "execute_result"
    }
   ],
   "source": [
    "list ( filter(check_even, mynums) )"
   ]
  },
  {
   "cell_type": "code",
   "execution_count": 17,
   "id": "046ad052",
   "metadata": {},
   "outputs": [],
   "source": [
    "def square( num ): return num ** 2"
   ]
  },
  {
   "cell_type": "code",
   "execution_count": 20,
   "id": "9edf636c",
   "metadata": {},
   "outputs": [],
   "source": [
    "square = lambda num: num ** 2"
   ]
  },
  {
   "cell_type": "code",
   "execution_count": 21,
   "id": "63e0982f",
   "metadata": {},
   "outputs": [
    {
     "data": {
      "text/plain": [
       "625"
      ]
     },
     "execution_count": 21,
     "metadata": {},
     "output_type": "execute_result"
    }
   ],
   "source": [
    "square(25)"
   ]
  },
  {
   "cell_type": "code",
   "execution_count": 26,
   "id": "ee0468c0",
   "metadata": {},
   "outputs": [
    {
     "data": {
      "text/plain": [
       "[2, 54, 76]"
      ]
     },
     "execution_count": 26,
     "metadata": {},
     "output_type": "execute_result"
    }
   ],
   "source": [
    "list( filter( lambda num: num % 2==0, mynums ) )"
   ]
  },
  {
   "cell_type": "code",
   "execution_count": 29,
   "id": "fb4af53b",
   "metadata": {},
   "outputs": [],
   "source": [
    "def print( string ):\n",
    "    print( ' Custom Print: {}'.format( string ) )"
   ]
  },
  {
   "cell_type": "code",
   "execution_count": 30,
   "id": "2ad511ff",
   "metadata": {},
   "outputs": [
    {
     "ename": "RecursionError",
     "evalue": "maximum recursion depth exceeded while calling a Python object",
     "output_type": "error",
     "traceback": [
      "\u001b[1;31m---------------------------------------------------------------------------\u001b[0m",
      "\u001b[1;31mRecursionError\u001b[0m                            Traceback (most recent call last)",
      "Cell \u001b[1;32mIn[30], line 1\u001b[0m\n\u001b[1;32m----> 1\u001b[0m \u001b[38;5;28mprint\u001b[39m( \u001b[38;5;124m'\u001b[39m\u001b[38;5;124mHello\u001b[39m\u001b[38;5;124m'\u001b[39m )\n",
      "Cell \u001b[1;32mIn[29], line 2\u001b[0m, in \u001b[0;36mprint\u001b[1;34m(string)\u001b[0m\n\u001b[0;32m      1\u001b[0m \u001b[38;5;28;01mdef\u001b[39;00m \u001b[38;5;21mprint\u001b[39m( string ):\n\u001b[1;32m----> 2\u001b[0m     \u001b[38;5;28mprint\u001b[39m( \u001b[38;5;124m'\u001b[39m\u001b[38;5;124m Custom Print: \u001b[39m\u001b[38;5;132;01m{}\u001b[39;00m\u001b[38;5;124m'\u001b[39m\u001b[38;5;241m.\u001b[39mformat( string ) )\n",
      "Cell \u001b[1;32mIn[29], line 2\u001b[0m, in \u001b[0;36mprint\u001b[1;34m(string)\u001b[0m\n\u001b[0;32m      1\u001b[0m \u001b[38;5;28;01mdef\u001b[39;00m \u001b[38;5;21mprint\u001b[39m( string ):\n\u001b[1;32m----> 2\u001b[0m     \u001b[38;5;28mprint\u001b[39m( \u001b[38;5;124m'\u001b[39m\u001b[38;5;124m Custom Print: \u001b[39m\u001b[38;5;132;01m{}\u001b[39;00m\u001b[38;5;124m'\u001b[39m\u001b[38;5;241m.\u001b[39mformat( string ) )\n",
      "    \u001b[1;31m[... skipping similar frames: print at line 2 (2971 times)]\u001b[0m\n",
      "Cell \u001b[1;32mIn[29], line 2\u001b[0m, in \u001b[0;36mprint\u001b[1;34m(string)\u001b[0m\n\u001b[0;32m      1\u001b[0m \u001b[38;5;28;01mdef\u001b[39;00m \u001b[38;5;21mprint\u001b[39m( string ):\n\u001b[1;32m----> 2\u001b[0m     \u001b[38;5;28mprint\u001b[39m( \u001b[38;5;124m'\u001b[39m\u001b[38;5;124m Custom Print: \u001b[39m\u001b[38;5;132;01m{}\u001b[39;00m\u001b[38;5;124m'\u001b[39m\u001b[38;5;241m.\u001b[39mformat( string ) )\n",
      "\u001b[1;31mRecursionError\u001b[0m: maximum recursion depth exceeded while calling a Python object"
     ]
    }
   ],
   "source": [
    "print( 'Hello' )"
   ]
  },
  {
   "cell_type": "code",
   "execution_count": 5,
   "id": "1d4f0b50",
   "metadata": {},
   "outputs": [
    {
     "name": "stdout",
     "output_type": "stream",
     "text": [
      "Hello Great one\n"
     ]
    }
   ],
   "source": [
    "name = 'It is a global string'\n",
    "\n",
    "def greet():\n",
    "    \n",
    "    name = 'Sachin'\n",
    "    \n",
    "    def hello():\n",
    "        name = 'Great one'\n",
    "        print( 'Hello {}'.format(name) )\n",
    "        \n",
    "    hello()\n",
    "    \n",
    "greet()"
   ]
  },
  {
   "cell_type": "code",
   "execution_count": 6,
   "id": "fdb963fa",
   "metadata": {},
   "outputs": [
    {
     "ename": "NameError",
     "evalue": "name 'hello' is not defined",
     "output_type": "error",
     "traceback": [
      "\u001b[1;31m---------------------------------------------------------------------------\u001b[0m",
      "\u001b[1;31mNameError\u001b[0m                                 Traceback (most recent call last)",
      "Cell \u001b[1;32mIn[6], line 1\u001b[0m\n\u001b[1;32m----> 1\u001b[0m hello()\n",
      "\u001b[1;31mNameError\u001b[0m: name 'hello' is not defined"
     ]
    }
   ],
   "source": [
    "hello()"
   ]
  },
  {
   "cell_type": "code",
   "execution_count": 119,
   "id": "b46b5523",
   "metadata": {},
   "outputs": [],
   "source": [
    "from math import pi\n",
    "\n",
    "def vol( rad ):\n",
    "    return (4/3) * pi * (rad ** 3)"
   ]
  },
  {
   "cell_type": "code",
   "execution_count": 120,
   "id": "186000d0",
   "metadata": {},
   "outputs": [
    {
     "data": {
      "text/plain": [
       "14137.166941154068"
      ]
     },
     "execution_count": 120,
     "metadata": {},
     "output_type": "execute_result"
    }
   ],
   "source": [
    "vol(15)"
   ]
  },
  {
   "cell_type": "code",
   "execution_count": 121,
   "id": "b64920ea",
   "metadata": {},
   "outputs": [
    {
     "data": {
      "text/plain": [
       "33.510321638291124"
      ]
     },
     "execution_count": 121,
     "metadata": {},
     "output_type": "execute_result"
    }
   ],
   "source": [
    "vol(2)"
   ]
  },
  {
   "cell_type": "code",
   "execution_count": 125,
   "id": "08788043",
   "metadata": {},
   "outputs": [],
   "source": [
    "def ran_check(num, low, high):\n",
    "    #return num >= low and num < high\n",
    "    return num in range(low, high+1)"
   ]
  },
  {
   "cell_type": "code",
   "execution_count": 126,
   "id": "dcc5bef0",
   "metadata": {},
   "outputs": [
    {
     "data": {
      "text/plain": [
       "True"
      ]
     },
     "execution_count": 126,
     "metadata": {},
     "output_type": "execute_result"
    }
   ],
   "source": [
    "ran_check( 3, 2, 5 )"
   ]
  },
  {
   "cell_type": "code",
   "execution_count": 30,
   "id": "11c431b2",
   "metadata": {},
   "outputs": [],
   "source": [
    "def up_low(s):\n",
    "    upper_lst = list( filter( lambda st: st.isupper(), s ) )\n",
    "    lower_lst = list( filter( lambda st: st.islower(), s ) )\n",
    "    \n",
    "    print( 'Sample string: {s}' )\n",
    "    print( 'No. of Upper case characters: {}'.format( len(upper_lst) ) )\n",
    "    print( 'No. of Lower case characters: {}'.format( len(lower_lst) ) )"
   ]
  },
  {
   "cell_type": "code",
   "execution_count": 32,
   "id": "c344be70",
   "metadata": {},
   "outputs": [
    {
     "name": "stdout",
     "output_type": "stream",
     "text": [
      "Sample string: {s}\n",
      "No. of Upper case characters: 1\n",
      "No. of Lower case characters: 18\n"
     ]
    }
   ],
   "source": [
    "up_low( 'Hello, how are you today?' )"
   ]
  },
  {
   "cell_type": "code",
   "execution_count": 29,
   "id": "3a5033d5",
   "metadata": {},
   "outputs": [
    {
     "data": {
      "text/plain": [
       "3"
      ]
     },
     "execution_count": 29,
     "metadata": {},
     "output_type": "execute_result"
    }
   ],
   "source": [
    "lst = [5, 3, 4]\n",
    "len(lst)\n"
   ]
  },
  {
   "cell_type": "code",
   "execution_count": 33,
   "id": "d667a99a",
   "metadata": {},
   "outputs": [],
   "source": [
    "def unique_list( lst ):\n",
    "    st = set(lst)\n",
    "    return list(st)"
   ]
  },
  {
   "cell_type": "code",
   "execution_count": 35,
   "id": "d68504cb",
   "metadata": {},
   "outputs": [],
   "source": [
    "lst = [1,1,1,1,3,3,3,3,45,5,5,5,5,6,65,7,7]"
   ]
  },
  {
   "cell_type": "code",
   "execution_count": 36,
   "id": "4419f4de",
   "metadata": {},
   "outputs": [
    {
     "data": {
      "text/plain": [
       "[1, 65, 3, 5, 6, 7, 45]"
      ]
     },
     "execution_count": 36,
     "metadata": {},
     "output_type": "execute_result"
    }
   ],
   "source": [
    "unique_list(lst)"
   ]
  },
  {
   "cell_type": "code",
   "execution_count": 47,
   "id": "ca2a41ef",
   "metadata": {},
   "outputs": [],
   "source": [
    "def multiply( lst ):\n",
    "   # return map( lambda num: rtn * num, lst) \n",
    "    \n",
    "    rtn = 1\n",
    "    for num in lst:\n",
    "        rtn *= num\n",
    "        \n",
    "    return rtn"
   ]
  },
  {
   "cell_type": "code",
   "execution_count": 51,
   "id": "edc40270",
   "metadata": {},
   "outputs": [],
   "source": [
    "lst = [1, 2, 3, 4, 5, -6 ]"
   ]
  },
  {
   "cell_type": "code",
   "execution_count": 52,
   "id": "66f1098f",
   "metadata": {},
   "outputs": [],
   "source": [
    "lt = multiply( lst )"
   ]
  },
  {
   "cell_type": "code",
   "execution_count": 53,
   "id": "6390f5bf",
   "metadata": {},
   "outputs": [
    {
     "data": {
      "text/plain": [
       "-720"
      ]
     },
     "execution_count": 53,
     "metadata": {},
     "output_type": "execute_result"
    }
   ],
   "source": [
    "lt"
   ]
  },
  {
   "cell_type": "code",
   "execution_count": 67,
   "id": "320a0007",
   "metadata": {},
   "outputs": [],
   "source": [
    "def palindrome(s):\n",
    "    # s = 'nurses run'\n",
    "    s = s.replace(' ', '')\n",
    "    return s[0::].lower() == s[::-1].lower()"
   ]
  },
  {
   "cell_type": "code",
   "execution_count": 69,
   "id": "c45cb82e",
   "metadata": {},
   "outputs": [
    {
     "data": {
      "text/plain": [
       "True"
      ]
     },
     "execution_count": 69,
     "metadata": {},
     "output_type": "execute_result"
    }
   ],
   "source": [
    "palindrome('nurses run')"
   ]
  },
  {
   "cell_type": "code",
   "execution_count": 111,
   "id": "5c37cd3f",
   "metadata": {},
   "outputs": [],
   "source": [
    "import string\n",
    "\n",
    "def ispangram(string, alphabet=string.ascii_lowercase):\n",
    "    \n",
    "    string = string.replace(' ', '')\n",
    "    string = string.lower()\n",
    "    \n",
    "    strlst = list(string)\n",
    "    \n",
    "    strset = set(strlst)\n",
    "    \n",
    "    strlst = list(strset)\n",
    "    \n",
    "    strlst.sort()\n",
    "    \n",
    "    return_string = ''\n",
    "    \n",
    "    for letter in strlst:\n",
    "        return_string += letter\n",
    "        \n",
    "    return return_string == alphabet"
   ]
  },
  {
   "cell_type": "code",
   "execution_count": 112,
   "id": "d9583dfd",
   "metadata": {},
   "outputs": [
    {
     "data": {
      "text/plain": [
       "False"
      ]
     },
     "execution_count": 112,
     "metadata": {},
     "output_type": "execute_result"
    }
   ],
   "source": [
    "ispangram('tst')"
   ]
  },
  {
   "cell_type": "code",
   "execution_count": 113,
   "id": "96ecdf31",
   "metadata": {},
   "outputs": [
    {
     "data": {
      "text/plain": [
       "True"
      ]
     },
     "execution_count": 113,
     "metadata": {},
     "output_type": "execute_result"
    }
   ],
   "source": [
    "ispangram('The quick brown fox jumps over the lazy dog')"
   ]
  },
  {
   "cell_type": "code",
   "execution_count": 115,
   "id": "9f5bc55d",
   "metadata": {},
   "outputs": [
    {
     "data": {
      "text/plain": [
       "True"
      ]
     },
     "execution_count": 115,
     "metadata": {},
     "output_type": "execute_result"
    }
   ],
   "source": [
    "ispangram('The quick brown fox jumps over the lazy dog')"
   ]
  },
  {
   "cell_type": "code",
   "execution_count": 4,
   "id": "f4e3e6a8",
   "metadata": {},
   "outputs": [],
   "source": [
    "def display(*row):\n",
    "    print(row[0])\n",
    "    print(row[1])\n",
    "    print(row[2])"
   ]
  },
  {
   "cell_type": "code",
   "execution_count": 6,
   "id": "62dcf172",
   "metadata": {},
   "outputs": [
    {
     "name": "stdout",
     "output_type": "stream",
     "text": [
      "[1, 2, 3]\n",
      "[4, 5, 6]\n",
      "[7, 8, 9]\n"
     ]
    }
   ],
   "source": [
    "display([1,2,3], [4,5,6], [7,8,9])"
   ]
  },
  {
   "cell_type": "code",
   "execution_count": 13,
   "id": "1f07e70d",
   "metadata": {},
   "outputs": [],
   "source": [
    "row1 = [' ', ' ', ' ']\n",
    "row2 = [' ', ' ', ' ']\n",
    "row3 = [' ', ' ', ' ']"
   ]
  },
  {
   "cell_type": "code",
   "execution_count": 14,
   "id": "bb667523",
   "metadata": {},
   "outputs": [
    {
     "name": "stdout",
     "output_type": "stream",
     "text": [
      "[' ', ' ', ' ']\n",
      "[' ', ' ', ' ']\n",
      "[' ', ' ', ' ']\n"
     ]
    }
   ],
   "source": [
    "display(row1, row2, row3)"
   ]
  },
  {
   "cell_type": "code",
   "execution_count": 15,
   "id": "34e52176",
   "metadata": {},
   "outputs": [],
   "source": [
    "row2[1] = 'O'"
   ]
  },
  {
   "cell_type": "code",
   "execution_count": 16,
   "id": "0100c513",
   "metadata": {},
   "outputs": [
    {
     "name": "stdout",
     "output_type": "stream",
     "text": [
      "[' ', ' ', ' ']\n",
      "[' ', 'O', ' ']\n",
      "[' ', ' ', ' ']\n"
     ]
    }
   ],
   "source": [
    "display(row1, row2, row3)"
   ]
  },
  {
   "cell_type": "code",
   "execution_count": 18,
   "id": "1da69666",
   "metadata": {},
   "outputs": [
    {
     "name": "stdout",
     "output_type": "stream",
     "text": [
      "Please enter a value: O\n"
     ]
    }
   ],
   "source": [
    "result = input(\"Please enter a value: \")"
   ]
  },
  {
   "cell_type": "code",
   "execution_count": 1,
   "id": "de048869",
   "metadata": {},
   "outputs": [],
   "source": [
    "def user_choice():\n",
    "    \n",
    "    choice = 'alphabet'\n",
    "    range_start = 1\n",
    "    range_end = 9\n",
    "    acceptable_range = range(range_start, range_end+1)\n",
    "    within_range = False\n",
    "    \n",
    "    while choice.isdigit() == False or within_range == False:\n",
    "        \n",
    "        choice = input(\"Please input a number from {} to {}: \".format(range_start, range_end))\n",
    "        \n",
    "        if choice.isdigit() == False:\n",
    "            print(\"Your input is NOT a number!\")\n",
    "                \n",
    "        if choice.isdigit() == True:\n",
    "            if int(choice) in acceptable_range:\n",
    "                within_range = True\n",
    "            else:\n",
    "                within_range = False\n",
    "                print(f\"Your input is out of range ({range_start}-{range_end})\")\n",
    "    \n",
    "    return int(choice)"
   ]
  },
  {
   "cell_type": "code",
   "execution_count": 4,
   "id": "de945c4b",
   "metadata": {},
   "outputs": [
    {
     "name": "stdout",
     "output_type": "stream",
     "text": [
      "Please input a number from 1 to 9: 10\n",
      "Your input is out of range (1-9)\n",
      "Please input a number from 1 to 9: 10\n",
      "Your input is out of range (1-9)\n",
      "Please input a number from 1 to 9: 5\n"
     ]
    },
    {
     "data": {
      "text/plain": [
       "5"
      ]
     },
     "execution_count": 4,
     "metadata": {},
     "output_type": "execute_result"
    }
   ],
   "source": [
    "user_choice()"
   ]
  },
  {
   "cell_type": "code",
   "execution_count": 5,
   "id": "76687aa9",
   "metadata": {},
   "outputs": [],
   "source": [
    "def display_game(game_list):\n",
    "    \n",
    "    print( 'Here is the current list! ' )\n",
    "    print(game_list)"
   ]
  },
  {
   "cell_type": "code",
   "execution_count": 6,
   "id": "0a0eba2a",
   "metadata": {},
   "outputs": [],
   "source": [
    "def position_choice():\n",
    "    \n",
    "    choice = 'a'\n",
    "    acceptable_list = ['0', '1', '2']\n",
    "    \n",
    "    while choice not in acceptable_list:\n",
    "        \n",
    "        choice = input( 'Please enter a value from {}'.format(acceptable_list) )\n",
    "        \n",
    "        if choice not in acceptable_list:\n",
    "            print( 'Sorry, the input is not from the range {}'.format(acceptable_list) )\n",
    "            \n",
    "    return int(choice)"
   ]
  },
  {
   "cell_type": "code",
   "execution_count": 7,
   "id": "49adaddb",
   "metadata": {},
   "outputs": [],
   "source": [
    "def replacement_choice(game_list, position):\n",
    "    \n",
    "    user_replacement = input('Type a string to put place at position.')\n",
    "    \n",
    "    game_list[position] = user_replacement\n",
    "    \n",
    "    return game_list"
   ]
  },
  {
   "cell_type": "code",
   "execution_count": 10,
   "id": "43a981ac",
   "metadata": {},
   "outputs": [],
   "source": [
    "def gameon_choice():\n",
    "    \n",
    "    choice = 'wrong'\n",
    "    \n",
    "    while choice not in ['Y', 'N']:\n",
    "        \n",
    "        choice = input( 'Keep playing? Y or N' )\n",
    "        \n",
    "        if choice not in ['Y', 'N']:\n",
    "            print('Sorry, I don\\'t understand, please input either Y or N')\n",
    "            \n",
    "    return choice == 'Y'"
   ]
  },
  {
   "cell_type": "code",
   "execution_count": 11,
   "id": "aaf0f152",
   "metadata": {},
   "outputs": [
    {
     "name": "stdout",
     "output_type": "stream",
     "text": [
      "Keep playing? Y or N5\n",
      "Sorry, I don't understand, please input either Y or N\n",
      "Keep playing? Y or Nw\n",
      "Sorry, I don't understand, please input either Y or N\n",
      "Keep playing? Y or Nn\n",
      "Sorry, I don't understand, please input either Y or N\n",
      "Keep playing? Y or NY\n"
     ]
    },
    {
     "data": {
      "text/plain": [
       "True"
      ]
     },
     "execution_count": 11,
     "metadata": {},
     "output_type": "execute_result"
    }
   ],
   "source": [
    "gameon_choice()"
   ]
  },
  {
   "cell_type": "code",
   "execution_count": 12,
   "id": "4ff9e07b",
   "metadata": {},
   "outputs": [
    {
     "name": "stdout",
     "output_type": "stream",
     "text": [
      "Type a string to put place at position.Middle\n"
     ]
    },
    {
     "data": {
      "text/plain": [
       "['0', 'Middle', '2']"
      ]
     },
     "execution_count": 12,
     "metadata": {},
     "output_type": "execute_result"
    }
   ],
   "source": [
    "game_list = ['0', '1', '2']\n",
    "position = 1\n",
    "\n",
    "replacement_choice(game_list, position)"
   ]
  },
  {
   "cell_type": "code",
   "execution_count": 13,
   "id": "37a5c78d",
   "metadata": {},
   "outputs": [
    {
     "name": "stdout",
     "output_type": "stream",
     "text": [
      "Please enter a value from ['0', '1', '2']2\n"
     ]
    },
    {
     "data": {
      "text/plain": [
       "2"
      ]
     },
     "execution_count": 13,
     "metadata": {},
     "output_type": "execute_result"
    }
   ],
   "source": [
    "posistion_choice()"
   ]
  },
  {
   "cell_type": "code",
   "execution_count": 14,
   "id": "fa0a13b3",
   "metadata": {},
   "outputs": [
    {
     "name": "stdout",
     "output_type": "stream",
     "text": [
      "Please enter a value from ['0', '1', '2']a\n",
      "Sorry, the input is not from the range ['0', '1', '2']\n",
      "Please enter a value from ['0', '1', '2']6\n",
      "Sorry, the input is not from the range ['0', '1', '2']\n",
      "Please enter a value from ['0', '1', '2']t\n",
      "Sorry, the input is not from the range ['0', '1', '2']\n",
      "Please enter a value from ['0', '1', '2']3\n",
      "Sorry, the input is not from the range ['0', '1', '2']\n",
      "Please enter a value from ['0', '1', '2']2\n"
     ]
    },
    {
     "data": {
      "text/plain": [
       "2"
      ]
     },
     "execution_count": 14,
     "metadata": {},
     "output_type": "execute_result"
    }
   ],
   "source": [
    "posistion_choice()"
   ]
  },
  {
   "cell_type": "code",
   "execution_count": 16,
   "id": "400aeace",
   "metadata": {},
   "outputs": [
    {
     "name": "stdout",
     "output_type": "stream",
     "text": [
      "Here is the current list! \n",
      "[0, 1, 2]\n",
      "Please enter a value from ['0', '1', '2']2\n",
      "Type a string to put place at position.End\n",
      "Here is the current list! \n",
      "[0, 1, 'End']\n",
      "Keep playing? Y or NY\n",
      "Here is the current list! \n",
      "[0, 1, 'End']\n",
      "Please enter a value from ['0', '1', '2']1\n",
      "Type a string to put place at position.Middle\n",
      "Here is the current list! \n",
      "[0, 'Middle', 'End']\n",
      "Keep playing? Y or NY\n",
      "Here is the current list! \n",
      "[0, 'Middle', 'End']\n",
      "Please enter a value from ['0', '1', '2']2\n",
      "Type a string to put place at position.Ending\n",
      "Here is the current list! \n",
      "[0, 'Middle', 'Ending']\n",
      "Keep playing? Y or NN\n"
     ]
    }
   ],
   "source": [
    "game_on = True\n",
    "game_list = [0, 1, 2]\n",
    "\n",
    "while game_on:\n",
    "    \n",
    "    display_game(game_list)\n",
    "    \n",
    "    position = posistion_choice()\n",
    "    \n",
    "    game_list = replacement_choice(game_list, position)\n",
    "    \n",
    "    display_game(game_list)\n",
    "    \n",
    "    game_on = gameon_choice()"
   ]
  },
  {
   "cell_type": "code",
   "execution_count": null,
   "id": "07184f31",
   "metadata": {},
   "outputs": [],
   "source": []
  }
 ],
 "metadata": {
  "kernelspec": {
   "display_name": "Python 3 (ipykernel)",
   "language": "python",
   "name": "python3"
  },
  "language_info": {
   "codemirror_mode": {
    "name": "ipython",
    "version": 3
   },
   "file_extension": ".py",
   "mimetype": "text/x-python",
   "name": "python",
   "nbconvert_exporter": "python",
   "pygments_lexer": "ipython3",
   "version": "3.11.5"
  }
 },
 "nbformat": 4,
 "nbformat_minor": 5
}
