{
 "cells": [
  {
   "cell_type": "code",
   "execution_count": 1,
   "id": "0ec45623",
   "metadata": {},
   "outputs": [],
   "source": [
    "def square( num ):\n",
    "    return num ** 2"
   ]
  },
  {
   "cell_type": "code",
   "execution_count": 2,
   "id": "09abd2aa",
   "metadata": {},
   "outputs": [],
   "source": [
    "my_nums = [1, 2, 3, 4, 5]"
   ]
  },
  {
   "cell_type": "code",
   "execution_count": 4,
   "id": "83bc233a",
   "metadata": {},
   "outputs": [
    {
     "data": {
      "text/plain": [
       "<map at 0x2eec7e9c5b0>"
      ]
     },
     "execution_count": 4,
     "metadata": {},
     "output_type": "execute_result"
    }
   ],
   "source": [
    "map( square, my_nums )"
   ]
  },
  {
   "cell_type": "code",
   "execution_count": 5,
   "id": "6eb12e88",
   "metadata": {},
   "outputs": [
    {
     "name": "stdout",
     "output_type": "stream",
     "text": [
      "1\n",
      "4\n",
      "9\n",
      "16\n",
      "25\n"
     ]
    }
   ],
   "source": [
    "for itm in map( square, my_nums ):\n",
    "    print( itm )"
   ]
  },
  {
   "cell_type": "code",
   "execution_count": 6,
   "id": "73ab263d",
   "metadata": {},
   "outputs": [
    {
     "data": {
      "text/plain": [
       "[1, 4, 9, 16, 25]"
      ]
     },
     "execution_count": 6,
     "metadata": {},
     "output_type": "execute_result"
    }
   ],
   "source": [
    "list( map(square, my_nums) )"
   ]
  },
  {
   "cell_type": "code",
   "execution_count": 7,
   "id": "bbbd4d0c",
   "metadata": {},
   "outputs": [],
   "source": [
    "def splicer( string ):\n",
    "    if len(string) % 2 == 0:\n",
    "        return 'even'\n",
    "    else:\n",
    "        return string[0]"
   ]
  },
  {
   "cell_type": "code",
   "execution_count": 8,
   "id": "585e2f7a",
   "metadata": {},
   "outputs": [],
   "source": [
    "names = [ 'Andy', 'eve', 'Sally' ]"
   ]
  },
  {
   "cell_type": "code",
   "execution_count": 11,
   "id": "b33c095c",
   "metadata": {},
   "outputs": [
    {
     "data": {
      "text/plain": [
       "['even', 'e', 'S']"
      ]
     },
     "execution_count": 11,
     "metadata": {},
     "output_type": "execute_result"
    }
   ],
   "source": [
    "list( map( splicer, names ) )"
   ]
  },
  {
   "cell_type": "code",
   "execution_count": 13,
   "id": "e5c5b68e",
   "metadata": {},
   "outputs": [],
   "source": [
    "def check_even( num ):\n",
    "    return num % 2 == 0"
   ]
  },
  {
   "cell_type": "code",
   "execution_count": 14,
   "id": "eea4540c",
   "metadata": {},
   "outputs": [],
   "source": [
    "mynums = [ 2, 345, 54, 23, 76, 45, 9 ]"
   ]
  },
  {
   "cell_type": "code",
   "execution_count": 15,
   "id": "71daca5c",
   "metadata": {},
   "outputs": [
    {
     "data": {
      "text/plain": [
       "[2, 54, 76]"
      ]
     },
     "execution_count": 15,
     "metadata": {},
     "output_type": "execute_result"
    }
   ],
   "source": [
    "list ( filter(check_even, mynums) )"
   ]
  },
  {
   "cell_type": "code",
   "execution_count": 17,
   "id": "b2aca4c6",
   "metadata": {},
   "outputs": [],
   "source": [
    "def square( num ): return num ** 2"
   ]
  },
  {
   "cell_type": "code",
   "execution_count": 20,
   "id": "f0e8a5d0",
   "metadata": {},
   "outputs": [],
   "source": [
    "square = lambda num: num ** 2"
   ]
  },
  {
   "cell_type": "code",
   "execution_count": 21,
   "id": "5271d610",
   "metadata": {},
   "outputs": [
    {
     "data": {
      "text/plain": [
       "625"
      ]
     },
     "execution_count": 21,
     "metadata": {},
     "output_type": "execute_result"
    }
   ],
   "source": [
    "square(25)"
   ]
  },
  {
   "cell_type": "code",
   "execution_count": 26,
   "id": "b1b6c6a7",
   "metadata": {},
   "outputs": [
    {
     "data": {
      "text/plain": [
       "[2, 54, 76]"
      ]
     },
     "execution_count": 26,
     "metadata": {},
     "output_type": "execute_result"
    }
   ],
   "source": [
    "list( filter( lambda num: num % 2==0, mynums ) )"
   ]
  },
  {
   "cell_type": "code",
   "execution_count": 29,
   "id": "7c4603f0",
   "metadata": {},
   "outputs": [],
   "source": [
    "def print( string ):\n",
    "    print( ' Custom Print: {}'.format( string ) )"
   ]
  },
  {
   "cell_type": "code",
   "execution_count": 30,
   "id": "296d5bea",
   "metadata": {},
   "outputs": [
    {
     "ename": "RecursionError",
     "evalue": "maximum recursion depth exceeded while calling a Python object",
     "output_type": "error",
     "traceback": [
      "\u001b[1;31m---------------------------------------------------------------------------\u001b[0m",
      "\u001b[1;31mRecursionError\u001b[0m                            Traceback (most recent call last)",
      "Cell \u001b[1;32mIn[30], line 1\u001b[0m\n\u001b[1;32m----> 1\u001b[0m \u001b[38;5;28mprint\u001b[39m( \u001b[38;5;124m'\u001b[39m\u001b[38;5;124mHello\u001b[39m\u001b[38;5;124m'\u001b[39m )\n",
      "Cell \u001b[1;32mIn[29], line 2\u001b[0m, in \u001b[0;36mprint\u001b[1;34m(string)\u001b[0m\n\u001b[0;32m      1\u001b[0m \u001b[38;5;28;01mdef\u001b[39;00m \u001b[38;5;21mprint\u001b[39m( string ):\n\u001b[1;32m----> 2\u001b[0m     \u001b[38;5;28mprint\u001b[39m( \u001b[38;5;124m'\u001b[39m\u001b[38;5;124m Custom Print: \u001b[39m\u001b[38;5;132;01m{}\u001b[39;00m\u001b[38;5;124m'\u001b[39m\u001b[38;5;241m.\u001b[39mformat( string ) )\n",
      "Cell \u001b[1;32mIn[29], line 2\u001b[0m, in \u001b[0;36mprint\u001b[1;34m(string)\u001b[0m\n\u001b[0;32m      1\u001b[0m \u001b[38;5;28;01mdef\u001b[39;00m \u001b[38;5;21mprint\u001b[39m( string ):\n\u001b[1;32m----> 2\u001b[0m     \u001b[38;5;28mprint\u001b[39m( \u001b[38;5;124m'\u001b[39m\u001b[38;5;124m Custom Print: \u001b[39m\u001b[38;5;132;01m{}\u001b[39;00m\u001b[38;5;124m'\u001b[39m\u001b[38;5;241m.\u001b[39mformat( string ) )\n",
      "    \u001b[1;31m[... skipping similar frames: print at line 2 (2971 times)]\u001b[0m\n",
      "Cell \u001b[1;32mIn[29], line 2\u001b[0m, in \u001b[0;36mprint\u001b[1;34m(string)\u001b[0m\n\u001b[0;32m      1\u001b[0m \u001b[38;5;28;01mdef\u001b[39;00m \u001b[38;5;21mprint\u001b[39m( string ):\n\u001b[1;32m----> 2\u001b[0m     \u001b[38;5;28mprint\u001b[39m( \u001b[38;5;124m'\u001b[39m\u001b[38;5;124m Custom Print: \u001b[39m\u001b[38;5;132;01m{}\u001b[39;00m\u001b[38;5;124m'\u001b[39m\u001b[38;5;241m.\u001b[39mformat( string ) )\n",
      "\u001b[1;31mRecursionError\u001b[0m: maximum recursion depth exceeded while calling a Python object"
     ]
    }
   ],
   "source": [
    "print( 'Hello' )"
   ]
  },
  {
   "cell_type": "code",
   "execution_count": 5,
   "id": "7799e97d",
   "metadata": {},
   "outputs": [
    {
     "name": "stdout",
     "output_type": "stream",
     "text": [
      "Hello Great one\n"
     ]
    }
   ],
   "source": [
    "name = 'It is a global string'\n",
    "\n",
    "def greet():\n",
    "    \n",
    "    name = 'Sachin'\n",
    "    \n",
    "    def hello():\n",
    "        name = 'Great one'\n",
    "        print( 'Hello {}'.format(name) )\n",
    "        \n",
    "    hello()\n",
    "    \n",
    "greet()"
   ]
  },
  {
   "cell_type": "code",
   "execution_count": 6,
   "id": "b0a59eeb",
   "metadata": {},
   "outputs": [
    {
     "ename": "NameError",
     "evalue": "name 'hello' is not defined",
     "output_type": "error",
     "traceback": [
      "\u001b[1;31m---------------------------------------------------------------------------\u001b[0m",
      "\u001b[1;31mNameError\u001b[0m                                 Traceback (most recent call last)",
      "Cell \u001b[1;32mIn[6], line 1\u001b[0m\n\u001b[1;32m----> 1\u001b[0m hello()\n",
      "\u001b[1;31mNameError\u001b[0m: name 'hello' is not defined"
     ]
    }
   ],
   "source": [
    "hello()"
   ]
  },
  {
   "cell_type": "code",
   "execution_count": 11,
   "id": "f505d8ee",
   "metadata": {},
   "outputs": [],
   "source": [
    "def vol( rad ):\n",
    "    return (4/3) * 3.14 * (rad ** 3)"
   ]
  },
  {
   "cell_type": "code",
   "execution_count": 12,
   "id": "9c70ce1b",
   "metadata": {},
   "outputs": [
    {
     "data": {
      "text/plain": [
       "14130.0"
      ]
     },
     "execution_count": 12,
     "metadata": {},
     "output_type": "execute_result"
    }
   ],
   "source": [
    "vol(15)"
   ]
  },
  {
   "cell_type": "code",
   "execution_count": 15,
   "id": "fed9c32a",
   "metadata": {},
   "outputs": [
    {
     "data": {
      "text/plain": [
       "33.49333333333333"
      ]
     },
     "execution_count": 15,
     "metadata": {},
     "output_type": "execute_result"
    }
   ],
   "source": [
    "vol(2)"
   ]
  },
  {
   "cell_type": "code",
   "execution_count": 16,
   "id": "22cf4ee8",
   "metadata": {},
   "outputs": [],
   "source": [
    "def ran_check(num, low, high):\n",
    "    return num >= low and num <= high"
   ]
  },
  {
   "cell_type": "code",
   "execution_count": 20,
   "id": "4117d2f7",
   "metadata": {},
   "outputs": [
    {
     "data": {
      "text/plain": [
       "True"
      ]
     },
     "execution_count": 20,
     "metadata": {},
     "output_type": "execute_result"
    }
   ],
   "source": [
    "ran_check( 3, 2, 3 )"
   ]
  },
  {
   "cell_type": "code",
   "execution_count": 30,
   "id": "9df0fd6a",
   "metadata": {},
   "outputs": [],
   "source": [
    "def up_low(s):\n",
    "    upper_lst = list( filter( lambda st: st.isupper(), s ) )\n",
    "    lower_lst = list( filter( lambda st: st.islower(), s ) )\n",
    "    \n",
    "    print( 'Sample string: {s}' )\n",
    "    print( 'No. of Upper case characters: {}'.format( len(upper_lst) ) )\n",
    "    print( 'No. of Lower case characters: {}'.format( len(lower_lst) ) )"
   ]
  },
  {
   "cell_type": "code",
   "execution_count": 32,
   "id": "488eb31b",
   "metadata": {},
   "outputs": [
    {
     "name": "stdout",
     "output_type": "stream",
     "text": [
      "Sample string: {s}\n",
      "No. of Upper case characters: 1\n",
      "No. of Lower case characters: 18\n"
     ]
    }
   ],
   "source": [
    "up_low( 'Hello, how are you today?' )"
   ]
  },
  {
   "cell_type": "code",
   "execution_count": 29,
   "id": "17a97a97",
   "metadata": {},
   "outputs": [
    {
     "data": {
      "text/plain": [
       "3"
      ]
     },
     "execution_count": 29,
     "metadata": {},
     "output_type": "execute_result"
    }
   ],
   "source": [
    "lst = [5, 3, 4]\n",
    "len(lst)\n"
   ]
  },
  {
   "cell_type": "code",
   "execution_count": 33,
   "id": "e95a422b",
   "metadata": {},
   "outputs": [],
   "source": [
    "def unique_list( lst ):\n",
    "    st = set(lst)\n",
    "    return list(st)"
   ]
  },
  {
   "cell_type": "code",
   "execution_count": 35,
   "id": "0458477e",
   "metadata": {},
   "outputs": [],
   "source": [
    "lst = [1,1,1,1,3,3,3,3,45,5,5,5,5,6,65,7,7]"
   ]
  },
  {
   "cell_type": "code",
   "execution_count": 36,
   "id": "9484bff1",
   "metadata": {},
   "outputs": [
    {
     "data": {
      "text/plain": [
       "[1, 65, 3, 5, 6, 7, 45]"
      ]
     },
     "execution_count": 36,
     "metadata": {},
     "output_type": "execute_result"
    }
   ],
   "source": [
    "unique_list(lst)"
   ]
  },
  {
   "cell_type": "code",
   "execution_count": 47,
   "id": "95230104",
   "metadata": {},
   "outputs": [],
   "source": [
    "def multiply( lst ):\n",
    "   # return map( lambda num: rtn * num, lst) \n",
    "    \n",
    "    rtn = 1\n",
    "    for num in lst:\n",
    "        rtn *= num\n",
    "        \n",
    "    return rtn"
   ]
  },
  {
   "cell_type": "code",
   "execution_count": 51,
   "id": "8b7a5778",
   "metadata": {},
   "outputs": [],
   "source": [
    "lst = [1, 2, 3, 4, 5, -6 ]"
   ]
  },
  {
   "cell_type": "code",
   "execution_count": 52,
   "id": "211b458c",
   "metadata": {},
   "outputs": [],
   "source": [
    "lt = multiply( lst )"
   ]
  },
  {
   "cell_type": "code",
   "execution_count": 53,
   "id": "c6c9293d",
   "metadata": {},
   "outputs": [
    {
     "data": {
      "text/plain": [
       "-720"
      ]
     },
     "execution_count": 53,
     "metadata": {},
     "output_type": "execute_result"
    }
   ],
   "source": [
    "lt"
   ]
  },
  {
   "cell_type": "code",
   "execution_count": 67,
   "id": "1d9d0a46",
   "metadata": {},
   "outputs": [],
   "source": [
    "def palindrome(s):\n",
    "    # s = 'nurses run'\n",
    "    s = s.replace(' ', '')\n",
    "    return s[0::].lower() == s[::-1].lower()"
   ]
  },
  {
   "cell_type": "code",
   "execution_count": 69,
   "id": "14b159ee",
   "metadata": {},
   "outputs": [
    {
     "data": {
      "text/plain": [
       "True"
      ]
     },
     "execution_count": 69,
     "metadata": {},
     "output_type": "execute_result"
    }
   ],
   "source": [
    "palindrome('nurses run')"
   ]
  },
  {
   "cell_type": "code",
   "execution_count": 100,
   "id": "0c96beed",
   "metadata": {},
   "outputs": [],
   "source": [
    "import string\n",
    "\n",
    "def ispangram(string, alphabet=string.ascii_lowercase):\n",
    "    \n",
    "    string = string.replace(' ', '')\n",
    "    \n",
    "    strlst = list(string)\n",
    "    \n",
    "    # strlst.replace(' ', '')\n",
    "    print(strlst)\n",
    "    \n",
    "    strlst.sort()\n",
    "    strset = set(strlst)\n",
    "    \n",
    "    print(strset)\n",
    "    \n",
    "    return_string = ''\n",
    "    \n",
    "    for letter in strset:\n",
    "        return_string += letter\n",
    "        \n",
    "    print( return_string.lower() )\n",
    "        \n",
    "    return return_string.lower() == alphabet"
   ]
  },
  {
   "cell_type": "code",
   "execution_count": 87,
   "id": "7011f550",
   "metadata": {},
   "outputs": [
    {
     "data": {
      "text/plain": [
       "False"
      ]
     },
     "execution_count": 87,
     "metadata": {},
     "output_type": "execute_result"
    }
   ],
   "source": [
    "ispangram('tst')"
   ]
  },
  {
   "cell_type": "code",
   "execution_count": 99,
   "id": "3581cdc2",
   "metadata": {},
   "outputs": [
    {
     "ename": "AttributeError",
     "evalue": "'list' object has no attribute 'replace'",
     "output_type": "error",
     "traceback": [
      "\u001b[1;31m---------------------------------------------------------------------------\u001b[0m",
      "\u001b[1;31mAttributeError\u001b[0m                            Traceback (most recent call last)",
      "Cell \u001b[1;32mIn[99], line 1\u001b[0m\n\u001b[1;32m----> 1\u001b[0m ispangram(\u001b[38;5;124m'\u001b[39m\u001b[38;5;124mThe quick brown fox jumps over the lazy dog\u001b[39m\u001b[38;5;124m'\u001b[39m)\n",
      "Cell \u001b[1;32mIn[98], line 9\u001b[0m, in \u001b[0;36mispangram\u001b[1;34m(string, alphabet)\u001b[0m\n\u001b[0;32m      3\u001b[0m \u001b[38;5;28;01mdef\u001b[39;00m \u001b[38;5;21mispangram\u001b[39m(string, alphabet\u001b[38;5;241m=\u001b[39mstring\u001b[38;5;241m.\u001b[39mascii_lowercase):\n\u001b[0;32m      4\u001b[0m     \n\u001b[0;32m      5\u001b[0m     \u001b[38;5;66;03m# string = ''\u001b[39;00m\n\u001b[0;32m      7\u001b[0m     strlst \u001b[38;5;241m=\u001b[39m \u001b[38;5;28mlist\u001b[39m(string)\n\u001b[1;32m----> 9\u001b[0m     strlst\u001b[38;5;241m.\u001b[39mreplace(\u001b[38;5;124m'\u001b[39m\u001b[38;5;124m \u001b[39m\u001b[38;5;124m'\u001b[39m, \u001b[38;5;124m'\u001b[39m\u001b[38;5;124m'\u001b[39m)\n\u001b[0;32m     10\u001b[0m     \u001b[38;5;28mprint\u001b[39m(strlst)\n\u001b[0;32m     12\u001b[0m     strlst\u001b[38;5;241m.\u001b[39msort()\n",
      "\u001b[1;31mAttributeError\u001b[0m: 'list' object has no attribute 'replace'"
     ]
    }
   ],
   "source": [
    "ispangram('The quick brown fox jumps over the lazy dog')"
   ]
  },
  {
   "cell_type": "code",
   "execution_count": null,
   "id": "ba6693ba",
   "metadata": {},
   "outputs": [],
   "source": []
  }
 ],
 "metadata": {
  "kernelspec": {
   "display_name": "Python 3 (ipykernel)",
   "language": "python",
   "name": "python3"
  },
  "language_info": {
   "codemirror_mode": {
    "name": "ipython",
    "version": 3
   },
   "file_extension": ".py",
   "mimetype": "text/x-python",
   "name": "python",
   "nbconvert_exporter": "python",
   "pygments_lexer": "ipython3",
   "version": "3.11.5"
  }
 },
 "nbformat": 4,
 "nbformat_minor": 5
}
