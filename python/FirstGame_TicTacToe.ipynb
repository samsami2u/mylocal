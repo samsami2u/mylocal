{
 "cells": [
  {
   "cell_type": "code",
   "execution_count": 22,
   "id": "5e641d02",
   "metadata": {},
   "outputs": [],
   "source": [
    "def display_board(tictactoe_list):\n",
    "    \n",
    "    from IPython.display import clear_output\n",
    "    clear_output()\n",
    "    # tictactoe_list = ['#', 'O', 'O', '#', '#', '#', 'X', 'X', 'X']\n",
    "    \n",
    "    whitelist = [ 'X', 'O' ]\n",
    "    \n",
    "    row = '   |   |   '\n",
    "    row_list_first = [' ', ' ', ' ', '|', ' ', ' ', ' ', '|', ' ', ' ', ' ']\n",
    "    row_list_second = [' ', ' ', ' ', '|', ' ', ' ', ' ', '|', ' ', ' ', ' ']\n",
    "    row_list_third = [' ', ' ', ' ', '|', ' ', ' ', ' ', '|', ' ', ' ', ' ']\n",
    "    separation = '-----------'\n",
    "    \n",
    "    for column_index, column in enumerate(tictactoe_list):\n",
    "        if column in whitelist:\n",
    "            if column_index == 0:\n",
    "                row_list_first[1] = column\n",
    "            if column_index == 1:\n",
    "                row_list_first[5] = column\n",
    "            if column_index == 2:\n",
    "                row_list_first[9] = column\n",
    "\n",
    "            if column_index == 3:\n",
    "                row_list_second[1] = column\n",
    "            if column_index == 4:\n",
    "                row_list_second[5] = column\n",
    "            if column_index == 5:\n",
    "                row_list_second[9] = column\n",
    "\n",
    "            if column_index == 6:\n",
    "                row_list_third[1] = column\n",
    "            if column_index == 7:\n",
    "                row_list_third[5] = column\n",
    "            if column_index == 8:\n",
    "                row_list_third[9] = column\n",
    "\n",
    "\n",
    "    row_input_first = ''.join(row_list_first)\n",
    "    row_input_second = ''.join(row_list_second)\n",
    "    row_input_third = ''.join(row_list_third)\n",
    "                \n",
    "    \n",
    "    # print first row\n",
    "    print(row)\n",
    "    print(row_input_first)\n",
    "    print(row)\n",
    "    \n",
    "    print(separation)\n",
    "    \n",
    "    print(row)\n",
    "    print(row_input_second)\n",
    "    print(row)\n",
    "    \n",
    "    print(separation)\n",
    "    \n",
    "    print(row)\n",
    "    print(row_input_third)\n",
    "    print(row)"
   ]
  },
  {
   "cell_type": "code",
   "execution_count": 2,
   "id": "c151e3f4",
   "metadata": {},
   "outputs": [
    {
     "name": "stdout",
     "output_type": "stream",
     "text": [
      "   |   |   \n",
      " O |   | O \n",
      "   |   |   \n",
      "-----------\n",
      "   |   |   \n",
      "   | X |   \n",
      "   |   |   \n",
      "-----------\n",
      "   |   |   \n",
      " X |   | X \n",
      "   |   |   \n"
     ]
    }
   ],
   "source": [
    "tictactoe_list = ['O', '#', 'O', '#', 'X', '#', 'X', '#', 'X']\n",
    "display_board(tictactoe_list)"
   ]
  },
  {
   "cell_type": "code",
   "execution_count": 3,
   "id": "b1334e4f",
   "metadata": {},
   "outputs": [],
   "source": [
    "def player_input():\n",
    "    \n",
    "    player_two_mark = 'X'\n",
    "    \n",
    "    player_one = input('Please input your name for the game as Player 1: ')\n",
    "    player_one_mark = mark_input(player_one)\n",
    "    \n",
    "    player_two = input('Please input your name for the game as Player 2: ')\n",
    "    if player_one_mark == 'X':\n",
    "        player_two_mark = 'O'\n",
    "        \n",
    "    return [{'name':player_one, 'mark':player_one_mark}, {'name':player_two, 'mark': player_two_mark}]"
   ]
  },
  {
   "cell_type": "code",
   "execution_count": 4,
   "id": "ae9626a2",
   "metadata": {},
   "outputs": [],
   "source": [
    "def mark_input(player_name):\n",
    "    \n",
    "    mark_input = '#'\n",
    "    \n",
    "    while mark_input not in ['X', 'O']:\n",
    "        \n",
    "        mark_input = input('{}, please select your mark as either X or O: '.format(player_name))\n",
    "        \n",
    "        if mark_input not in ['X', 'O']:\n",
    "            \n",
    "            print('The input mark should be either X or O.')\n",
    "            \n",
    "    return mark_input"
   ]
  },
  {
   "cell_type": "code",
   "execution_count": 5,
   "id": "ebc09ffc",
   "metadata": {},
   "outputs": [
    {
     "name": "stdout",
     "output_type": "stream",
     "text": [
      "Please input your name for the game as Player 1: Sachin\n",
      "Sachin, please select your mark as either X or O: X\n",
      "Please input your name for the game as Player 2: Dheer\n"
     ]
    },
    {
     "data": {
      "text/plain": [
       "[{'name': 'Sachin', 'mark': 'X'}, {'name': 'Dheer', 'mark': 'O'}]"
      ]
     },
     "execution_count": 5,
     "metadata": {},
     "output_type": "execute_result"
    }
   ],
   "source": [
    "player_input()"
   ]
  },
  {
   "cell_type": "code",
   "execution_count": 6,
   "id": "28793f3c",
   "metadata": {},
   "outputs": [],
   "source": [
    "def place_marker(board, marker, position):\n",
    "    \n",
    "    board[position] = marker\n",
    "    return board"
   ]
  },
  {
   "cell_type": "code",
   "execution_count": 7,
   "id": "bd0feea1",
   "metadata": {},
   "outputs": [
    {
     "name": "stdout",
     "output_type": "stream",
     "text": [
      "   |   |   \n",
      " O |   | O \n",
      "   |   |   \n",
      "-----------\n",
      "   |   |   \n",
      "   | X | X \n",
      "   |   |   \n",
      "-----------\n",
      "   |   |   \n",
      " X |   | X \n",
      "   |   |   \n"
     ]
    }
   ],
   "source": [
    "tictactoe_list = ['O', '#', 'O', '#', 'X', '#', 'X', '#', 'X']\n",
    "place_marker(tictactoe_list, 'X', 5)\n",
    "display_board(tictactoe_list)"
   ]
  },
  {
   "cell_type": "code",
   "execution_count": 8,
   "id": "fd597ee5",
   "metadata": {},
   "outputs": [],
   "source": [
    "def win_check(board, mark):\n",
    "    \n",
    "    win_list = [(0, 1, 2), (3, 4, 5), (6, 7, 8), (0, 3, 6), (1, 4, 7), (2, 5, 8), (0, 4, 8), (2, 4, 6)]\n",
    "    \n",
    "    return ( (board[0]==mark and board[1]==mark and board[2]==mark) or\n",
    "        (board[3]==mark and board[4]==mark and board[5]==mark) or\n",
    "        (board[6]==mark and board[7]==mark and board[8]==mark) or\n",
    "        (board[0]==mark and board[3]==mark and board[6]==mark) or \n",
    "        (board[1]==mark and board[4]==mark and board[7]==mark) or\n",
    "        (board[2]==mark and board[5]==mark and board[8]==mark) or\n",
    "        (board[0]==mark and board[4]==mark and board[8]==mark) or\n",
    "        (board[2]==mark and board[4]==mark and board[6]==mark) )\n",
    "\n",
    "    matching_indices = []\n",
    "    \n",
    "    for index, box in enumerate(board):\n",
    "        if box == mark:\n",
    "            matching_indices.append(index)\n",
    "    \n",
    "    print(matching_indices)\n",
    "    \n",
    "    tst = board.index(mark)\n",
    "    return tst"
   ]
  },
  {
   "cell_type": "code",
   "execution_count": 9,
   "id": "706631c0",
   "metadata": {},
   "outputs": [
    {
     "name": "stdout",
     "output_type": "stream",
     "text": [
      "   |   |   \n",
      " O |   | X \n",
      "   |   |   \n",
      "-----------\n",
      "   |   |   \n",
      "   | X | X \n",
      "   |   |   \n",
      "-----------\n",
      "   |   |   \n",
      "   |   | X \n",
      "   |   |   \n"
     ]
    },
    {
     "data": {
      "text/plain": [
       "False"
      ]
     },
     "execution_count": 9,
     "metadata": {},
     "output_type": "execute_result"
    }
   ],
   "source": [
    "tictactoe_list = ['O', '#', 'X', '#', 'X', 'X', '5', '#', 'X']\n",
    "display_board(tictactoe_list)\n",
    "win_check(tictactoe_list, 'O')"
   ]
  },
  {
   "cell_type": "code",
   "execution_count": 10,
   "id": "2db5c226",
   "metadata": {},
   "outputs": [],
   "source": [
    "import random\n",
    "\n",
    "def choose_first():\n",
    "    return random.randint(1, 2)"
   ]
  },
  {
   "cell_type": "code",
   "execution_count": 11,
   "id": "3d9721df",
   "metadata": {},
   "outputs": [
    {
     "data": {
      "text/plain": [
       "2"
      ]
     },
     "execution_count": 11,
     "metadata": {},
     "output_type": "execute_result"
    }
   ],
   "source": [
    "choose_first()"
   ]
  },
  {
   "cell_type": "code",
   "execution_count": 12,
   "id": "45c107b1",
   "metadata": {},
   "outputs": [],
   "source": [
    "def space_check(board, position):\n",
    "    \n",
    "    return board[position] not in ['X', 'O']"
   ]
  },
  {
   "cell_type": "code",
   "execution_count": 13,
   "id": "bbd6c249",
   "metadata": {},
   "outputs": [
    {
     "data": {
      "text/plain": [
       "False"
      ]
     },
     "execution_count": 13,
     "metadata": {},
     "output_type": "execute_result"
    }
   ],
   "source": [
    "tictactoe_list = ['O', '#', 'X', '#', 'X', '#', 'X', '#', 'X']\n",
    "space_check(tictactoe_list, 0)"
   ]
  },
  {
   "cell_type": "code",
   "execution_count": 14,
   "id": "4ea033b0",
   "metadata": {},
   "outputs": [],
   "source": [
    "def full_board_check(board):\n",
    "    \n",
    "    for marking in board:\n",
    "        if marking not in ['X', 'O']:\n",
    "            return False\n",
    "        \n",
    "    return True"
   ]
  },
  {
   "cell_type": "code",
   "execution_count": 15,
   "id": "db59d1c9",
   "metadata": {},
   "outputs": [
    {
     "name": "stdout",
     "output_type": "stream",
     "text": [
      "   |   |   \n",
      " O | X | X \n",
      "   |   |   \n",
      "-----------\n",
      "   |   |   \n",
      " O | X | O \n",
      "   |   |   \n",
      "-----------\n",
      "   |   |   \n",
      "   | X | X \n",
      "   |   |   \n"
     ]
    },
    {
     "data": {
      "text/plain": [
       "False"
      ]
     },
     "execution_count": 15,
     "metadata": {},
     "output_type": "execute_result"
    }
   ],
   "source": [
    "tictactoe_list = ['O', 'X', 'X', 'O', 'X', 'O', '0', 'X', 'X']\n",
    "display_board(tictactoe_list)\n",
    "full_board_check(tictactoe_list)"
   ]
  },
  {
   "cell_type": "code",
   "execution_count": 16,
   "id": "692670bb",
   "metadata": {},
   "outputs": [
    {
     "data": {
      "text/plain": [
       "True"
      ]
     },
     "execution_count": 16,
     "metadata": {},
     "output_type": "execute_result"
    }
   ],
   "source": [
    "board = ['O', 'X', 'X', 'O', 'X', 'O', 'X', 'O', 'X']\n",
    "full_board_check(board)"
   ]
  },
  {
   "cell_type": "code",
   "execution_count": 17,
   "id": "44f6366e",
   "metadata": {},
   "outputs": [],
   "source": [
    "def player_choice(board, player_name):\n",
    "    \n",
    "    position = input('{}, please select your next position'. format(player_name))\n",
    "    \n",
    "    if position in ['0', '1', '2', '3', '4', '5', '6', '7', '8']:\n",
    "        position = int(position)\n",
    "    else:\n",
    "        print(\"Choice should be from 0 to 8\")\n",
    "        return player_choice(board, player_name)\n",
    "    \n",
    "    if position not in range(0, 9):\n",
    "        print(\"Choice should be from 0 to 8\")\n",
    "        return player_choice(board, player_name)\n",
    "    \n",
    "    if space_check(board, position):\n",
    "        return position\n",
    "    else:\n",
    "        print(\"Position not available\")\n",
    "        return player_choice(board, player_name)"
   ]
  },
  {
   "cell_type": "code",
   "execution_count": 18,
   "id": "8348de9f",
   "metadata": {},
   "outputs": [],
   "source": [
    "def replay():\n",
    "    \n",
    "    mark_input = input('Wanna play again? Y or N')\n",
    "\n",
    "    return mark_input != 'Y'"
   ]
  },
  {
   "cell_type": "code",
   "execution_count": 19,
   "id": "13ce5f69",
   "metadata": {},
   "outputs": [
    {
     "name": "stdout",
     "output_type": "stream",
     "text": [
      "   |   |   \n",
      " O | X |   \n",
      "   |   |   \n",
      "-----------\n",
      "   |   |   \n",
      " O | X | O \n",
      "   |   |   \n",
      "-----------\n",
      "   |   |   \n",
      "   | X | X \n",
      "   |   |   \n",
      "Sachin, please select your next position5\n",
      "Position not available\n",
      "Sachin, please select your next position2\n"
     ]
    },
    {
     "data": {
      "text/plain": [
       "2"
      ]
     },
     "execution_count": 19,
     "metadata": {},
     "output_type": "execute_result"
    }
   ],
   "source": [
    "tictactoe_list = ['O', 'X', '#', 'O', 'X', 'O', '0', 'X', 'X']\n",
    "display_board(tictactoe_list)\n",
    "player_choice(tictactoe_list, 'Sachin')"
   ]
  },
  {
   "cell_type": "code",
   "execution_count": 20,
   "id": "ad5a39e7",
   "metadata": {},
   "outputs": [
    {
     "name": "stdout",
     "output_type": "stream",
     "text": [
      "dict_items([('Sachin', 'X')])\n"
     ]
    }
   ],
   "source": [
    "dic = {'Sachin':'X'}\n",
    "print(dic.items())"
   ]
  },
  {
   "cell_type": "code",
   "execution_count": null,
   "id": "0242716a",
   "metadata": {},
   "outputs": [],
   "source": [
    "print(\"tstsafd\")"
   ]
  },
  {
   "cell_type": "code",
   "execution_count": 23,
   "id": "6840b536",
   "metadata": {},
   "outputs": [
    {
     "name": "stdout",
     "output_type": "stream",
     "text": [
      "   |   |   \n",
      " O | X | O \n",
      "   |   |   \n",
      "-----------\n",
      "   |   |   \n",
      " O | O |   \n",
      "   |   |   \n",
      "-----------\n",
      "   |   |   \n",
      " X | X | X \n",
      "   |   |   \n",
      "Winner Winner, Chicken Biryani Dinner\n",
      "Sachin, you the winner!\n"
     ]
    }
   ],
   "source": [
    "print('Welcome to Tic Tac Toe!')\n",
    "\n",
    "# while True:\n",
    "    # Set the game up here \n",
    "    # get the player names and their marks\n",
    "player_names_mark = player_input()\n",
    "    #pass\n",
    "print(player_names_mark)\n",
    "\n",
    "board = [ '0', '1', '2', '3', '4', '5', '6', '7', '8' ]\n",
    "blank_board = [ '0', '1', '2', '3', '4', '5', '6', '7', '8' ]\n",
    "\n",
    "first_player_position = choose_first()\n",
    "\n",
    "print(first_player_position-1)\n",
    "\n",
    "first_player = player_names_mark[first_player_position-1]\n",
    "\n",
    "if first_player_position == 2:\n",
    "    second_player = player_names_mark[0]\n",
    "else:\n",
    "    second_player = player_names_mark[1]\n",
    "    \n",
    "game_on = True\n",
    "\n",
    "print( \"First player to start the game is {}\".format(first_player['name']) )\n",
    "display_board(board)\n",
    "\n",
    "while game_on:\n",
    "    choice_position = player_choice(board, first_player['name'])\n",
    "    board = place_marker(board, first_player['mark'], choice_position)\n",
    "    display_board(board)\n",
    "    if win_check(board, first_player['mark']):\n",
    "        print('Winner Winner, Chicken Biryani Dinner')\n",
    "        print(\"{}, you are the winner!\".format(first_player['name']))\n",
    "        break\n",
    "    if full_board_check(board):\n",
    "        print(\"The board is full so we will reset the board and the game.\")\n",
    "        board = blank_board\n",
    "\n",
    "    choice_position = player_choice(board, second_player['name'])\n",
    "    board = place_marker(board, second_player['mark'], choice_position)\n",
    "    display_board(board)\n",
    "    if win_check(board, second_player['mark']):\n",
    "        print('Winner Winner, Chicken Biryani Dinner')\n",
    "        print(\"{}, you the winner!\".format(second_player['name']))\n",
    "        break\n",
    "    if full_board_check(board):\n",
    "        print(\"The board is full so we will reset the board and the game.\")\n",
    "        board = blank_board\n"
   ]
  },
  {
   "cell_type": "code",
   "execution_count": null,
   "id": "a473a3c5",
   "metadata": {},
   "outputs": [],
   "source": [
    "\n"
   ]
  }
 ],
 "metadata": {
  "kernelspec": {
   "display_name": "Python 3 (ipykernel)",
   "language": "python",
   "name": "python3"
  },
  "language_info": {
   "codemirror_mode": {
    "name": "ipython",
    "version": 3
   },
   "file_extension": ".py",
   "mimetype": "text/x-python",
   "name": "python",
   "nbconvert_exporter": "python",
   "pygments_lexer": "ipython3",
   "version": "3.11.5"
  }
 },
 "nbformat": 4,
 "nbformat_minor": 5
}
