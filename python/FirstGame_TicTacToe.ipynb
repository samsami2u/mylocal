{
 "cells": [
  {
   "cell_type": "code",
   "execution_count": null,
   "id": "5e641d02",
   "metadata": {},
   "outputs": [],
   "source": [
    "def display_board(tictactoe_list):\n",
    "    \n",
    "    # tictactoe_list = ['#', 'O', 'O', '#', '#', '#', 'X', 'X', 'X']\n",
    "    \n",
    "    row = '   |   |   '\n",
    "    row_list_first = [' ', ' ', ' ', '|', ' ', ' ', ' ', '|', ' ', ' ', ' ']\n",
    "    row_list_second = [' ', ' ', ' ', '|', ' ', ' ', ' ', '|', ' ', ' ', ' ']\n",
    "    row_list_third = [' ', ' ', ' ', '|', ' ', ' ', ' ', '|', ' ', ' ', ' ']\n",
    "    separation = '-----------'\n",
    "    \n",
    "    for column_index, column in enumerate(tictactoe_list):\n",
    "        if column != '#':\n",
    "            if column_index == 0:\n",
    "                row_list_first[1] = column\n",
    "            if column_index == 1:\n",
    "                row_list_first[5] = column\n",
    "            if column_index == 2:\n",
    "                row_list_first[9] = column\n",
    "\n",
    "            if column_index == 3:\n",
    "                row_list_second[1] = column\n",
    "            if column_index == 4:\n",
    "                row_list_second[5] = column\n",
    "            if column_index == 5:\n",
    "                row_list_second[9] = column\n",
    "\n",
    "            if column_index == 6:\n",
    "                row_list_third[1] = column\n",
    "            if column_index == 7:\n",
    "                row_list_third[5] = column\n",
    "            if column_index == 8:\n",
    "                row_list_third[9] = column\n",
    "\n",
    "\n",
    "    row_input_first = ''.join(row_list_first)\n",
    "    row_input_second = ''.join(row_list_second)\n",
    "    row_input_third = ''.join(row_list_third)\n",
    "                \n",
    "    \n",
    "    # print first row\n",
    "    print(row)\n",
    "    print(row_input_first)\n",
    "    print(row)\n",
    "    \n",
    "    print(separation)\n",
    "    \n",
    "    print(row)\n",
    "    print(row_input_second)\n",
    "    print(row)\n",
    "    \n",
    "    print(separation)\n",
    "    \n",
    "    print(row)\n",
    "    print(row_input_third)\n",
    "    print(row)"
   ]
  },
  {
   "cell_type": "code",
   "execution_count": null,
   "id": "c151e3f4",
   "metadata": {},
   "outputs": [],
   "source": [
    "tictactoe_list = ['O', '#', 'O', '#', 'X', '#', 'X', '#', 'X']\n",
    "display_board(tictactoe_list)"
   ]
  },
  {
   "cell_type": "code",
   "execution_count": null,
   "id": "b1334e4f",
   "metadata": {},
   "outputs": [],
   "source": [
    "def player_input():\n",
    "    \n",
    "    player_two_mark = 'X'\n",
    "    \n",
    "    player_one = input('Please input your name for the game as Player 1: ')\n",
    "    player_one_mark = mark_input(player_one)\n",
    "    \n",
    "    player_two = input('Please input your name for the game as Player 2: ')\n",
    "    if player_one_mark == 'X':\n",
    "        player_two_mark = 'O'\n",
    "        \n",
    "    return [ player_one_mark, player_two_mark ]"
   ]
  },
  {
   "cell_type": "code",
   "execution_count": null,
   "id": "ae9626a2",
   "metadata": {},
   "outputs": [],
   "source": [
    "def mark_input(player_name):\n",
    "    \n",
    "    mark_input = '#'\n",
    "    \n",
    "    while mark_input not in ['X', 'O']:\n",
    "        \n",
    "        mark_input = input('{}, please select your mark as either X or O: '.format(player_name))\n",
    "        \n",
    "        if mark_input not in ['X', 'O']:\n",
    "            \n",
    "            print('The input mark should be either X or O.')\n",
    "            \n",
    "    return mark_input"
   ]
  },
  {
   "cell_type": "code",
   "execution_count": null,
   "id": "ebc09ffc",
   "metadata": {},
   "outputs": [],
   "source": [
    "player_input()"
   ]
  },
  {
   "cell_type": "code",
   "execution_count": 15,
   "id": "28793f3c",
   "metadata": {},
   "outputs": [],
   "source": [
    "def place_marker(board, marker, position):\n",
    "    \n",
    "    board[position] = marker\n",
    "    return board"
   ]
  },
  {
   "cell_type": "code",
   "execution_count": 16,
   "id": "bd0feea1",
   "metadata": {},
   "outputs": [
    {
     "name": "stdout",
     "output_type": "stream",
     "text": [
      "   |   |   \n",
      " O | O | O \n",
      "   |   |   \n",
      "-----------\n",
      "   |   |   \n",
      "   | X |   \n",
      "   |   |   \n",
      "-----------\n",
      "   |   |   \n",
      " X |   | X \n",
      "   |   |   \n"
     ]
    }
   ],
   "source": [
    "tictactoe_list = ['O', '#', 'O', '#', 'X', '#', 'X', '#', 'X']\n",
    "place_marker(tictactoe_list,'O',1)\n",
    "display_board(tictactoe_list)"
   ]
  },
  {
   "cell_type": "code",
   "execution_count": 29,
   "id": "fd597ee5",
   "metadata": {},
   "outputs": [],
   "source": [
    "def win_check(board, mark):\n",
    "    \n",
    "    win_list = [(0, 1, 2), (3, 4, 5), (6, 7, 8), (0, 3, 6), (1, 4, 7), (2, 5, 8), (0, 4, 8), (2, 4, 6)]\n",
    "    \n",
    "    return ( (board[0]==mark and board[1]==mark and board[2]==mark) or\n",
    "        (board[3]==mark and board[4]==mark and board[5]==mark) or\n",
    "        (board[6]==mark and board[7]==mark and board[8]==mark) or\n",
    "        (board[0]==mark and board[3]==mark and board[6]==mark) or \n",
    "        (board[1]==mark and board[4]==mark and board[7]==mark) or\n",
    "        (board[2]==mark and board[5]==mark and board[8]==mark) or\n",
    "        (board[0]==mark and board[4]==mark and board[8]==mark) or\n",
    "        (board[2]==mark and board[4]==mark and board[6]==mark) )\n",
    "\n",
    "    matching_indices = []\n",
    "    \n",
    "    for index, box in enumerate(board):\n",
    "        if box == mark:\n",
    "            matching_indices.append(index)\n",
    "    \n",
    "    print(matching_indices)\n",
    "    \n",
    "    tst = board.index(mark)\n",
    "    return tst"
   ]
  },
  {
   "cell_type": "code",
   "execution_count": 31,
   "id": "706631c0",
   "metadata": {},
   "outputs": [
    {
     "data": {
      "text/plain": [
       "True"
      ]
     },
     "execution_count": 31,
     "metadata": {},
     "output_type": "execute_result"
    }
   ],
   "source": [
    "tictactoe_list = ['O', '#', 'X', '#', 'X', '#', 'X', '#', 'X']\n",
    "win_check(tictactoe_list, 'X')"
   ]
  },
  {
   "cell_type": "code",
   "execution_count": 38,
   "id": "2db5c226",
   "metadata": {},
   "outputs": [],
   "source": [
    "import random\n",
    "\n",
    "def choose_first():\n",
    "    return random.randint(1, 2)"
   ]
  },
  {
   "cell_type": "code",
   "execution_count": 42,
   "id": "3d9721df",
   "metadata": {},
   "outputs": [
    {
     "data": {
      "text/plain": [
       "1"
      ]
     },
     "execution_count": 42,
     "metadata": {},
     "output_type": "execute_result"
    }
   ],
   "source": [
    "choose_first()"
   ]
  },
  {
   "cell_type": "code",
   "execution_count": 43,
   "id": "45c107b1",
   "metadata": {},
   "outputs": [],
   "source": [
    "def space_check(board, position):\n",
    "    \n",
    "    return board[position] not in ['X', 'O']"
   ]
  },
  {
   "cell_type": "code",
   "execution_count": 45,
   "id": "bbd6c249",
   "metadata": {},
   "outputs": [
    {
     "data": {
      "text/plain": [
       "True"
      ]
     },
     "execution_count": 45,
     "metadata": {},
     "output_type": "execute_result"
    }
   ],
   "source": [
    "tictactoe_list = ['O', '#', 'X', '#', 'X', '#', 'X', '#', 'X']\n",
    "space_check(tictactoe_list, 1)"
   ]
  },
  {
   "cell_type": "code",
   "execution_count": 46,
   "id": "4ea033b0",
   "metadata": {},
   "outputs": [],
   "source": [
    "def full_board_check(board):\n",
    "    \n",
    "    for marking in board:\n",
    "        if marking not in ['X', 'O']:\n",
    "            return False\n",
    "        \n",
    "    return True"
   ]
  },
  {
   "cell_type": "code",
   "execution_count": 47,
   "id": "db59d1c9",
   "metadata": {},
   "outputs": [
    {
     "data": {
      "text/plain": [
       "False"
      ]
     },
     "execution_count": 47,
     "metadata": {},
     "output_type": "execute_result"
    }
   ],
   "source": [
    "tictactoe_list = ['O', '#', 'X', '#', 'X', '#', 'X', '#', 'X']\n",
    "full_board_check(tictactoe_list)"
   ]
  },
  {
   "cell_type": "code",
   "execution_count": 49,
   "id": "692670bb",
   "metadata": {},
   "outputs": [
    {
     "data": {
      "text/plain": [
       "False"
      ]
     },
     "execution_count": 49,
     "metadata": {},
     "output_type": "execute_result"
    }
   ],
   "source": [
    "board = ['O', 'X', 'X', 'O', 'X', 'O', '#', 'O', 'X']\n",
    "full_board_check(board)"
   ]
  },
  {
   "cell_type": "code",
   "execution_count": 50,
   "id": "44f6366e",
   "metadata": {},
   "outputs": [],
   "source": [
    "def player_choice(board):\n",
    "    \n",
    "    position = int(input('please select your next position'))\n",
    "    \n",
    "    if space_check(board, position):\n",
    "        return position"
   ]
  },
  {
   "cell_type": "code",
   "execution_count": 52,
   "id": "8348de9f",
   "metadata": {},
   "outputs": [],
   "source": [
    "def replay():\n",
    "    \n",
    "    mark_input = input('Wanna play again? Y or N')\n",
    "\n",
    "    return mark_input != 'Y'"
   ]
  },
  {
   "cell_type": "code",
   "execution_count": null,
   "id": "13ce5f69",
   "metadata": {},
   "outputs": [],
   "source": [
    "print('Welcome to Tic Tac Toe!')\n",
    "\n",
    "while True:\n",
    "    # Set the game up here\n",
    "    #pass\n",
    "\n",
    "    #while game_on:\n",
    "        #Player 1 Turn\n",
    "        \n",
    "        \n",
    "        # Player2's turn.\n",
    "            \n",
    "            #pass\n",
    "\n",
    "    if not replay():\n",
    "        break"
   ]
  }
 ],
 "metadata": {
  "kernelspec": {
   "display_name": "Python 3 (ipykernel)",
   "language": "python",
   "name": "python3"
  },
  "language_info": {
   "codemirror_mode": {
    "name": "ipython",
    "version": 3
   },
   "file_extension": ".py",
   "mimetype": "text/x-python",
   "name": "python",
   "nbconvert_exporter": "python",
   "pygments_lexer": "ipython3",
   "version": "3.11.5"
  }
 },
 "nbformat": 4,
 "nbformat_minor": 5
}
