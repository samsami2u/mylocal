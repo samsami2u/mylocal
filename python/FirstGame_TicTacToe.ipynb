{
 "cells": [
  {
   "cell_type": "code",
   "execution_count": 27,
   "id": "5e641d02",
   "metadata": {},
   "outputs": [],
   "source": [
    "def display_board(tictactoe_list):\n",
    "    \n",
    "    # tictactoe_list = ['#', 'O', 'O', '#', '#', '#', 'X', 'X', 'X']\n",
    "    \n",
    "    whitelist = [ 'X', 'O' ]\n",
    "    \n",
    "    row = '   |   |   '\n",
    "    row_list_first = [' ', ' ', ' ', '|', ' ', ' ', ' ', '|', ' ', ' ', ' ']\n",
    "    row_list_second = [' ', ' ', ' ', '|', ' ', ' ', ' ', '|', ' ', ' ', ' ']\n",
    "    row_list_third = [' ', ' ', ' ', '|', ' ', ' ', ' ', '|', ' ', ' ', ' ']\n",
    "    separation = '-----------'\n",
    "    \n",
    "    for column_index, column in enumerate(tictactoe_list):\n",
    "        if column in whitelist:\n",
    "            if column_index == 0:\n",
    "                row_list_first[1] = column\n",
    "            if column_index == 1:\n",
    "                row_list_first[5] = column\n",
    "            if column_index == 2:\n",
    "                row_list_first[9] = column\n",
    "\n",
    "            if column_index == 3:\n",
    "                row_list_second[1] = column\n",
    "            if column_index == 4:\n",
    "                row_list_second[5] = column\n",
    "            if column_index == 5:\n",
    "                row_list_second[9] = column\n",
    "\n",
    "            if column_index == 6:\n",
    "                row_list_third[1] = column\n",
    "            if column_index == 7:\n",
    "                row_list_third[5] = column\n",
    "            if column_index == 8:\n",
    "                row_list_third[9] = column\n",
    "\n",
    "\n",
    "    row_input_first = ''.join(row_list_first)\n",
    "    row_input_second = ''.join(row_list_second)\n",
    "    row_input_third = ''.join(row_list_third)\n",
    "                \n",
    "    \n",
    "    # print first row\n",
    "    print(row)\n",
    "    print(row_input_first)\n",
    "    print(row)\n",
    "    \n",
    "    print(separation)\n",
    "    \n",
    "    print(row)\n",
    "    print(row_input_second)\n",
    "    print(row)\n",
    "    \n",
    "    print(separation)\n",
    "    \n",
    "    print(row)\n",
    "    print(row_input_third)\n",
    "    print(row)"
   ]
  },
  {
   "cell_type": "code",
   "execution_count": 12,
   "id": "c151e3f4",
   "metadata": {},
   "outputs": [
    {
     "name": "stdout",
     "output_type": "stream",
     "text": [
      "   |   |   \n",
      " O |   | O \n",
      "   |   |   \n",
      "-----------\n",
      "   |   |   \n",
      "   | X |   \n",
      "   |   |   \n",
      "-----------\n",
      "   |   |   \n",
      " X |   | X \n",
      "   |   |   \n"
     ]
    }
   ],
   "source": [
    "tictactoe_list = ['O', '#', 'O', '#', 'X', '#', 'X', '#', 'X']\n",
    "display_board(tictactoe_list)"
   ]
  },
  {
   "cell_type": "code",
   "execution_count": 28,
   "id": "b1334e4f",
   "metadata": {},
   "outputs": [],
   "source": [
    "def player_input():\n",
    "    \n",
    "    player_two_mark = 'X'\n",
    "    \n",
    "    player_one = input('Please input your name for the game as Player 1: ')\n",
    "    player_one_mark = mark_input(player_one)\n",
    "    \n",
    "    player_two = input('Please input your name for the game as Player 2: ')\n",
    "    if player_one_mark == 'X':\n",
    "        player_two_mark = 'O'\n",
    "        \n",
    "    return [{'name':player_one, 'mark':player_one_mark}, {'name':player_two, 'mark': player_two_mark}]"
   ]
  },
  {
   "cell_type": "code",
   "execution_count": 29,
   "id": "ae9626a2",
   "metadata": {},
   "outputs": [],
   "source": [
    "def mark_input(player_name):\n",
    "    \n",
    "    mark_input = '#'\n",
    "    \n",
    "    while mark_input not in ['X', 'O']:\n",
    "        \n",
    "        mark_input = input('{}, please select your mark as either X or O: '.format(player_name))\n",
    "        \n",
    "        if mark_input not in ['X', 'O']:\n",
    "            \n",
    "            print('The input mark should be either X or O.')\n",
    "            \n",
    "    return mark_input"
   ]
  },
  {
   "cell_type": "code",
   "execution_count": null,
   "id": "ebc09ffc",
   "metadata": {},
   "outputs": [],
   "source": [
    "player_input()"
   ]
  },
  {
   "cell_type": "code",
   "execution_count": 30,
   "id": "28793f3c",
   "metadata": {},
   "outputs": [],
   "source": [
    "def place_marker(board, marker, position):\n",
    "    \n",
    "    board[position] = marker\n",
    "    return board"
   ]
  },
  {
   "cell_type": "code",
   "execution_count": 18,
   "id": "bd0feea1",
   "metadata": {},
   "outputs": [
    {
     "name": "stdout",
     "output_type": "stream",
     "text": [
      "   |   |   \n",
      " O |   | O \n",
      "   |   |   \n",
      "-----------\n",
      "   |   |   \n",
      "   | X | X \n",
      "   |   |   \n",
      "-----------\n",
      "   |   |   \n",
      " X |   | X \n",
      "   |   |   \n"
     ]
    }
   ],
   "source": [
    "tictactoe_list = ['O', '#', 'O', '#', 'X', '#', 'X', '#', 'X']\n",
    "place_marker(tictactoe_list, 'X', 5)\n",
    "display_board(tictactoe_list)"
   ]
  },
  {
   "cell_type": "code",
   "execution_count": 31,
   "id": "fd597ee5",
   "metadata": {},
   "outputs": [],
   "source": [
    "def win_check(board, mark):\n",
    "    \n",
    "    win_list = [(0, 1, 2), (3, 4, 5), (6, 7, 8), (0, 3, 6), (1, 4, 7), (2, 5, 8), (0, 4, 8), (2, 4, 6)]\n",
    "    \n",
    "    return ( (board[0]==mark and board[1]==mark and board[2]==mark) or\n",
    "        (board[3]==mark and board[4]==mark and board[5]==mark) or\n",
    "        (board[6]==mark and board[7]==mark and board[8]==mark) or\n",
    "        (board[0]==mark and board[3]==mark and board[6]==mark) or \n",
    "        (board[1]==mark and board[4]==mark and board[7]==mark) or\n",
    "        (board[2]==mark and board[5]==mark and board[8]==mark) or\n",
    "        (board[0]==mark and board[4]==mark and board[8]==mark) or\n",
    "        (board[2]==mark and board[4]==mark and board[6]==mark) )\n",
    "\n",
    "    matching_indices = []\n",
    "    \n",
    "    for index, box in enumerate(board):\n",
    "        if box == mark:\n",
    "            matching_indices.append(index)\n",
    "    \n",
    "    print(matching_indices)\n",
    "    \n",
    "    tst = board.index(mark)\n",
    "    return tst"
   ]
  },
  {
   "cell_type": "code",
   "execution_count": 6,
   "id": "706631c0",
   "metadata": {},
   "outputs": [
    {
     "name": "stdout",
     "output_type": "stream",
     "text": [
      "   |   |   \n",
      " O |   | X \n",
      "   |   |   \n",
      "-----------\n",
      "   |   |   \n",
      "   | X | X \n",
      "   |   |   \n",
      "-----------\n",
      "   |   |   \n",
      "   |   | X \n",
      "   |   |   \n"
     ]
    },
    {
     "data": {
      "text/plain": [
       "False"
      ]
     },
     "execution_count": 6,
     "metadata": {},
     "output_type": "execute_result"
    }
   ],
   "source": [
    "tictactoe_list = ['O', '#', 'X', '#', 'X', 'X', '5', '#', 'X']\n",
    "display_board(tictactoe_list)\n",
    "win_check(tictactoe_list, 'O')"
   ]
  },
  {
   "cell_type": "code",
   "execution_count": 32,
   "id": "2db5c226",
   "metadata": {},
   "outputs": [],
   "source": [
    "import random\n",
    "\n",
    "def choose_first():\n",
    "    return random.randint(1, 2)"
   ]
  },
  {
   "cell_type": "code",
   "execution_count": 59,
   "id": "3d9721df",
   "metadata": {},
   "outputs": [
    {
     "data": {
      "text/plain": [
       "2"
      ]
     },
     "execution_count": 59,
     "metadata": {},
     "output_type": "execute_result"
    }
   ],
   "source": [
    "choose_first()"
   ]
  },
  {
   "cell_type": "code",
   "execution_count": 33,
   "id": "45c107b1",
   "metadata": {},
   "outputs": [],
   "source": [
    "def space_check(board, position):\n",
    "    \n",
    "    return board[position] not in ['X', 'O']"
   ]
  },
  {
   "cell_type": "code",
   "execution_count": 33,
   "id": "bbd6c249",
   "metadata": {},
   "outputs": [
    {
     "data": {
      "text/plain": [
       "False"
      ]
     },
     "execution_count": 33,
     "metadata": {},
     "output_type": "execute_result"
    }
   ],
   "source": [
    "tictactoe_list = ['O', '#', 'X', '#', 'X', '#', 'X', '#', 'X']\n",
    "space_check(tictactoe_list, 0)"
   ]
  },
  {
   "cell_type": "code",
   "execution_count": 34,
   "id": "4ea033b0",
   "metadata": {},
   "outputs": [],
   "source": [
    "def full_board_check(board):\n",
    "    \n",
    "    for marking in board:\n",
    "        if marking not in ['X', 'O']:\n",
    "            return False\n",
    "        \n",
    "    return True"
   ]
  },
  {
   "cell_type": "code",
   "execution_count": 50,
   "id": "db59d1c9",
   "metadata": {},
   "outputs": [
    {
     "name": "stdout",
     "output_type": "stream",
     "text": [
      "   |   |   \n",
      " O | X | X \n",
      "   |   |   \n",
      "-----------\n",
      "   |   |   \n",
      " O | X | O \n",
      "   |   |   \n",
      "-----------\n",
      "   |   |   \n",
      "   | X | X \n",
      "   |   |   \n"
     ]
    },
    {
     "data": {
      "text/plain": [
       "False"
      ]
     },
     "execution_count": 50,
     "metadata": {},
     "output_type": "execute_result"
    }
   ],
   "source": [
    "tictactoe_list = ['O', 'X', 'X', 'O', 'X', 'O', '0', 'X', 'X']\n",
    "display_board(tictactoe_list)\n",
    "full_board_check(tictactoe_list)"
   ]
  },
  {
   "cell_type": "code",
   "execution_count": 18,
   "id": "692670bb",
   "metadata": {},
   "outputs": [
    {
     "data": {
      "text/plain": [
       "True"
      ]
     },
     "execution_count": 18,
     "metadata": {},
     "output_type": "execute_result"
    }
   ],
   "source": [
    "board = ['O', 'X', 'X', 'O', 'X', 'O', 'X', 'O', 'X']\n",
    "full_board_check(board)"
   ]
  },
  {
   "cell_type": "code",
   "execution_count": 35,
   "id": "44f6366e",
   "metadata": {},
   "outputs": [],
   "source": [
    "def player_choice(board, player_name):\n",
    "    \n",
    "    position = int(input('{}, please select your next position'. format(player_name)))\n",
    "    \n",
    "    if position not in range(0, 9):\n",
    "        print(\"Choice should be from 0 to 8\")\n",
    "        return player_choice(board, player_name)\n",
    "    \n",
    "    if space_check(board, position):\n",
    "        return position\n",
    "    else:\n",
    "        print(\"Position not available\")\n",
    "        return player_choice(board, player_name)"
   ]
  },
  {
   "cell_type": "code",
   "execution_count": 36,
   "id": "8348de9f",
   "metadata": {},
   "outputs": [],
   "source": [
    "def replay():\n",
    "    \n",
    "    mark_input = input('Wanna play again? Y or N')\n",
    "\n",
    "    return mark_input != 'Y'"
   ]
  },
  {
   "cell_type": "code",
   "execution_count": null,
   "id": "13ce5f69",
   "metadata": {},
   "outputs": [
    {
     "name": "stdout",
     "output_type": "stream",
     "text": [
      "   |   |   \n",
      " O | X |   \n",
      "   |   |   \n",
      "-----------\n",
      "   |   |   \n",
      " O | X | O \n",
      "   |   |   \n",
      "-----------\n",
      "   |   |   \n",
      "   | X | X \n",
      "   |   |   \n"
     ]
    }
   ],
   "source": [
    "tictactoe_list = ['O', 'X', '#', 'O', 'X', 'O', '0', 'X', 'X']\n",
    "display_board(tictactoe_list)\n",
    "player_choice(tictactoe_list, 'Sachin')"
   ]
  },
  {
   "cell_type": "code",
   "execution_count": 71,
   "id": "ad5a39e7",
   "metadata": {},
   "outputs": [
    {
     "name": "stdout",
     "output_type": "stream",
     "text": [
      "dict_items([('Sachin', 'X')])\n"
     ]
    }
   ],
   "source": [
    "dic = {'Sachin':'X'}\n",
    "print(dic.items())"
   ]
  },
  {
   "cell_type": "code",
   "execution_count": null,
   "id": "0242716a",
   "metadata": {},
   "outputs": [],
   "source": [
    "print(\"tstsafd\")"
   ]
  },
  {
   "cell_type": "code",
   "execution_count": 39,
   "id": "6840b536",
   "metadata": {},
   "outputs": [
    {
     "name": "stdout",
     "output_type": "stream",
     "text": [
      "Welcome to Tic Tac Toe!\n",
      "Please input your name for the game as Player 1: Dheer\n",
      "Dheer, please select your mark as either X or O: x\n",
      "The input mark should be either X or O.\n",
      "Dheer, please select your mark as either X or O: x\n",
      "The input mark should be either X or O.\n",
      "Dheer, please select your mark as either X or O: X\n",
      "Please input your name for the game as Player 2: Dhyana\n",
      "[{'name': 'Dheer', 'mark': 'X'}, {'name': 'Dhyana', 'mark': 'O'}]\n",
      "1\n",
      "First player to start the game is Dhyana\n",
      "   |   |   \n",
      "   |   |   \n",
      "   |   |   \n",
      "-----------\n",
      "   |   |   \n",
      "   |   |   \n",
      "   |   |   \n",
      "-----------\n",
      "   |   |   \n",
      "   |   |   \n",
      "   |   |   \n",
      "Dhyana, please select your next position4\n",
      "   |   |   \n",
      "   |   |   \n",
      "   |   |   \n",
      "-----------\n",
      "   |   |   \n",
      "   | O |   \n",
      "   |   |   \n",
      "-----------\n",
      "   |   |   \n",
      "   |   |   \n",
      "   |   |   \n",
      "Dheer, please select your next positionx\n"
     ]
    },
    {
     "ename": "ValueError",
     "evalue": "invalid literal for int() with base 10: 'x'",
     "output_type": "error",
     "traceback": [
      "\u001b[1;31m---------------------------------------------------------------------------\u001b[0m",
      "\u001b[1;31mValueError\u001b[0m                                Traceback (most recent call last)",
      "Cell \u001b[1;32mIn[39], line 40\u001b[0m\n\u001b[0;32m     37\u001b[0m     \u001b[38;5;28mprint\u001b[39m(\u001b[38;5;124m\"\u001b[39m\u001b[38;5;124mThe board is full so we will reset the board and the game.\u001b[39m\u001b[38;5;124m\"\u001b[39m)\n\u001b[0;32m     38\u001b[0m     board \u001b[38;5;241m=\u001b[39m blank_board\n\u001b[1;32m---> 40\u001b[0m choice_position \u001b[38;5;241m=\u001b[39m player_choice(board, second_player[\u001b[38;5;124m'\u001b[39m\u001b[38;5;124mname\u001b[39m\u001b[38;5;124m'\u001b[39m])\n\u001b[0;32m     41\u001b[0m board \u001b[38;5;241m=\u001b[39m place_marker(board, second_player[\u001b[38;5;124m'\u001b[39m\u001b[38;5;124mmark\u001b[39m\u001b[38;5;124m'\u001b[39m], choice_position)\n\u001b[0;32m     42\u001b[0m display_board(board)\n",
      "Cell \u001b[1;32mIn[35], line 3\u001b[0m, in \u001b[0;36mplayer_choice\u001b[1;34m(board, player_name)\u001b[0m\n\u001b[0;32m      1\u001b[0m \u001b[38;5;28;01mdef\u001b[39;00m \u001b[38;5;21mplayer_choice\u001b[39m(board, player_name):\n\u001b[1;32m----> 3\u001b[0m     position \u001b[38;5;241m=\u001b[39m \u001b[38;5;28mint\u001b[39m(\u001b[38;5;28minput\u001b[39m(\u001b[38;5;124m'\u001b[39m\u001b[38;5;132;01m{}\u001b[39;00m\u001b[38;5;124m, please select your next position\u001b[39m\u001b[38;5;124m'\u001b[39m\u001b[38;5;241m.\u001b[39m \u001b[38;5;28mformat\u001b[39m(player_name)))\n\u001b[0;32m      5\u001b[0m     \u001b[38;5;28;01mif\u001b[39;00m position \u001b[38;5;129;01mnot\u001b[39;00m \u001b[38;5;129;01min\u001b[39;00m \u001b[38;5;28mrange\u001b[39m(\u001b[38;5;241m0\u001b[39m, \u001b[38;5;241m9\u001b[39m):\n\u001b[0;32m      6\u001b[0m         \u001b[38;5;28mprint\u001b[39m(\u001b[38;5;124m\"\u001b[39m\u001b[38;5;124mChoice should be from 0 to 8\u001b[39m\u001b[38;5;124m\"\u001b[39m)\n",
      "\u001b[1;31mValueError\u001b[0m: invalid literal for int() with base 10: 'x'"
     ]
    }
   ],
   "source": [
    "print('Welcome to Tic Tac Toe!')\n",
    "\n",
    "# while True:\n",
    "    # Set the game up here \n",
    "    # get the player names and their marks\n",
    "player_names_mark = player_input()\n",
    "    #pass\n",
    "print(player_names_mark)\n",
    "\n",
    "board = [ '0', '1', '2', '3', '4', '5', '6', '7', '8' ]\n",
    "blank_board = [ '0', '1', '2', '3', '4', '5', '6', '7', '8' ]\n",
    "\n",
    "first_player_position = choose_first()\n",
    "\n",
    "print(first_player_position-1)\n",
    "\n",
    "first_player = player_names_mark[first_player_position-1]\n",
    "\n",
    "if first_player_position == 2:\n",
    "    second_player = player_names_mark[0]\n",
    "else:\n",
    "    second_player = player_names_mark[1]\n",
    "    \n",
    "game_on = True\n",
    "\n",
    "print( \"First player to start the game is {}\".format(first_player['name']) )\n",
    "display_board(board)\n",
    "\n",
    "while game_on:\n",
    "    choice_position = player_choice(board, first_player['name'])\n",
    "    board = place_marker(board, first_player['mark'], choice_position)\n",
    "    display_board(board)\n",
    "    if win_check(board, first_player['mark']):\n",
    "        print(\"{}, you win the game!\".format(first_player['name']))\n",
    "        break\n",
    "    if full_board_check(board):\n",
    "        print(\"The board is full so we will reset the board and the game.\")\n",
    "        board = blank_board\n",
    "\n",
    "    choice_position = player_choice(board, second_player['name'])\n",
    "    board = place_marker(board, second_player['mark'], choice_position)\n",
    "    display_board(board)\n",
    "    if win_check(board, second_player['mark']):\n",
    "        print(\"{}, you win the game!\".format(second_player['name']))\n",
    "        break\n",
    "    if full_board_check(board):\n",
    "        print(\"The board is full so we will reset the board and the game.\")\n",
    "        board = blank_board\n",
    "\n",
    "# while game_on:\n",
    "    \n",
    "\n",
    "\n",
    "\n",
    "    #while game_on:\n",
    "        #Player 1 Turn\n",
    "        \n",
    "        \n",
    "        # Player2's turn.\n",
    "            \n",
    "            #pass\n",
    "\n",
    "    #if not replay():\n",
    "        #break"
   ]
  },
  {
   "cell_type": "code",
   "execution_count": null,
   "id": "9a7f531f",
   "metadata": {},
   "outputs": [],
   "source": [
    "\n"
   ]
  }
 ],
 "metadata": {
  "kernelspec": {
   "display_name": "Python 3 (ipykernel)",
   "language": "python",
   "name": "python3"
  },
  "language_info": {
   "codemirror_mode": {
    "name": "ipython",
    "version": 3
   },
   "file_extension": ".py",
   "mimetype": "text/x-python",
   "name": "python",
   "nbconvert_exporter": "python",
   "pygments_lexer": "ipython3",
   "version": "3.11.5"
  }
 },
 "nbformat": 4,
 "nbformat_minor": 5
}
