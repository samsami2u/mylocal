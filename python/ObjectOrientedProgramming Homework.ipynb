{
 "cells": [
  {
   "cell_type": "code",
   "execution_count": 8,
   "id": "9085baf8",
   "metadata": {},
   "outputs": [],
   "source": [
    "class Line:\n",
    "    \n",
    "    def __init__(self, coordinate1, coordinate2):\n",
    "        self.coordinatex1, self.coordinatey1 = coordinate1\n",
    "        self.coordinatex2, self.coordinatey2 = coordinate2\n",
    "    \n",
    "    def distance(self):\n",
    "        x = self.coordinatex2 - self.coordinatex1\n",
    "        y = self.coordinatey2 - self.coordinatey1\n",
    "        return ( (x ** 2) + (y ** 2) ) ** 0.5\n",
    "    \n",
    "    def slope(self):\n",
    "        x = self.coordinatex2 - self.coordinatex1\n",
    "        y = self.coordinatey2 - self.coordinatey1\n",
    "        return y/x"
   ]
  },
  {
   "cell_type": "code",
   "execution_count": 9,
   "id": "07da7352",
   "metadata": {},
   "outputs": [],
   "source": [
    "coordinate1 = (3,2)\n",
    "coordinate2 = (8,10)\n",
    "\n",
    "li = Line(coordinate1,coordinate2)"
   ]
  },
  {
   "cell_type": "code",
   "execution_count": 10,
   "id": "5f8791dd",
   "metadata": {},
   "outputs": [
    {
     "data": {
      "text/plain": [
       "9.433981132056603"
      ]
     },
     "execution_count": 10,
     "metadata": {},
     "output_type": "execute_result"
    }
   ],
   "source": [
    "li.distance()\n"
   ]
  },
  {
   "cell_type": "code",
   "execution_count": 11,
   "id": "ad792014",
   "metadata": {},
   "outputs": [
    {
     "data": {
      "text/plain": [
       "1.6"
      ]
     },
     "execution_count": 11,
     "metadata": {},
     "output_type": "execute_result"
    }
   ],
   "source": [
    "li.slope()\n"
   ]
  },
  {
   "cell_type": "code",
   "execution_count": 7,
   "id": "7d6b282d",
   "metadata": {},
   "outputs": [
    {
     "data": {
      "text/plain": [
       "3"
      ]
     },
     "execution_count": 7,
     "metadata": {},
     "output_type": "execute_result"
    }
   ],
   "source": [
    "li.coordinatex1"
   ]
  },
  {
   "cell_type": "code",
   "execution_count": null,
   "id": "712810af",
   "metadata": {},
   "outputs": [],
   "source": []
  },
  {
   "cell_type": "code",
   "execution_count": null,
   "id": "a5a9c05b",
   "metadata": {},
   "outputs": [],
   "source": []
  },
  {
   "cell_type": "code",
   "execution_count": 19,
   "id": "0cce540f",
   "metadata": {},
   "outputs": [],
   "source": [
    "class Cylinder:\n",
    "    \n",
    "    pi = 3.14\n",
    "    \n",
    "    def __init__(self, height=1, radius=1):\n",
    "        self.radius = radius\n",
    "        self.height = height\n",
    "        \n",
    "    def volume(self):\n",
    "        return Cylinder.pi * ( self.radius ** 2 ) * self.height\n",
    "    \n",
    "    def surface_area(self):\n",
    "        return (2 * Cylinder.pi * self.radius * self.height) + (2 * Cylinder.pi * (self.radius ** 2))"
   ]
  },
  {
   "cell_type": "code",
   "execution_count": 20,
   "id": "9e3087b5",
   "metadata": {},
   "outputs": [],
   "source": [
    "# EXAMPLE OUTPUT\n",
    "c = Cylinder(2,3)"
   ]
  },
  {
   "cell_type": "code",
   "execution_count": 21,
   "id": "1206d99b",
   "metadata": {},
   "outputs": [
    {
     "data": {
      "text/plain": [
       "56.52"
      ]
     },
     "execution_count": 21,
     "metadata": {},
     "output_type": "execute_result"
    }
   ],
   "source": [
    "c.volume()"
   ]
  },
  {
   "cell_type": "code",
   "execution_count": 22,
   "id": "021ad5ab",
   "metadata": {},
   "outputs": [
    {
     "data": {
      "text/plain": [
       "94.2"
      ]
     },
     "execution_count": 22,
     "metadata": {},
     "output_type": "execute_result"
    }
   ],
   "source": [
    "c.surface_area()"
   ]
  },
  {
   "cell_type": "code",
   "execution_count": null,
   "id": "28ee6f9b",
   "metadata": {},
   "outputs": [],
   "source": []
  },
  {
   "cell_type": "code",
   "execution_count": null,
   "id": "3332d320",
   "metadata": {},
   "outputs": [],
   "source": []
  },
  {
   "cell_type": "code",
   "execution_count": 46,
   "id": "208360db",
   "metadata": {},
   "outputs": [],
   "source": [
    "class Account:\n",
    "    \n",
    "    def __init__(self, owner, balance):\n",
    "        \n",
    "        self.owner = owner\n",
    "        self.balance = balance\n",
    "        \n",
    "    def __str__(self):\n",
    "        return 'Account Owner: {} \\nAccount Balance: {}'.format(self.owner, self.balance)\n",
    "        \n",
    "    def deposit(self, deposit):\n",
    "        self.balance += deposit\n",
    "        print( 'A deposit of {} added to the balance. The new balance is {}'.format(deposit, self.balance) )\n",
    "        \n",
    "    def withdraw(self, withdraw):\n",
    "        if withdraw > self.balance:\n",
    "            print( 'Insufficient funds!' )\n",
    "        else:\n",
    "            self.balance -= withdraw\n",
    "            print( 'A withdrawal of {} deducted from the balance. The new balance is {}'.format(withdraw, self.balance) )"
   ]
  },
  {
   "cell_type": "code",
   "execution_count": 47,
   "id": "c016d20a",
   "metadata": {},
   "outputs": [],
   "source": [
    "# 1. Instantiate the class\n",
    "Act = Account('Sachin', 195000)"
   ]
  },
  {
   "cell_type": "code",
   "execution_count": 48,
   "id": "1952d7fd",
   "metadata": {},
   "outputs": [
    {
     "name": "stdout",
     "output_type": "stream",
     "text": [
      "Account Owner: Sachin \n",
      "Account Balance: 195000\n"
     ]
    }
   ],
   "source": [
    "# 2. Print the object\n",
    "print(Act)\n"
   ]
  },
  {
   "cell_type": "code",
   "execution_count": 54,
   "id": "ec2a8a03",
   "metadata": {},
   "outputs": [
    {
     "name": "stdout",
     "output_type": "stream",
     "text": [
      "A deposit of 50 added to the balance. The new balance is 195075\n"
     ]
    }
   ],
   "source": [
    "# 5. Make a series of deposits and withdrawals\n",
    "Act.deposit(50)"
   ]
  },
  {
   "cell_type": "code",
   "execution_count": 55,
   "id": "058c1324",
   "metadata": {},
   "outputs": [
    {
     "name": "stdout",
     "output_type": "stream",
     "text": [
      "A withdrawal of 75 deducted from the balance. The new balance is 195000\n"
     ]
    }
   ],
   "source": [
    "Act.withdraw(75)"
   ]
  },
  {
   "cell_type": "code",
   "execution_count": 51,
   "id": "849bcf17",
   "metadata": {},
   "outputs": [
    {
     "name": "stdout",
     "output_type": "stream",
     "text": [
      "Insufficient funds!\n"
     ]
    }
   ],
   "source": [
    "Act.withdraw(200000)"
   ]
  },
  {
   "cell_type": "code",
   "execution_count": 52,
   "id": "1fe6abe4",
   "metadata": {},
   "outputs": [
    {
     "name": "stdout",
     "output_type": "stream",
     "text": [
      "Account Owner: Sachin \n",
      "Account Balance: 194975\n"
     ]
    }
   ],
   "source": [
    "print(Act)"
   ]
  },
  {
   "cell_type": "code",
   "execution_count": null,
   "id": "cc5ca275",
   "metadata": {},
   "outputs": [],
   "source": []
  },
  {
   "cell_type": "code",
   "execution_count": null,
   "id": "0c162f01",
   "metadata": {},
   "outputs": [],
   "source": []
  },
  {
   "cell_type": "code",
   "execution_count": null,
   "id": "fffe504a",
   "metadata": {},
   "outputs": [],
   "source": []
  }
 ],
 "metadata": {
  "kernelspec": {
   "display_name": "Python 3 (ipykernel)",
   "language": "python",
   "name": "python3"
  },
  "language_info": {
   "codemirror_mode": {
    "name": "ipython",
    "version": 3
   },
   "file_extension": ".py",
   "mimetype": "text/x-python",
   "name": "python",
   "nbconvert_exporter": "python",
   "pygments_lexer": "ipython3",
   "version": "3.11.5"
  }
 },
 "nbformat": 4,
 "nbformat_minor": 5
}
