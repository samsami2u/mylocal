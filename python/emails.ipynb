{
 "cells": [
  {
   "cell_type": "code",
   "execution_count": 22,
   "id": "3c9fcd9b-7141-4cd7-bfc9-d10f452dd9f7",
   "metadata": {},
   "outputs": [],
   "source": [
    "import smtplib\n",
    "import socket\n",
    "import getpass"
   ]
  },
  {
   "cell_type": "code",
   "execution_count": 23,
   "id": "17658539-b8bd-4390-9b4f-b76251142c17",
   "metadata": {},
   "outputs": [
    {
     "data": {
      "text/plain": [
       "[(<AddressFamily.AF_INET6: 23>,\n",
       "  0,\n",
       "  0,\n",
       "  '',\n",
       "  ('2404:6800:4003:c11::6c', 587, 0, 0)),\n",
       " (<AddressFamily.AF_INET: 2>, 0, 0, '', ('74.125.200.109', 587))]"
      ]
     },
     "execution_count": 23,
     "metadata": {},
     "output_type": "execute_result"
    }
   ],
   "source": [
    "socket.getaddrinfo('smtp.gmail.com', 587)"
   ]
  },
  {
   "cell_type": "code",
   "execution_count": 24,
   "id": "2f0ac912-d4f4-4c79-b268-a481886d05b6",
   "metadata": {},
   "outputs": [],
   "source": [
    "obj_smtp = smtplib.SMTP('smtp.gmail.com', 587)"
   ]
  },
  {
   "cell_type": "code",
   "execution_count": 25,
   "id": "cd3f8af8-931f-4480-b7e1-711850f40923",
   "metadata": {},
   "outputs": [
    {
     "data": {
      "text/plain": [
       "(250,\n",
       " b'smtp.gmail.com at your service, [2401:4900:1c8f:ce77:5c2c:534c:7178:b1e3]\\nSIZE 35882577\\n8BITMIME\\nSTARTTLS\\nENHANCEDSTATUSCODES\\nPIPELINING\\nCHUNKING\\nSMTPUTF8')"
      ]
     },
     "execution_count": 25,
     "metadata": {},
     "output_type": "execute_result"
    }
   ],
   "source": [
    "obj_smtp.ehlo()"
   ]
  },
  {
   "cell_type": "code",
   "execution_count": 26,
   "id": "35e26db0-3ce5-42a1-9b62-de81c4eba56e",
   "metadata": {},
   "outputs": [
    {
     "data": {
      "text/plain": [
       "(220, b'2.0.0 Ready to start TLS')"
      ]
     },
     "execution_count": 26,
     "metadata": {},
     "output_type": "execute_result"
    }
   ],
   "source": [
    "obj_smtp.starttls()"
   ]
  },
  {
   "cell_type": "code",
   "execution_count": 13,
   "id": "ff3e8223-1808-43e1-be41-ddba1244e293",
   "metadata": {},
   "outputs": [
    {
     "name": "stdin",
     "output_type": "stream",
     "text": [
      "Please enter the email password ········\n"
     ]
    }
   ],
   "source": [
    "email_pass = getpass.getpass('Please enter the email password')"
   ]
  },
  {
   "cell_type": "code",
   "execution_count": 27,
   "id": "58aa0ba2-3ac3-48cf-9ade-85a22b33dd58",
   "metadata": {},
   "outputs": [
    {
     "name": "stdin",
     "output_type": "stream",
     "text": [
      "Email:  ········\n",
      "Password:  ········\n"
     ]
    },
    {
     "data": {
      "text/plain": [
       "(235, b'2.7.0 Accepted')"
      ]
     },
     "execution_count": 27,
     "metadata": {},
     "output_type": "execute_result"
    }
   ],
   "source": [
    "email = getpass.getpass(\"Email: \")\n",
    "password = getpass.getpass(\"Password: \")\n",
    "obj_smtp.login(email, password)"
   ]
  },
  {
   "cell_type": "code",
   "execution_count": 28,
   "id": "c45b364e-8ef8-4b60-aec6-76f486434aa4",
   "metadata": {},
   "outputs": [
    {
     "data": {
      "text/plain": [
       "{}"
      ]
     },
     "execution_count": 28,
     "metadata": {},
     "output_type": "execute_result"
    }
   ],
   "source": [
    "from_address = email\n",
    "to_address = 'makwana.sachinm@gmail.com'\n",
    "subject = 'I am sending this from the python jupyter'\n",
    "message = 'It is just a test body'\n",
    "msg = \"Subject: \"+subject+'\\n'+message\n",
    "\n",
    "obj_smtp.sendmail(from_address, to_address, msg)"
   ]
  },
  {
   "cell_type": "code",
   "execution_count": 29,
   "id": "55f4ded4-bd72-4a23-9cf9-b7afc0b58239",
   "metadata": {},
   "outputs": [],
   "source": [
    "obj_smtp.close()"
   ]
  },
  {
   "cell_type": "code",
   "execution_count": 74,
   "id": "37647326-bf19-4a71-a40e-4973d83c7ed0",
   "metadata": {},
   "outputs": [],
   "source": [
    "import imaplib"
   ]
  },
  {
   "cell_type": "code",
   "execution_count": 75,
   "id": "9f270665-c2f0-40dc-a443-db58f979d80a",
   "metadata": {},
   "outputs": [],
   "source": [
    "obj_m = imaplib.IMAP4_SSL('imap.gmail.com')"
   ]
  },
  {
   "cell_type": "code",
   "execution_count": 76,
   "id": "adc57e62-93d4-4484-92d8-82aea3013027",
   "metadata": {},
   "outputs": [
    {
     "name": "stdin",
     "output_type": "stream",
     "text": [
      "email:  samsami2um@gmail.com\n",
      "password:  ········\n"
     ]
    }
   ],
   "source": [
    "email = input('email: ')\n",
    "password = getpass.getpass('password: ')"
   ]
  },
  {
   "cell_type": "code",
   "execution_count": 77,
   "id": "332905ca-eec4-45d9-8006-c746be3ec55f",
   "metadata": {},
   "outputs": [
    {
     "data": {
      "text/plain": [
       "('OK', [b'samsami2um@gmail.com authenticated (Success)'])"
      ]
     },
     "execution_count": 77,
     "metadata": {},
     "output_type": "execute_result"
    }
   ],
   "source": [
    "obj_m.login(email, password)"
   ]
  },
  {
   "cell_type": "code",
   "execution_count": 78,
   "id": "8f7906ce-8edb-4f8d-b99c-9d6488d04590",
   "metadata": {},
   "outputs": [
    {
     "data": {
      "text/plain": [
       "('OK',\n",
       " [b'(\\\\HasChildren) \"/\" \"Banks\"',\n",
       "  b'(\\\\HasNoChildren) \"/\" \"Banks/Axis\"',\n",
       "  b'(\\\\HasChildren) \"/\" \"Bills\"',\n",
       "  b'(\\\\HasNoChildren) \"/\" \"Bills/Freecharge\"',\n",
       "  b'(\\\\HasChildren \\\\Noselect) \"/\" \"Bills/Internet\"',\n",
       "  b'(\\\\HasChildren) \"/\" \"Bills/Internet/Broadband\"',\n",
       "  b'(\\\\HasNoChildren) \"/\" \"Bills/Internet/Broadband/IdeaNetsetter\"',\n",
       "  b'(\\\\HasNoChildren) \"/\" \"Bills/Mobile\"',\n",
       "  b'(\\\\HasNoChildren) \"/\" \"Credit Card\"',\n",
       "  b'(\\\\HasNoChildren) \"/\" \"Farewells\"',\n",
       "  b'(\\\\HasNoChildren) \"/\" \"GMI\"',\n",
       "  b'(\\\\HasNoChildren) \"/\" \"ICICI Amazon Card\"',\n",
       "  b'(\\\\HasNoChildren) \"/\" \"INBOX\"',\n",
       "  b'(\\\\HasNoChildren) \"/\" \"LG\"',\n",
       "  b'(\\\\HasNoChildren) \"/\" \"LIC\"',\n",
       "  b'(\\\\HasNoChildren) \"/\" \"Paypal\"',\n",
       "  b'(\\\\HasNoChildren) \"/\" \"Quartzy\"',\n",
       "  b'(\\\\HasNoChildren) \"/\" \"Restaurant Prj\"',\n",
       "  b'(\\\\HasNoChildren) \"/\" \"SBI\"',\n",
       "  b'(\\\\HasNoChildren) \"/\" \"Sam\"',\n",
       "  b'(\\\\HasChildren) \"/\" \"Travelling\"',\n",
       "  b'(\\\\HasNoChildren) \"/\" \"Travelling/Uber\"',\n",
       "  b'(\\\\HasNoChildren) \"/\" \"UK Universities\"',\n",
       "  b'(\\\\HasChildren \\\\Noselect) \"/\" \"[Gmail]\"',\n",
       "  b'(\\\\All \\\\HasNoChildren) \"/\" \"[Gmail]/All Mail\"',\n",
       "  b'(\\\\Drafts \\\\HasNoChildren) \"/\" \"[Gmail]/Drafts\"',\n",
       "  b'(\\\\HasNoChildren \\\\Important) \"/\" \"[Gmail]/Important\"',\n",
       "  b'(\\\\HasNoChildren \\\\Sent) \"/\" \"[Gmail]/Sent Mail\"',\n",
       "  b'(\\\\HasNoChildren \\\\Junk) \"/\" \"[Gmail]/Spam\"',\n",
       "  b'(\\\\Flagged \\\\HasNoChildren) \"/\" \"[Gmail]/Starred\"',\n",
       "  b'(\\\\HasNoChildren \\\\Trash) \"/\" \"[Gmail]/Trash\"',\n",
       "  b'(\\\\HasNoChildren) \"/\" \"bsnl\"',\n",
       "  b'(\\\\HasNoChildren) \"/\" \"cmp\"',\n",
       "  b'(\\\\HasNoChildren) \"/\" \"coupons\"',\n",
       "  b'(\\\\HasNoChildren) \"/\" \"dJ\"',\n",
       "  b'(\\\\HasChildren) \"/\" \"deals\"',\n",
       "  b'(\\\\HasNoChildren) \"/\" \"deals/PayUmoney\"',\n",
       "  b'(\\\\HasNoChildren) \"/\" \"deals/Paytm\"',\n",
       "  b'(\\\\HasNoChildren) \"/\" \"deals/crazeal\"',\n",
       "  b'(\\\\HasNoChildren) \"/\" \"deals/dealsandyou\"',\n",
       "  b'(\\\\HasNoChildren) \"/\" \"deals/onlydeals2buy\"',\n",
       "  b'(\\\\HasChildren) \"/\" \"deals/snapdeal\"',\n",
       "  b'(\\\\HasNoChildren) \"/\" \"deals/snapdeal/Advertisement\"',\n",
       "  b'(\\\\HasNoChildren) \"/\" \"deals/snapdeal/Feedback\"',\n",
       "  b'(\\\\HasNoChildren) \"/\" \"deals/snapdeal/Orders\"',\n",
       "  b'(\\\\HasNoChildren) \"/\" \"deals/snapdeal/Support\"',\n",
       "  b'(\\\\HasNoChildren) \"/\" \"dice jobs\"',\n",
       "  b'(\\\\HasNoChildren) \"/\" \"eBay\"',\n",
       "  b'(\\\\HasChildren) \"/\" \"eShopping\"',\n",
       "  b'(\\\\HasChildren) \"/\" \"eShopping/Amazon\"',\n",
       "  b'(\\\\HasNoChildren) \"/\" \"eShopping/Amazon/Auto Confirmation\"',\n",
       "  b'(\\\\HasNoChildren) \"/\" \"eShopping/Amazon/Order Update\"',\n",
       "  b'(\\\\HasNoChildren) \"/\" \"eShopping/Amazon/Shipping Confirmation\"',\n",
       "  b'(\\\\HasNoChildren) \"/\" \"eShopping/airtel recharge\"',\n",
       "  b'(\\\\HasNoChildren) \"/\" \"eShopping/docomo\"',\n",
       "  b'(\\\\HasNoChildren) \"/\" \"eShopping/infibeam\"',\n",
       "  b'(\\\\HasNoChildren) \"/\" \"eShopping/movies\"',\n",
       "  b'(\\\\HasNoChildren) \"/\" \"eShopping/rediff\"',\n",
       "  b'(\\\\HasNoChildren) \"/\" \"eShopping/timtara\"',\n",
       "  b'(\\\\HasNoChildren) \"/\" \"eShopping/tradus\"',\n",
       "  b'(\\\\HasNoChildren) \"/\" \"ghan-dets\"',\n",
       "  b'(\\\\HasNoChildren) \"/\" \"gk\"',\n",
       "  b'(\\\\HasNoChildren) \"/\" \"gtz\"',\n",
       "  b'(\\\\HasNoChildren) \"/\" \"irctc\"',\n",
       "  b'(\\\\HasNoChildren) \"/\" \"justhost\"',\n",
       "  b'(\\\\HasNoChildren) \"/\" \"moneybookers\"',\n",
       "  b'(\\\\HasNoChildren) \"/\" \"odesk\"',\n",
       "  b'(\\\\HasNoChildren) \"/\" \"sachin@avidindiainc.com\"',\n",
       "  b'(\\\\HasNoChildren) \"/\" \"statCounter\"',\n",
       "  b'(\\\\HasNoChildren) \"/\" \"support@cheap-custom-cms.com\"',\n",
       "  b'(\\\\HasNoChildren) \"/\" \"wordpressAvidindia\"',\n",
       "  b'(\\\\HasNoChildren) \"/\" \"world web hosting\"',\n",
       "  b'(\\\\HasNoChildren) \"/\" \"yatra\"'])"
      ]
     },
     "execution_count": 78,
     "metadata": {},
     "output_type": "execute_result"
    }
   ],
   "source": [
    "obj_m.list()"
   ]
  },
  {
   "cell_type": "code",
   "execution_count": 91,
   "id": "0a1a7609-9af3-4ca9-a248-4a52db8cf4ce",
   "metadata": {},
   "outputs": [
    {
     "data": {
      "text/plain": [
       "('OK', [b'58268'])"
      ]
     },
     "execution_count": 91,
     "metadata": {},
     "output_type": "execute_result"
    }
   ],
   "source": [
    "obj_m.select('inbox')"
   ]
  },
  {
   "cell_type": "code",
   "execution_count": 92,
   "id": "cc784d7e-9bfc-45f6-877f-c495d0fc16e4",
   "metadata": {},
   "outputs": [],
   "source": [
    "typ, dat = obj_m.search(None, 'SUBJECT \"I am sending this from the python jupyter\"')"
   ]
  },
  {
   "cell_type": "code",
   "execution_count": 93,
   "id": "7179217e-25d5-4e0d-aff0-025d73992ac1",
   "metadata": {},
   "outputs": [
    {
     "data": {
      "text/plain": [
       "'OK'"
      ]
     },
     "execution_count": 93,
     "metadata": {},
     "output_type": "execute_result"
    }
   ],
   "source": [
    "typ"
   ]
  },
  {
   "cell_type": "code",
   "execution_count": 94,
   "id": "5e758003-6b96-45eb-9f6a-b693c2b8a08b",
   "metadata": {},
   "outputs": [
    {
     "data": {
      "text/plain": [
       "[b'58268']"
      ]
     },
     "execution_count": 94,
     "metadata": {},
     "output_type": "execute_result"
    }
   ],
   "source": [
    "dat"
   ]
  },
  {
   "cell_type": "code",
   "execution_count": 95,
   "id": "d408a58f-8bec-4cb1-84b7-75590ab2cac4",
   "metadata": {},
   "outputs": [
    {
     "data": {
      "text/plain": [
       "b'58268'"
      ]
     },
     "execution_count": 95,
     "metadata": {},
     "output_type": "execute_result"
    }
   ],
   "source": [
    "dat[0]"
   ]
  },
  {
   "cell_type": "code",
   "execution_count": 96,
   "id": "cd04723c-f1d4-447c-9cdc-e01a6e04e85c",
   "metadata": {},
   "outputs": [],
   "source": [
    "result, email_dat = obj_m.fetch(dat[0], '(RFC822)')"
   ]
  },
  {
   "cell_type": "code",
   "execution_count": 97,
   "id": "d8ce76c0-b5a4-4d9a-ab1d-f3473b457742",
   "metadata": {},
   "outputs": [
    {
     "data": {
      "text/plain": [
       "'OK'"
      ]
     },
     "execution_count": 97,
     "metadata": {},
     "output_type": "execute_result"
    }
   ],
   "source": [
    "result"
   ]
  },
  {
   "cell_type": "code",
   "execution_count": 98,
   "id": "67fe7dec-f923-4822-9664-266834d54626",
   "metadata": {},
   "outputs": [],
   "source": [
    "raw_email = email_dat[0][1]"
   ]
  },
  {
   "cell_type": "code",
   "execution_count": 99,
   "id": "588dd5e7-1912-4af2-b30e-1a7dbf6d8cf5",
   "metadata": {},
   "outputs": [],
   "source": [
    "raw_email_string = raw_email.decode('utf-8')"
   ]
  },
  {
   "cell_type": "code",
   "execution_count": 100,
   "id": "51cbac29-87fa-4f8a-bfbb-721ed76c1e9e",
   "metadata": {},
   "outputs": [],
   "source": [
    "import email"
   ]
  },
  {
   "cell_type": "code",
   "execution_count": 101,
   "id": "6410beea-ebc7-4c2a-8267-4bbafb8a82fc",
   "metadata": {},
   "outputs": [],
   "source": [
    "email_msg = email.message_from_string(raw_email_string)"
   ]
  },
  {
   "cell_type": "code",
   "execution_count": 102,
   "id": "ded30216-d31d-4b45-8502-54d9a4140342",
   "metadata": {},
   "outputs": [
    {
     "name": "stdout",
     "output_type": "stream",
     "text": [
      "multipart/alternative\n",
      "text/plain\n",
      "here\n",
      "b'tst email\\r\\n\\r\\nThanks,\\r\\nSachin Makwana\\r\\n'\n",
      "text/html\n"
     ]
    }
   ],
   "source": [
    "for prt in email_msg.walk():\n",
    "    print(prt.get_content_type())\n",
    "    if prt.get_content_type() == 'text/plain':\n",
    "        print('here')\n",
    "        body = prt.get_payload(decode=True)\n",
    "        print(body)"
   ]
  },
  {
   "cell_type": "code",
   "execution_count": 103,
   "id": "dc183625-299b-4e4b-87d4-d34b1809020b",
   "metadata": {},
   "outputs": [
    {
     "data": {
      "text/plain": [
       "<email.message.Message at 0x195486c1490>"
      ]
     },
     "execution_count": 103,
     "metadata": {},
     "output_type": "execute_result"
    }
   ],
   "source": [
    "email_msg"
   ]
  },
  {
   "cell_type": "code",
   "execution_count": 104,
   "id": "b9996fa7-ea4f-4e61-aa57-165d962dcd70",
   "metadata": {},
   "outputs": [
    {
     "data": {
      "text/plain": [
       "b'tst email\\r\\n\\r\\nThanks,\\r\\nSachin Makwana\\r\\n'"
      ]
     },
     "execution_count": 104,
     "metadata": {},
     "output_type": "execute_result"
    }
   ],
   "source": [
    "body"
   ]
  },
  {
   "cell_type": "code",
   "execution_count": null,
   "id": "31d6b3a1-edcd-4942-b017-9bdac210c4c7",
   "metadata": {},
   "outputs": [],
   "source": []
  }
 ],
 "metadata": {
  "kernelspec": {
   "display_name": "Python 3 (ipykernel)",
   "language": "python",
   "name": "python3"
  },
  "language_info": {
   "codemirror_mode": {
    "name": "ipython",
    "version": 3
   },
   "file_extension": ".py",
   "mimetype": "text/x-python",
   "name": "python",
   "nbconvert_exporter": "python",
   "pygments_lexer": "ipython3",
   "version": "3.11.7"
  }
 },
 "nbformat": 4,
 "nbformat_minor": 5
}
