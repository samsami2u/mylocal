{
 "cells": [
  {
   "cell_type": "code",
   "execution_count": 1,
   "id": "b0adf3e3",
   "metadata": {},
   "outputs": [],
   "source": [
    "def func():\n",
    "    return 1"
   ]
  },
  {
   "cell_type": "code",
   "execution_count": 2,
   "id": "c6dbfbfa",
   "metadata": {},
   "outputs": [
    {
     "data": {
      "text/plain": [
       "1"
      ]
     },
     "execution_count": 2,
     "metadata": {},
     "output_type": "execute_result"
    }
   ],
   "source": [
    "func()"
   ]
  },
  {
   "cell_type": "code",
   "execution_count": 3,
   "id": "ff01f8e7",
   "metadata": {},
   "outputs": [],
   "source": [
    "def hello( name = 'Sachin' ):\n",
    "    \n",
    "    print('We are seeing the call to the hello() function')\n",
    "    \n",
    "    def greet():\n",
    "        return 'This is greet() function inside the hello() function'\n",
    "    \n",
    "    def welcome():\n",
    "        return 'This is welcome() function inside the hello() function'\n",
    "    \n",
    "    if name == 'Sachin':\n",
    "        return greet\n",
    "    else:\n",
    "        return welcome\n",
    "    "
   ]
  },
  {
   "cell_type": "code",
   "execution_count": 6,
   "id": "dcad6f4b",
   "metadata": {},
   "outputs": [
    {
     "name": "stdout",
     "output_type": "stream",
     "text": [
      "We are seeing the call to the hello() function\n"
     ]
    }
   ],
   "source": [
    "my_new_func = hello('tst')"
   ]
  },
  {
   "cell_type": "code",
   "execution_count": 7,
   "id": "7e63ef22",
   "metadata": {},
   "outputs": [
    {
     "name": "stdout",
     "output_type": "stream",
     "text": [
      "This is welcome() function inside the hello() function\n"
     ]
    }
   ],
   "source": [
    "print(my_new_func())"
   ]
  },
  {
   "cell_type": "code",
   "execution_count": null,
   "id": "51bb260a",
   "metadata": {},
   "outputs": [],
   "source": []
  },
  {
   "cell_type": "code",
   "execution_count": null,
   "id": "e3cba614",
   "metadata": {},
   "outputs": [],
   "source": []
  },
  {
   "cell_type": "code",
   "execution_count": null,
   "id": "5013e996",
   "metadata": {},
   "outputs": [],
   "source": []
  },
  {
   "cell_type": "code",
   "execution_count": 8,
   "id": "b2d94417",
   "metadata": {},
   "outputs": [],
   "source": [
    "def new_decorator(original_func):\n",
    "    \n",
    "    def wrap_func():\n",
    "        \n",
    "        print('We can see some code before the original function!')\n",
    "        \n",
    "        original_func()\n",
    "        \n",
    "        print('We can see some code AFTER the original function!')\n",
    "        \n",
    "    return wrap_func\n"
   ]
  },
  {
   "cell_type": "code",
   "execution_count": 11,
   "id": "57896557",
   "metadata": {},
   "outputs": [],
   "source": [
    "@new_decorator\n",
    "def func_to_be_decorated():\n",
    "    print('The original function')"
   ]
  },
  {
   "cell_type": "code",
   "execution_count": 12,
   "id": "87c40d2d",
   "metadata": {},
   "outputs": [
    {
     "name": "stdout",
     "output_type": "stream",
     "text": [
      "We can see some code before the original function!\n",
      "The original function\n",
      "We can see some code AFTER the original function!\n"
     ]
    }
   ],
   "source": [
    "func_to_be_decorated()"
   ]
  },
  {
   "cell_type": "code",
   "execution_count": null,
   "id": "46cce72a",
   "metadata": {},
   "outputs": [],
   "source": []
  }
 ],
 "metadata": {
  "kernelspec": {
   "display_name": "Python 3 (ipykernel)",
   "language": "python",
   "name": "python3"
  },
  "language_info": {
   "codemirror_mode": {
    "name": "ipython",
    "version": 3
   },
   "file_extension": ".py",
   "mimetype": "text/x-python",
   "name": "python",
   "nbconvert_exporter": "python",
   "pygments_lexer": "ipython3",
   "version": "3.11.5"
  }
 },
 "nbformat": 4,
 "nbformat_minor": 5
}
