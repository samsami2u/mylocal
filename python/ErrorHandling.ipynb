{
 "cells": [
  {
   "cell_type": "code",
   "execution_count": 17,
   "id": "9051db89",
   "metadata": {},
   "outputs": [
    {
     "name": "stdout",
     "output_type": "stream",
     "text": [
      "Please enter the number 2 for addition20\n",
      "30\n"
     ]
    }
   ],
   "source": [
    "def add(n1, n2):\n",
    "    print(n1+n2)\n",
    "\n",
    "number1 = 10\n",
    "\n",
    "\n",
    "    \n",
    "try:\n",
    "    number2 = int(input('Please enter the number 2 for addition'))\n",
    "    add(number1, number2)\n",
    "except ValueError:\n",
    "    print('Input value incorrect, please enter a number')\n",
    "except TypeError:\n",
    "    print('The input needs to be type cast to integer')\n",
    "finally:\n",
    "    pass"
   ]
  },
  {
   "cell_type": "code",
   "execution_count": null,
   "id": "e0d71c17",
   "metadata": {},
   "outputs": [],
   "source": []
  },
  {
   "cell_type": "code",
   "execution_count": 3,
   "id": "bef5d9ad",
   "metadata": {},
   "outputs": [
    {
     "name": "stdout",
     "output_type": "stream",
     "text": [
      "There is an error with the data type, please check\n"
     ]
    }
   ],
   "source": [
    "try:    \n",
    "    for i in ['a','b','c']:\n",
    "        print(i**2)\n",
    "except TypeError:\n",
    "    print('There is an error with the data type, please check')\n",
    "except:\n",
    "    print('There is an error with the for loop above in try block')\n",
    "finally:\n",
    "    pass"
   ]
  },
  {
   "cell_type": "code",
   "execution_count": null,
   "id": "66714649",
   "metadata": {},
   "outputs": [],
   "source": []
  },
  {
   "cell_type": "code",
   "execution_count": 8,
   "id": "bc371bbb",
   "metadata": {},
   "outputs": [
    {
     "name": "stdout",
     "output_type": "stream",
     "text": [
      "All done!\n",
      "\n",
      " 5.0\n"
     ]
    }
   ],
   "source": [
    "try:\n",
    "\n",
    "    x = 5\n",
    "    y = 1\n",
    "\n",
    "    z = x/y\n",
    "except ZeroDivisionError:\n",
    "    print('Looks like we are trying to divide by zero')\n",
    "except:\n",
    "    print('Catching all the errors here')\n",
    "finally:\n",
    "    print('All done!')\n",
    "    print('\\n ' + str(z) )"
   ]
  },
  {
   "cell_type": "code",
   "execution_count": null,
   "id": "c4c865d5",
   "metadata": {},
   "outputs": [],
   "source": []
  },
  {
   "cell_type": "code",
   "execution_count": 13,
   "id": "45631438",
   "metadata": {},
   "outputs": [],
   "source": [
    "def ask():\n",
    "    while True:\n",
    "        try:\n",
    "            inputInt = int(input('Please enter an integer for which you want to see its square:'))\n",
    "            outputInt = inputInt**2\n",
    "        except:\n",
    "            print('An error occurred, please try again')\n",
    "        else:\n",
    "            print('The square of {} is {}'.format(inputInt, outputInt))\n",
    "            break"
   ]
  },
  {
   "cell_type": "code",
   "execution_count": 14,
   "id": "51156232",
   "metadata": {},
   "outputs": [
    {
     "name": "stdout",
     "output_type": "stream",
     "text": [
      "Please enter an integer for which you want to see its square:a\n",
      "An error occurred, please try again\n",
      "Please enter an integer for which you want to see its square:y\n",
      "An error occurred, please try again\n",
      "Please enter an integer for which you want to see its square:8\n",
      "The square of 8 is 64\n"
     ]
    }
   ],
   "source": [
    "ask()"
   ]
  },
  {
   "cell_type": "code",
   "execution_count": null,
   "id": "c6cadedc",
   "metadata": {},
   "outputs": [],
   "source": []
  }
 ],
 "metadata": {
  "kernelspec": {
   "display_name": "Python 3 (ipykernel)",
   "language": "python",
   "name": "python3"
  },
  "language_info": {
   "codemirror_mode": {
    "name": "ipython",
    "version": 3
   },
   "file_extension": ".py",
   "mimetype": "text/x-python",
   "name": "python",
   "nbconvert_exporter": "python",
   "pygments_lexer": "ipython3",
   "version": "3.11.5"
  }
 },
 "nbformat": 4,
 "nbformat_minor": 5
}
