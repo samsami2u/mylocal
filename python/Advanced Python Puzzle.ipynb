{
 "cells": [
  {
   "cell_type": "code",
   "execution_count": 7,
   "id": "c113f7dd",
   "metadata": {},
   "outputs": [
    {
     "data": {
      "text/plain": [
       "['Five', 'Four', 'Instructions.txt', 'One', 'Three', 'Two']"
      ]
     },
     "execution_count": 7,
     "metadata": {},
     "output_type": "execute_result"
    }
   ],
   "source": [
    "import zipfile\n",
    "import os\n",
    "import re\n",
    "\n",
    "zip_obj = zipfile.ZipFile('unzip_me_for_instructions.zip', 'r')\n",
    "zip_obj.extractall('unzip_me_for_instructions')\n",
    "\n",
    "zip_dir = 'C:\\\\Users\\\\Admin\\\\mylocal\\\\python\\\\unzip_me_for_instructions\\\\extracted_content'\n",
    "\n",
    "os.listdir(zip_dir)"
   ]
  },
  {
   "cell_type": "code",
   "execution_count": 8,
   "id": "613375a4",
   "metadata": {},
   "outputs": [
    {
     "name": "stdout",
     "output_type": "stream",
     "text": [
      "Good work on unzipping the file!\n",
      "You should now see 5 folders, each with a lot of random .txt files.\n",
      "Within one of these text files is a telephone number formated ###-###-#### \n",
      "Use the Python os module and regular expressions to iterate through each file, open it, and search for a telephone number.\n",
      "Good luck!\n"
     ]
    }
   ],
   "source": [
    "f = open(zip_dir+'\\\\Instructions.txt', \"r\")\n",
    "print(f.read())"
   ]
  },
  {
   "cell_type": "code",
   "execution_count": 22,
   "id": "26f04c97",
   "metadata": {},
   "outputs": [
    {
     "name": "stdout",
     "output_type": "stream",
     "text": [
      "['C:\\\\Users\\\\Admin\\\\mylocal\\\\python\\\\unzip_me_for_instructions\\\\extracted_content\\\\Four\\\\EMTGPSXQEJX.txt']\n"
     ]
    }
   ],
   "source": [
    "files_with_formatted_phone_numbers = []\n",
    "\n",
    "for subdir, dirs, files in os.walk(zip_dir):\n",
    "    for file in files:\n",
    "        fil_path = os.path.join(subdir, file) \n",
    "        ##print( fil_path )\n",
    "        fil_obj = open( fil_path, 'r' )\n",
    "        fil_content = fil_obj.read()\n",
    "        \n",
    "        if( re.search('\\d{3}-\\d{3}-\\d{4}', fil_content) ):\n",
    "            files_with_formatted_phone_numbers.append(fil_path)\n",
    "            \n",
    "print(files_with_formatted_phone_numbers)"
   ]
  },
  {
   "cell_type": "code",
   "execution_count": 20,
   "id": "df131222",
   "metadata": {},
   "outputs": [
    {
     "name": "stdout",
     "output_type": "stream",
     "text": [
      "Yes\n"
     ]
    }
   ],
   "source": [
    "fil_content = 'Hey, my phone number is 323-249-6533'\n",
    "if( re.search('\\d{3}-\\d{3}-\\d{4}', fil_content) ):\n",
    "    print('Yes')\n",
    "else:\n",
    "    print('No')"
   ]
  },
  {
   "cell_type": "code",
   "execution_count": null,
   "id": "35d1b7c8",
   "metadata": {},
   "outputs": [],
   "source": []
  }
 ],
 "metadata": {
  "kernelspec": {
   "display_name": "Python 3 (ipykernel)",
   "language": "python",
   "name": "python3"
  },
  "language_info": {
   "codemirror_mode": {
    "name": "ipython",
    "version": 3
   },
   "file_extension": ".py",
   "mimetype": "text/x-python",
   "name": "python",
   "nbconvert_exporter": "python",
   "pygments_lexer": "ipython3",
   "version": "3.11.5"
  }
 },
 "nbformat": 4,
 "nbformat_minor": 5
}
