{
 "cells": [
  {
   "cell_type": "code",
   "execution_count": 1,
   "id": "93d9076e-cf8e-4c0c-8fa7-6f779e118b06",
   "metadata": {},
   "outputs": [],
   "source": [
    "import csv\n",
    "import PyPDF2"
   ]
  },
  {
   "cell_type": "code",
   "execution_count": 2,
   "id": "bc260ab3-83c3-4f43-90f8-e8a8ecd94b9f",
   "metadata": {},
   "outputs": [],
   "source": [
    "csv_file = open('find_the_link.csv', encoding='utf-8')"
   ]
  },
  {
   "cell_type": "code",
   "execution_count": 3,
   "id": "1f87b300-a052-4db4-8b8c-8c81bb6ffbc0",
   "metadata": {},
   "outputs": [],
   "source": [
    "csv_reader = csv.reader(csv_file)"
   ]
  },
  {
   "cell_type": "code",
   "execution_count": 4,
   "id": "645024f0-e1bf-4118-8d15-971ef36d08fc",
   "metadata": {},
   "outputs": [],
   "source": [
    "csv_list = list(csv_reader)"
   ]
  },
  {
   "cell_type": "code",
   "execution_count": 43,
   "id": "fba5d6d0-1820-4011-903b-edcf8370b1f4",
   "metadata": {},
   "outputs": [
    {
     "data": {
      "text/plain": [
       "'https://drive.google.com/open?id=1G6SEgg018UB4_4xsAJJ5TdzrhmXipr4Q'"
      ]
     },
     "execution_count": 43,
     "metadata": {},
     "output_type": "execute_result"
    }
   ],
   "source": [
    "url_link = ''\n",
    "\n",
    "for row_num, row in enumerate(csv_list):\n",
    "    url_link += row[row_num]\n",
    "\n",
    "url_link"
   ]
  },
  {
   "cell_type": "code",
   "execution_count": 6,
   "id": "6d117634-5e9e-49c8-b8f0-e25ea09221b6",
   "metadata": {},
   "outputs": [],
   "source": [
    "#pdf_file = open(url_link, 'rb')\n",
    "import bs4\n",
    "import lxml\n",
    "import requests"
   ]
  },
  {
   "cell_type": "code",
   "execution_count": 13,
   "id": "4902160a-432d-476f-a584-7543c7d24ea2",
   "metadata": {},
   "outputs": [],
   "source": [
    "req = requests.get(url_link)"
   ]
  },
  {
   "cell_type": "code",
   "execution_count": 14,
   "id": "59c9747d-e4e5-47ac-a326-0439b2ee703e",
   "metadata": {},
   "outputs": [],
   "source": [
    "sup = bs4.BeautifulSoup(req.text, 'lxml')"
   ]
  },
  {
   "cell_type": "code",
   "execution_count": 16,
   "id": "54ecfe95-5829-4f24-a1e4-d5d3455124d6",
   "metadata": {},
   "outputs": [
    {
     "data": {
      "text/plain": [
       "'Find_the_Phone_Number.pdf - Google DriveSign inLoading…'"
      ]
     },
     "execution_count": 16,
     "metadata": {},
     "output_type": "execute_result"
    }
   ],
   "source": [
    "sup.getText()"
   ]
  },
  {
   "cell_type": "code",
   "execution_count": 7,
   "id": "45a982e9-c76c-4e42-a39a-cfa3be63052f",
   "metadata": {},
   "outputs": [],
   "source": [
    "#import urllib.request\n",
    "#urllib.request.urlretrieve(url_link, \"Find_the_Phone_Number.pdf\")\n",
    "\n",
    "#import urllib.request\n",
    "#with urllib.request.urlopen(url_link) as f:\n",
    "#    html = f.read().decode('utf-8')\n",
    "\n",
    "\n",
    "import os\n",
    "\n",
    "file_name = 'Find_the_Phone_Number.pdf'\n",
    "save_dir = os.getcwd()\n",
    "\n",
    "outfile = os.path.join(save_dir, file_name)\n",
    "response = requests.get(url_link, stream=True)\n",
    "with open(outfile,'wb') as output:\n",
    "  output.write(response.content)\n"
   ]
  },
  {
   "cell_type": "code",
   "execution_count": 18,
   "id": "38e5b237-2e67-46a3-896c-5ccf4444e9d7",
   "metadata": {},
   "outputs": [],
   "source": []
  },
  {
   "cell_type": "code",
   "execution_count": 19,
   "id": "4ef77a6f-41e2-411b-af32-d5aad9657171",
   "metadata": {},
   "outputs": [
    {
     "ename": "PdfReadError",
     "evalue": "EOF marker not found",
     "output_type": "error",
     "traceback": [
      "\u001b[1;31m---------------------------------------------------------------------------\u001b[0m",
      "\u001b[1;31mPdfReadError\u001b[0m                              Traceback (most recent call last)",
      "Cell \u001b[1;32mIn[19], line 1\u001b[0m\n\u001b[1;32m----> 1\u001b[0m pdf_reader \u001b[38;5;241m=\u001b[39m PyPDF2\u001b[38;5;241m.\u001b[39mPdfReader(pdf_file)\n",
      "File \u001b[1;32mC:\\ProgramData\\anaconda3\\Lib\\site-packages\\PyPDF2\\_reader.py:319\u001b[0m, in \u001b[0;36mPdfReader.__init__\u001b[1;34m(self, stream, strict, password)\u001b[0m\n\u001b[0;32m    317\u001b[0m     \u001b[38;5;28;01mwith\u001b[39;00m \u001b[38;5;28mopen\u001b[39m(stream, \u001b[38;5;124m\"\u001b[39m\u001b[38;5;124mrb\u001b[39m\u001b[38;5;124m\"\u001b[39m) \u001b[38;5;28;01mas\u001b[39;00m fh:\n\u001b[0;32m    318\u001b[0m         stream \u001b[38;5;241m=\u001b[39m BytesIO(fh\u001b[38;5;241m.\u001b[39mread())\n\u001b[1;32m--> 319\u001b[0m \u001b[38;5;28mself\u001b[39m\u001b[38;5;241m.\u001b[39mread(stream)\n\u001b[0;32m    320\u001b[0m \u001b[38;5;28mself\u001b[39m\u001b[38;5;241m.\u001b[39mstream \u001b[38;5;241m=\u001b[39m stream\n\u001b[0;32m    322\u001b[0m \u001b[38;5;28mself\u001b[39m\u001b[38;5;241m.\u001b[39m_override_encryption \u001b[38;5;241m=\u001b[39m \u001b[38;5;28;01mFalse\u001b[39;00m\n",
      "File \u001b[1;32mC:\\ProgramData\\anaconda3\\Lib\\site-packages\\PyPDF2\\_reader.py:1415\u001b[0m, in \u001b[0;36mPdfReader.read\u001b[1;34m(self, stream)\u001b[0m\n\u001b[0;32m   1413\u001b[0m \u001b[38;5;28;01mdef\u001b[39;00m \u001b[38;5;21mread\u001b[39m(\u001b[38;5;28mself\u001b[39m, stream: StreamType) \u001b[38;5;241m-\u001b[39m\u001b[38;5;241m>\u001b[39m \u001b[38;5;28;01mNone\u001b[39;00m:\n\u001b[0;32m   1414\u001b[0m     \u001b[38;5;28mself\u001b[39m\u001b[38;5;241m.\u001b[39m_basic_validation(stream)\n\u001b[1;32m-> 1415\u001b[0m     \u001b[38;5;28mself\u001b[39m\u001b[38;5;241m.\u001b[39m_find_eof_marker(stream)\n\u001b[0;32m   1416\u001b[0m     startxref \u001b[38;5;241m=\u001b[39m \u001b[38;5;28mself\u001b[39m\u001b[38;5;241m.\u001b[39m_find_startxref_pos(stream)\n\u001b[0;32m   1418\u001b[0m     \u001b[38;5;66;03m# check and eventually correct the startxref only in not strict\u001b[39;00m\n",
      "File \u001b[1;32mC:\\ProgramData\\anaconda3\\Lib\\site-packages\\PyPDF2\\_reader.py:1471\u001b[0m, in \u001b[0;36mPdfReader._find_eof_marker\u001b[1;34m(self, stream)\u001b[0m\n\u001b[0;32m   1469\u001b[0m \u001b[38;5;28;01mwhile\u001b[39;00m line[:\u001b[38;5;241m5\u001b[39m] \u001b[38;5;241m!=\u001b[39m \u001b[38;5;124mb\u001b[39m\u001b[38;5;124m\"\u001b[39m\u001b[38;5;132;01m%%\u001b[39;00m\u001b[38;5;124mEOF\u001b[39m\u001b[38;5;124m\"\u001b[39m:\n\u001b[0;32m   1470\u001b[0m     \u001b[38;5;28;01mif\u001b[39;00m stream\u001b[38;5;241m.\u001b[39mtell() \u001b[38;5;241m<\u001b[39m last_mb:\n\u001b[1;32m-> 1471\u001b[0m         \u001b[38;5;28;01mraise\u001b[39;00m PdfReadError(\u001b[38;5;124m\"\u001b[39m\u001b[38;5;124mEOF marker not found\u001b[39m\u001b[38;5;124m\"\u001b[39m)\n\u001b[0;32m   1472\u001b[0m     line \u001b[38;5;241m=\u001b[39m read_previous_line(stream)\n",
      "\u001b[1;31mPdfReadError\u001b[0m: EOF marker not found"
     ]
    }
   ],
   "source": []
  },
  {
   "cell_type": "code",
   "execution_count": 8,
   "id": "e1179fa1-7d0f-4d9e-96f1-21a2b7076d78",
   "metadata": {},
   "outputs": [],
   "source": [
    "def download_file_from_google_drive(file_id, destination):\n",
    "    URL = \"https://docs.google.com/uc?export=download&confirm=1\"\n",
    "\n",
    "    session = requests.Session()\n",
    "\n",
    "    response = session.get(URL, params={\"id\": file_id}, stream=True)\n",
    "    token = get_confirm_token(response)\n",
    "\n",
    "    if token:\n",
    "        params = {\"id\": file_id, \"confirm\": token}\n",
    "        response = session.get(URL, params=params, stream=True)\n",
    "\n",
    "    save_response_content(response, destination)"
   ]
  },
  {
   "cell_type": "code",
   "execution_count": 9,
   "id": "d9446431-0ec2-47ef-adf0-6d9348f42da8",
   "metadata": {},
   "outputs": [],
   "source": [
    "def get_confirm_token(response):\n",
    "    for key, value in response.cookies.items():\n",
    "        if key.startswith(\"download_warning\"):\n",
    "            return value\n",
    "\n",
    "    return None"
   ]
  },
  {
   "cell_type": "code",
   "execution_count": 10,
   "id": "34747cb1-caa2-4421-843e-7ff1dc4435c4",
   "metadata": {},
   "outputs": [],
   "source": [
    "def save_response_content(response, destination):\n",
    "    CHUNK_SIZE = 32768\n",
    "\n",
    "    with open(destination, \"wb\") as f:\n",
    "        for chunk in response.iter_content(CHUNK_SIZE):\n",
    "            if chunk:  # filter out keep-alive new chunks\n",
    "                f.write(chunk)"
   ]
  },
  {
   "cell_type": "code",
   "execution_count": 11,
   "id": "68f560a7-a133-45b4-809c-e8f173309a46",
   "metadata": {},
   "outputs": [],
   "source": [
    "import sys\n"
   ]
  },
  {
   "cell_type": "code",
   "execution_count": 20,
   "id": "3e31affb-88d0-4aaf-a39e-ee21c95a5e8a",
   "metadata": {},
   "outputs": [
    {
     "name": "stdout",
     "output_type": "stream",
     "text": [
      "dowload 1G6SEgg018UB4_4xsAJJ5TdzrhmXipr4Q to C:\\Users\\Administrator\\mylocal\\python\\Find_the_Phone_Number.pdf\n"
     ]
    }
   ],
   "source": [
    "file_name = 'Find_the_Phone_Number.pdf'\n",
    "save_dir = os.getcwd()\n",
    "\n",
    "outfile = os.path.join(save_dir, file_name)\n",
    "\n",
    "\n",
    "file_id = '1G6SEgg018UB4_4xsAJJ5TdzrhmXipr4Q'\n",
    "destination = outfile\n",
    "print(f\"dowload {file_id} to {destination}\")\n",
    "download_file_from_google_drive(file_id, destination)"
   ]
  },
  {
   "cell_type": "code",
   "execution_count": 17,
   "id": "bb67d186-000b-4316-af74-13efaeaeae0d",
   "metadata": {},
   "outputs": [],
   "source": [
    "#import gdown"
   ]
  },
  {
   "cell_type": "code",
   "execution_count": 21,
   "id": "31602890-4064-40ef-a471-3dd1d03aa13e",
   "metadata": {},
   "outputs": [],
   "source": [
    "pdf_file = open('Find_the_Phone_Number.pdf', 'rb')\n"
   ]
  },
  {
   "cell_type": "code",
   "execution_count": 22,
   "id": "375d83b0-a3c2-42db-a21e-0f407a4be052",
   "metadata": {},
   "outputs": [],
   "source": [
    "pdf_reader = PyPDF2.PdfReader(pdf_file)"
   ]
  },
  {
   "cell_type": "code",
   "execution_count": 23,
   "id": "0e28c9ee-9a2c-4435-add4-208b9982893d",
   "metadata": {},
   "outputs": [],
   "source": [
    "pdf_texts = []\n",
    "\n",
    "for num in pdf_reader.pages:\n",
    "    pdf_texts.append(num.extract_text())"
   ]
  },
  {
   "cell_type": "code",
   "execution_count": 39,
   "id": "d686dc7f-334b-4bf1-b53c-df187027a8b4",
   "metadata": {},
   "outputs": [
    {
     "name": "stdout",
     "output_type": "stream",
     "text": [
      "the industry is heading and give back to the community what we’ve learned. \n",
      "Technologically savvy can you slack  it to me? drink from the firehose, synergestic \n",
      "actionables. Obviously this is a no -brainer, so what about scaling components to a \n",
      "global audience?, so dunder mifflin regroup. We need to get all stakeholders up to \n",
      "speed and in the right place knowledge is power circle back around, yet horsehead offer \n",
      "red flag we need this overall to be busier and more active hit the ground running. Can I \n",
      "just chime in on that one bake it in, onward and upward, productize the deliverables and \n",
      "focus on the bottom line. Deploy . Window of opportunity let's schedule a standup during \n",
      "the sprint to review our kpis can we take this offline, or gain traction. Meeting assassin \n",
      "tbrand terrorists put it on the parking lot or we've got to manage that low hanging fruit or \n",
      "low engagement. Meeting assassin hire the best yet we need distributors to evangelize \n",
      "the new line to local markets, or corporate synergy nor face time. What do you feel you \n",
      "would bring to the table if you were hired for this position synergestic actionables yet \n",
      "work flow s , nor marketing computer development html roi feedback team website what \n",
      "do you feel you would bring to the table if you were hired for this position dear hiring \n",
      "manager:. Can you ballpark the cost per unit for me. Five -year strategic plan shotgun \n",
      "approa ch, it just needs more cowbell. Out of the loop player -coach. What's our go to \n",
      "market strategy?.  \n",
      " \n",
      " \n",
      "Not the long pole in my tent beef up, or accountable talk yet bleeding edge, so sorry i \n",
      "didn't get your email. All hands on deck we need to harvest synergy e ffects, big data \n",
      "what's the status on the deliverables for eow? Can you call Saul Goodman for me? His \n",
      "phone number is 505.503.4455. So horsehead offer. Talk to the slides no scraps hit the \n",
      "floor window -licker. Nail it down who's responsible for the ask for  this request? we need \n",
      "distributors to evangelize the new line to local markets imagineer, or ensure to follow \n",
      "requirements when developing solutions nor make it a priority. Out of scope drink from \n",
      "the firehose, or shoot me an email nor we don't need to bo il the ocean here strategic fit, \n",
      "nor prairie dogging. Bottleneck mice quick -win to be inspired is to become creative, \n",
      "innovative and energized we want this philosophy to trickle down to all our stakeholders \n",
      "or synergestic actionables. I don't want to drain  the whole swamp, i just want to shoot \n",
      "some alligators cannibalize, and define the underlying principles that drive decisions \n",
      "and strategy for your design language so I just wanted to give you a heads -up, or \n",
      "churning anomalies but ultimate measure of succe ss yet first -order optimal strategies. If \n",
      "you want to motivate these clowns, try less carrot and more stick drill down focus on the \n",
      "customer journey feature creep after I ran into Helen at a restaurant, I realized she was \n",
      "just office pretty not a hill to d ie on yet pro -sumer software. Come up with something \n",
      "buzzworthy can you put it on my calendar? gage [sic] where the industry is heading and \n",
      "give back to the community what we’ve learned where do we stand on the latest client \n",
      "ask, yet in this space so criti cality horsehead offer. Gain traction onward and upward, \n",
      "productize the deliverables and focus on the bottom line for pro -sumer software, we just \n",
      "need to put these last issues to bed, and we have to leverage up the messaging forcing \n"
     ]
    }
   ],
   "source": [
    "print(pdf_texts[13])"
   ]
  },
  {
   "cell_type": "code",
   "execution_count": 30,
   "id": "6b887f2d-9490-465c-b054-9bf8743de8ff",
   "metadata": {},
   "outputs": [],
   "source": [
    "import re\n",
    "from re import match\n"
   ]
  },
  {
   "cell_type": "code",
   "execution_count": 44,
   "id": "079845b0-888c-422e-8475-e163284895db",
   "metadata": {},
   "outputs": [
    {
     "name": "stdout",
     "output_type": "stream",
     "text": [
      "[]\n"
     ]
    }
   ],
   "source": [
    "phone_pattern = r'\\d{3}.*\\d{3}.*\\d{4}'\n",
    "# matches = re.search(phone_pattern, pdf_texts)\n",
    "#filtered_values = list(filter(lambda v: match(phone_pattern, v), pdf_texts))\n",
    "\n",
    "r = re.compile(phone_pattern)\n",
    "newlist = list(filter(r.match, pdf_texts)) # Read Note below\n",
    "print(newlist)\n",
    "\n",
    "#match = re.search(phone_pattern, pdf_texts[13])"
   ]
  },
  {
   "cell_type": "code",
   "execution_count": 41,
   "id": "0bb95437-4300-42dc-a379-a6cdcfa26c68",
   "metadata": {},
   "outputs": [
    {
     "data": {
      "text/plain": [
       "<re.Match object; span=(1796, 1808), match='505.503.4455'>"
      ]
     },
     "execution_count": 41,
     "metadata": {},
     "output_type": "execute_result"
    }
   ],
   "source": []
  },
  {
   "cell_type": "code",
   "execution_count": null,
   "id": "f1e573d7-e28f-40e3-aaaa-3720daf9681c",
   "metadata": {},
   "outputs": [],
   "source": []
  }
 ],
 "metadata": {
  "kernelspec": {
   "display_name": "Python 3 (ipykernel)",
   "language": "python",
   "name": "python3"
  },
  "language_info": {
   "codemirror_mode": {
    "name": "ipython",
    "version": 3
   },
   "file_extension": ".py",
   "mimetype": "text/x-python",
   "name": "python",
   "nbconvert_exporter": "python",
   "pygments_lexer": "ipython3",
   "version": "3.11.7"
  }
 },
 "nbformat": 4,
 "nbformat_minor": 5
}
