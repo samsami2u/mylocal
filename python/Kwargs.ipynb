{
 "cells": [
  {
   "cell_type": "code",
   "execution_count": 1,
   "id": "11f8efda",
   "metadata": {},
   "outputs": [],
   "source": [
    "def myfunc(a, b):\n",
    "    # Return 5% of sum of a and b\n",
    "    return (a+b) * 0.05"
   ]
  },
  {
   "cell_type": "code",
   "execution_count": 2,
   "id": "59f5d448",
   "metadata": {},
   "outputs": [
    {
     "data": {
      "text/plain": [
       "5.5"
      ]
     },
     "execution_count": 2,
     "metadata": {},
     "output_type": "execute_result"
    }
   ],
   "source": [
    "myfunc(50, 60)"
   ]
  },
  {
   "cell_type": "code",
   "execution_count": 10,
   "id": "3a30c554",
   "metadata": {},
   "outputs": [],
   "source": [
    "def myfunc(*params):\n",
    "    print(params)\n",
    "    return sum(params) * 0.05"
   ]
  },
  {
   "cell_type": "code",
   "execution_count": 11,
   "id": "9ce87bc0",
   "metadata": {},
   "outputs": [
    {
     "name": "stdout",
     "output_type": "stream",
     "text": [
      "(100, 200, 500, 800, 2000)\n"
     ]
    },
    {
     "data": {
      "text/plain": [
       "180.0"
      ]
     },
     "execution_count": 11,
     "metadata": {},
     "output_type": "execute_result"
    }
   ],
   "source": [
    "myfunc(100, 200, 500, 800, 2000)"
   ]
  },
  {
   "cell_type": "code",
   "execution_count": 15,
   "id": "81301659",
   "metadata": {},
   "outputs": [],
   "source": [
    "def myfunck(**kwargs):\n",
    "    print(kwargs)\n",
    "    if 'fruit' in kwargs:\n",
    "        print( 'My fruit of choice is {}'.format(kwargs['fruit']) )\n",
    "    else:\n",
    "        print( 'I didnot find any fruit here.' )"
   ]
  },
  {
   "cell_type": "code",
   "execution_count": 16,
   "id": "74ff810b",
   "metadata": {},
   "outputs": [
    {
     "name": "stdout",
     "output_type": "stream",
     "text": [
      "{'fruit': 'apple', 'veggie': 'lettuce'}\n",
      "My fruit of choice is apple\n"
     ]
    }
   ],
   "source": [
    "myfunck(fruit='apple', veggie='lettuce')"
   ]
  },
  {
   "cell_type": "code",
   "execution_count": 17,
   "id": "b32c73f3",
   "metadata": {},
   "outputs": [
    {
     "name": "stdout",
     "output_type": "stream",
     "text": [
      "{'veggie': 'Aubergine'}\n",
      "I didnot find any fruit here.\n"
     ]
    }
   ],
   "source": [
    "myfunck(veggie='Aubergine')"
   ]
  },
  {
   "cell_type": "code",
   "execution_count": 20,
   "id": "e4a84e64",
   "metadata": {},
   "outputs": [],
   "source": [
    "def myfuncboth(*args, **kwargs):\n",
    "    print( 'I would like {} and {}'.format(args[0], kwargs['food']) )"
   ]
  },
  {
   "cell_type": "code",
   "execution_count": 21,
   "id": "041da205",
   "metadata": {},
   "outputs": [
    {
     "name": "stdout",
     "output_type": "stream",
     "text": [
      "I would like 10 and Chicken\n"
     ]
    }
   ],
   "source": [
    "myfuncboth(10, 20, 30, animal='dog', food='Chicken')"
   ]
  },
  {
   "cell_type": "markdown",
   "id": "153f59ac",
   "metadata": {},
   "source": [
    "myfuncboth()"
   ]
  },
  {
   "cell_type": "code",
   "execution_count": 23,
   "id": "a3ba7487",
   "metadata": {},
   "outputs": [
    {
     "ename": "KeyError",
     "evalue": "'food'",
     "output_type": "error",
     "traceback": [
      "\u001b[1;31m---------------------------------------------------------------------------\u001b[0m",
      "\u001b[1;31mKeyError\u001b[0m                                  Traceback (most recent call last)",
      "Cell \u001b[1;32mIn[23], line 1\u001b[0m\n\u001b[1;32m----> 1\u001b[0m myfuncboth(\u001b[38;5;241m30\u001b[39m, animal\u001b[38;5;241m=\u001b[39m\u001b[38;5;124m'\u001b[39m\u001b[38;5;124mdog\u001b[39m\u001b[38;5;124m'\u001b[39m)\n",
      "Cell \u001b[1;32mIn[20], line 2\u001b[0m, in \u001b[0;36mmyfuncboth\u001b[1;34m(*args, **kwargs)\u001b[0m\n\u001b[0;32m      1\u001b[0m \u001b[38;5;28;01mdef\u001b[39;00m \u001b[38;5;21mmyfuncboth\u001b[39m(\u001b[38;5;241m*\u001b[39margs, \u001b[38;5;241m*\u001b[39m\u001b[38;5;241m*\u001b[39mkwargs):\n\u001b[1;32m----> 2\u001b[0m     \u001b[38;5;28mprint\u001b[39m( \u001b[38;5;124m'\u001b[39m\u001b[38;5;124mI would like \u001b[39m\u001b[38;5;132;01m{}\u001b[39;00m\u001b[38;5;124m and \u001b[39m\u001b[38;5;132;01m{}\u001b[39;00m\u001b[38;5;124m'\u001b[39m\u001b[38;5;241m.\u001b[39mformat(args[\u001b[38;5;241m0\u001b[39m], kwargs[\u001b[38;5;124m'\u001b[39m\u001b[38;5;124mfood\u001b[39m\u001b[38;5;124m'\u001b[39m]) )\n",
      "\u001b[1;31mKeyError\u001b[0m: 'food'"
     ]
    }
   ],
   "source": [
    "myfuncboth(30, animal='dog')"
   ]
  },
  {
   "cell_type": "code",
   "execution_count": 28,
   "id": "21c23886",
   "metadata": {},
   "outputs": [],
   "source": [
    "def myfunc(string):\n",
    "    returnstring = ''\n",
    "    counter = 0\n",
    "    \n",
    "    for letter in string:\n",
    "        if counter % 2 == 0:\n",
    "            returnstring = returnstring + letter.upper()\n",
    "        else:\n",
    "            returnstring = returnstring + letter.lower()\n",
    "        \n",
    "        print( counter )\n",
    "        counter += 1\n",
    "        \n",
    "    return returnstring"
   ]
  },
  {
   "cell_type": "code",
   "execution_count": 29,
   "id": "33e9105a",
   "metadata": {},
   "outputs": [
    {
     "name": "stdout",
     "output_type": "stream",
     "text": [
      "0\n",
      "1\n",
      "2\n",
      "3\n",
      "4\n",
      "5\n"
     ]
    },
    {
     "data": {
      "text/plain": [
       "'AbCdEf'"
      ]
     },
     "execution_count": 29,
     "metadata": {},
     "output_type": "execute_result"
    }
   ],
   "source": [
    "myfunc('abcdef')"
   ]
  },
  {
   "cell_type": "code",
   "execution_count": null,
   "id": "0a4b1250",
   "metadata": {},
   "outputs": [],
   "source": []
  }
 ],
 "metadata": {
  "kernelspec": {
   "display_name": "Python 3 (ipykernel)",
   "language": "python",
   "name": "python3"
  },
  "language_info": {
   "codemirror_mode": {
    "name": "ipython",
    "version": 3
   },
   "file_extension": ".py",
   "mimetype": "text/x-python",
   "name": "python",
   "nbconvert_exporter": "python",
   "pygments_lexer": "ipython3",
   "version": "3.11.5"
  }
 },
 "nbformat": 4,
 "nbformat_minor": 5
}
