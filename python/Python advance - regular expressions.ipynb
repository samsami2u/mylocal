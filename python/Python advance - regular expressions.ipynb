{
 "cells": [
  {
   "cell_type": "code",
   "execution_count": 42,
   "id": "a1fd4a05",
   "metadata": {},
   "outputs": [],
   "source": [
    "import re\n",
    "\n",
    "\n",
    "sample_text = \"The agent's phone number is 443-555-1234. Call soon!\""
   ]
  },
  {
   "cell_type": "code",
   "execution_count": 3,
   "id": "d88e3dd3",
   "metadata": {},
   "outputs": [
    {
     "data": {
      "text/plain": [
       "True"
      ]
     },
     "execution_count": 3,
     "metadata": {},
     "output_type": "execute_result"
    }
   ],
   "source": [
    "'phone' in sample_text"
   ]
  },
  {
   "cell_type": "code",
   "execution_count": 43,
   "id": "de7dc873",
   "metadata": {},
   "outputs": [],
   "source": [
    "pattern = 'phone'\n",
    "match = re.search(pattern,  sample_text)"
   ]
  },
  {
   "cell_type": "code",
   "execution_count": 44,
   "id": "df848ce5",
   "metadata": {},
   "outputs": [],
   "source": [
    "no_match = 'no match'\n",
    "re.search(no_match, sample_text)"
   ]
  },
  {
   "cell_type": "code",
   "execution_count": 45,
   "id": "f501fe9e",
   "metadata": {},
   "outputs": [
    {
     "data": {
      "text/plain": [
       "12"
      ]
     },
     "execution_count": 45,
     "metadata": {},
     "output_type": "execute_result"
    }
   ],
   "source": [
    "match.start()"
   ]
  },
  {
   "cell_type": "code",
   "execution_count": 9,
   "id": "2262dba0",
   "metadata": {},
   "outputs": [
    {
     "data": {
      "text/plain": [
       "17"
      ]
     },
     "execution_count": 9,
     "metadata": {},
     "output_type": "execute_result"
    }
   ],
   "source": [
    "match.end()"
   ]
  },
  {
   "cell_type": "code",
   "execution_count": 10,
   "id": "9e56f89f",
   "metadata": {},
   "outputs": [
    {
     "data": {
      "text/plain": [
       "(12, 17)"
      ]
     },
     "execution_count": 10,
     "metadata": {},
     "output_type": "execute_result"
    }
   ],
   "source": [
    "match.span()"
   ]
  },
  {
   "cell_type": "code",
   "execution_count": 12,
   "id": "0529ca2e",
   "metadata": {},
   "outputs": [],
   "source": [
    "new_text = 'my phone once, my phone twice'"
   ]
  },
  {
   "cell_type": "code",
   "execution_count": 23,
   "id": "f5d67186",
   "metadata": {},
   "outputs": [],
   "source": [
    "pattern = 'phone'\n",
    "new_match = re.findall(pattern, new_text)"
   ]
  },
  {
   "cell_type": "code",
   "execution_count": 26,
   "id": "128269ad",
   "metadata": {},
   "outputs": [
    {
     "data": {
      "text/plain": [
       "['phone', 'phone']"
      ]
     },
     "execution_count": 26,
     "metadata": {},
     "output_type": "execute_result"
    }
   ],
   "source": [
    "new_match"
   ]
  },
  {
   "cell_type": "code",
   "execution_count": 32,
   "id": "1aa1df5b",
   "metadata": {},
   "outputs": [],
   "source": [
    "emails = 'asldkfj@gsdf.com, aoimeww@lkdf.iue, aldkfs#23.com, oimalc.@gmail.com, xioma2@hotmail.com'\n",
    "\n",
    "emails_pattern = r'\\w+@\\w+.com'\n",
    "\n",
    "emails_match = re.findall(emails_pattern, emails)"
   ]
  },
  {
   "cell_type": "code",
   "execution_count": 33,
   "id": "ae37df1f",
   "metadata": {},
   "outputs": [
    {
     "data": {
      "text/plain": [
       "['asldkfj@gsdf.com', 'xioma2@hotmail.com']"
      ]
     },
     "execution_count": 33,
     "metadata": {},
     "output_type": "execute_result"
    }
   ],
   "source": [
    "emails_match"
   ]
  },
  {
   "cell_type": "code",
   "execution_count": 37,
   "id": "8f5c5e31",
   "metadata": {},
   "outputs": [
    {
     "name": "stdout",
     "output_type": "stream",
     "text": [
      "(0, 16)\n",
      "(70, 88)\n"
     ]
    }
   ],
   "source": [
    "for match in re.finditer(emails_pattern, emails):\n",
    "    print(match.span())"
   ]
  },
  {
   "cell_type": "code",
   "execution_count": 38,
   "id": "f24d0e11",
   "metadata": {},
   "outputs": [],
   "source": [
    "emails_matchs = re.search(emails_pattern, emails)"
   ]
  },
  {
   "cell_type": "code",
   "execution_count": 41,
   "id": "94f710b2",
   "metadata": {},
   "outputs": [
    {
     "data": {
      "text/plain": [
       "'asldkfj@gsdf.com'"
      ]
     },
     "execution_count": 41,
     "metadata": {},
     "output_type": "execute_result"
    }
   ],
   "source": [
    "emails_matchs.group()"
   ]
  },
  {
   "cell_type": "code",
   "execution_count": null,
   "id": "a96cf532",
   "metadata": {},
   "outputs": [],
   "source": []
  }
 ],
 "metadata": {
  "kernelspec": {
   "display_name": "Python 3 (ipykernel)",
   "language": "python",
   "name": "python3"
  },
  "language_info": {
   "codemirror_mode": {
    "name": "ipython",
    "version": 3
   },
   "file_extension": ".py",
   "mimetype": "text/x-python",
   "name": "python",
   "nbconvert_exporter": "python",
   "pygments_lexer": "ipython3",
   "version": "3.11.5"
  }
 },
 "nbformat": 4,
 "nbformat_minor": 5
}
