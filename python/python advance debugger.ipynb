{
 "cells": [
  {
   "cell_type": "code",
   "execution_count": 1,
   "id": "f8703784",
   "metadata": {},
   "outputs": [],
   "source": [
    "x = list(range(1,3))"
   ]
  },
  {
   "cell_type": "code",
   "execution_count": 4,
   "id": "72608e96",
   "metadata": {},
   "outputs": [],
   "source": [
    "y = 2\n",
    "z = 3"
   ]
  },
  {
   "cell_type": "code",
   "execution_count": 8,
   "id": "368a503d",
   "metadata": {},
   "outputs": [
    {
     "name": "stdout",
     "output_type": "stream",
     "text": [
      "5\n",
      "[1, 2]\n",
      "2\n"
     ]
    },
    {
     "ename": "TypeError",
     "evalue": "can only concatenate list (not \"int\") to list",
     "output_type": "error",
     "traceback": [
      "\u001b[1;31m---------------------------------------------------------------------------\u001b[0m",
      "\u001b[1;31mTypeError\u001b[0m                                 Traceback (most recent call last)",
      "Cell \u001b[1;32mIn[8], line 5\u001b[0m\n\u001b[0;32m      3\u001b[0m \u001b[38;5;28mprint\u001b[39m(x)\n\u001b[0;32m      4\u001b[0m \u001b[38;5;28mprint\u001b[39m(y)\n\u001b[1;32m----> 5\u001b[0m result \u001b[38;5;241m=\u001b[39m x\u001b[38;5;241m+\u001b[39my\n",
      "\u001b[1;31mTypeError\u001b[0m: can only concatenate list (not \"int\") to list"
     ]
    }
   ],
   "source": [
    "result = y+z\n",
    "print(result)\n",
    "print(x)\n",
    "print(y)\n",
    "result = x+y"
   ]
  },
  {
   "cell_type": "code",
   "execution_count": null,
   "id": "4d347daf",
   "metadata": {},
   "outputs": [
    {
     "name": "stdout",
     "output_type": "stream",
     "text": [
      "--Return--\n",
      "None\n",
      "> \u001b[1;32mc:\\users\\admin\\appdata\\local\\temp\\ipykernel_17488\\4205506122.py\u001b[0m(3)\u001b[0;36m<module>\u001b[1;34m()\u001b[0m\n",
      "\n",
      "ipdb> y\n",
      "2\n",
      "ipdb> x\n",
      "[1, 2]\n",
      "ipdb> result_1\n",
      "5\n",
      "ipdb> result_2\n",
      "*** NameError: name 'result_2' is not defined\n",
      "ipdb> result_2\n",
      "*** NameError: name 'result_2' is not defined\n"
     ]
    }
   ],
   "source": [
    "import pdb\n",
    "\n",
    "pdb.set_trace()\n",
    "result_1 = y+z\n",
    "\n",
    "result_2 = x+y\n",
    "\n"
   ]
  },
  {
   "cell_type": "code",
   "execution_count": null,
   "id": "47e850f8",
   "metadata": {},
   "outputs": [],
   "source": []
  }
 ],
 "metadata": {
  "kernelspec": {
   "display_name": "Python 3 (ipykernel)",
   "language": "python",
   "name": "python3"
  },
  "language_info": {
   "codemirror_mode": {
    "name": "ipython",
    "version": 3
   },
   "file_extension": ".py",
   "mimetype": "text/x-python",
   "name": "python",
   "nbconvert_exporter": "python",
   "pygments_lexer": "ipython3",
   "version": "3.11.5"
  }
 },
 "nbformat": 4,
 "nbformat_minor": 5
}
