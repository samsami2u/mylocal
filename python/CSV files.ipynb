{
 "cells": [
  {
   "cell_type": "code",
   "execution_count": 3,
   "id": "3210c969-a933-4f47-9d73-13c5262b3348",
   "metadata": {},
   "outputs": [],
   "source": [
    "import csv"
   ]
  },
  {
   "cell_type": "code",
   "execution_count": 4,
   "id": "ee8d61f0-ed2b-400b-8fdc-740d11184bd7",
   "metadata": {},
   "outputs": [],
   "source": [
    "csv_data = open('example.csv', encoding='utf-8')"
   ]
  },
  {
   "cell_type": "code",
   "execution_count": 5,
   "id": "c0745845-4354-499a-bc0a-d0618e513773",
   "metadata": {},
   "outputs": [],
   "source": [
    "csv_extracted_data = csv.reader(csv_data)"
   ]
  },
  {
   "cell_type": "code",
   "execution_count": 6,
   "id": "15fcf950-b5d7-462b-9740-6ccb5e0f1729",
   "metadata": {},
   "outputs": [],
   "source": [
    "csv_list = list(csv_extracted_data)"
   ]
  },
  {
   "cell_type": "code",
   "execution_count": 8,
   "id": "0f9dd867-425d-44f7-a2b2-ec6756fae21a",
   "metadata": {},
   "outputs": [
    {
     "data": {
      "text/plain": [
       "['id', 'first_name', 'last_name', 'email', 'gender', 'ip_address', 'city']"
      ]
     },
     "execution_count": 8,
     "metadata": {},
     "output_type": "execute_result"
    }
   ],
   "source": [
    "csv_list[0]"
   ]
  },
  {
   "cell_type": "code",
   "execution_count": 9,
   "id": "fcf9febb-fd6f-4b6c-ade7-51ec2dfe785f",
   "metadata": {},
   "outputs": [
    {
     "data": {
      "text/plain": [
       "1001"
      ]
     },
     "execution_count": 9,
     "metadata": {},
     "output_type": "execute_result"
    }
   ],
   "source": [
    "len(csv_list)"
   ]
  },
  {
   "cell_type": "code",
   "execution_count": 12,
   "id": "f4fab6f6-3fb8-4e80-af1f-c47c651d5364",
   "metadata": {},
   "outputs": [
    {
     "data": {
      "text/plain": [
       "'Gasquoine'"
      ]
     },
     "execution_count": 12,
     "metadata": {},
     "output_type": "execute_result"
    }
   ],
   "source": [
    "#for dta in csv_list:\n",
    "    #print(dta)\n",
    "\n",
    "csv_list[10][2]"
   ]
  },
  {
   "cell_type": "code",
   "execution_count": 16,
   "id": "1c4bb571-c300-4a6e-8fe5-82c6b852b88f",
   "metadata": {},
   "outputs": [],
   "source": [
    "all_emails = []\n",
    "\n",
    "for row in csv_list[1:]:\n",
    "    all_emails.append(row[3])"
   ]
  },
  {
   "cell_type": "code",
   "execution_count": 18,
   "id": "cdf1d89d-802d-4bce-beab-633514839970",
   "metadata": {},
   "outputs": [],
   "source": [
    "#all_emails"
   ]
  },
  {
   "cell_type": "code",
   "execution_count": 19,
   "id": "81377171-7d77-492b-a6cf-8eada93eb034",
   "metadata": {},
   "outputs": [],
   "source": [
    "file_to_output = open('save_to_file.csv', mode='w', newline='')"
   ]
  },
  {
   "cell_type": "code",
   "execution_count": 21,
   "id": "2aa9ad1e-608b-4674-9680-c8e5f6304735",
   "metadata": {},
   "outputs": [],
   "source": [
    "csv_writer = csv.writer(file_to_output, delimiter=',')"
   ]
  },
  {
   "cell_type": "code",
   "execution_count": 22,
   "id": "2653e10c-bdef-4942-b82e-fe6f13956179",
   "metadata": {},
   "outputs": [
    {
     "data": {
      "text/plain": [
       "27"
      ]
     },
     "execution_count": 22,
     "metadata": {},
     "output_type": "execute_result"
    }
   ],
   "source": [
    "csv_writer.writerow(['cid', 'report_id', 'report_name'])"
   ]
  },
  {
   "cell_type": "code",
   "execution_count": 23,
   "id": "7f2b8503-940d-4382-b829-1db9310f6553",
   "metadata": {},
   "outputs": [
    {
     "data": {
      "text/plain": [
       "14"
      ]
     },
     "execution_count": 23,
     "metadata": {},
     "output_type": "execute_result"
    }
   ],
   "source": [
    "csv_writer.writerow([1, 3, 'RentRoll'])"
   ]
  },
  {
   "cell_type": "code",
   "execution_count": 24,
   "id": "43b33b96-f0d1-4f2b-ad7d-d9f93ecbd6c0",
   "metadata": {},
   "outputs": [],
   "source": [
    "file_to_output.close()"
   ]
  },
  {
   "cell_type": "code",
   "execution_count": null,
   "id": "7fb0c772-1f87-40f9-b8c0-b95c0cfea5fb",
   "metadata": {},
   "outputs": [],
   "source": []
  }
 ],
 "metadata": {
  "kernelspec": {
   "display_name": "Python 3 (ipykernel)",
   "language": "python",
   "name": "python3"
  },
  "language_info": {
   "codemirror_mode": {
    "name": "ipython",
    "version": 3
   },
   "file_extension": ".py",
   "mimetype": "text/x-python",
   "name": "python",
   "nbconvert_exporter": "python",
   "pygments_lexer": "ipython3",
   "version": "3.11.7"
  }
 },
 "nbformat": 4,
 "nbformat_minor": 5
}
