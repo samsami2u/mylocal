{
 "cells": [
  {
   "cell_type": "code",
   "execution_count": 5,
   "id": "adf120b4-90f7-4e7b-95dd-4beb1fafff11",
   "metadata": {},
   "outputs": [],
   "source": [
    "from ipywidgets import Button\n",
    "from ipywidgets import interact, interactive, fixed\n",
    "import ipywidgets as widgets"
   ]
  },
  {
   "cell_type": "code",
   "execution_count": 4,
   "id": "ad95c327-3707-4cd4-b5e9-0b10724219c6",
   "metadata": {},
   "outputs": [],
   "source": [
    "#Button(description='Danger Button', button_style='danger')"
   ]
  },
  {
   "cell_type": "code",
   "execution_count": 2,
   "id": "67ee01bc-4e34-448d-8807-6a197e2745f2",
   "metadata": {},
   "outputs": [],
   "source": [
    "def func(x):\n",
    "    return x"
   ]
  },
  {
   "cell_type": "code",
   "execution_count": 7,
   "id": "07354bea-2443-477d-b0c0-b7646c10c086",
   "metadata": {},
   "outputs": [
    {
     "data": {
      "application/vnd.jupyter.widget-view+json": {
       "model_id": "eb9e53e085564bdc86c3d172f062d8f2",
       "version_major": 2,
       "version_minor": 0
      },
      "text/plain": [
       "interactive(children=(Text(value='Hi', description='x'), Output()), _dom_classes=('widget-interact',))"
      ]
     },
     "metadata": {},
     "output_type": "display_data"
    },
    {
     "data": {
      "text/plain": [
       "<function __main__.func(x)>"
      ]
     },
     "execution_count": 7,
     "metadata": {},
     "output_type": "execute_result"
    }
   ],
   "source": [
    "interact(func, x='Hi')"
   ]
  },
  {
   "cell_type": "code",
   "execution_count": 11,
   "id": "c212aa34-e0c6-4cc8-856d-d271eef89578",
   "metadata": {},
   "outputs": [
    {
     "data": {
      "application/vnd.jupyter.widget-view+json": {
       "model_id": "83d37e49d86645a284dc83999999b46f",
       "version_major": 2,
       "version_minor": 0
      },
      "text/plain": [
       "interactive(children=(Checkbox(value=True, description='x'), Output()), _dom_classes=('widget-interact',))"
      ]
     },
     "metadata": {},
     "output_type": "display_data"
    }
   ],
   "source": [
    "@interact(x=True, y=fixed(1.0))\n",
    "def g(x, y):\n",
    "    return (x, y)"
   ]
  },
  {
   "cell_type": "code",
   "execution_count": 12,
   "id": "23cfcd7d-5541-4bce-9062-8a73777fc076",
   "metadata": {},
   "outputs": [
    {
     "data": {
      "application/vnd.jupyter.widget-view+json": {
       "model_id": "ee28045bc6974a83a68f657eb960a2fb",
       "version_major": 2,
       "version_minor": 0
      },
      "text/plain": [
       "interactive(children=(IntSlider(value=100, description='x', min=100), Output()), _dom_classes=('widget-interac…"
      ]
     },
     "metadata": {},
     "output_type": "display_data"
    },
    {
     "data": {
      "text/plain": [
       "<function __main__.func(x)>"
      ]
     },
     "execution_count": 12,
     "metadata": {},
     "output_type": "execute_result"
    }
   ],
   "source": [
    "interact(func, x=widgets.IntSlider(min=100, max=100, step=1, value=0))"
   ]
  },
  {
   "cell_type": "code",
   "execution_count": 13,
   "id": "3e566b4b-84ce-4cd2-8730-3782d4ad990f",
   "metadata": {},
   "outputs": [
    {
     "data": {
      "application/vnd.jupyter.widget-view+json": {
       "model_id": "0e35b7af77304614b88db6cf197a1693",
       "version_major": 2,
       "version_minor": 0
      },
      "text/plain": [
       "interactive(children=(IntSlider(value=0, description='x', max=10, min=-10, step=5), Output()), _dom_classes=('…"
      ]
     },
     "metadata": {},
     "output_type": "display_data"
    },
    {
     "data": {
      "text/plain": [
       "<function __main__.func(x)>"
      ]
     },
     "execution_count": 13,
     "metadata": {},
     "output_type": "execute_result"
    }
   ],
   "source": [
    "interact(func, x=(-10, 10, 5))"
   ]
  },
  {
   "cell_type": "code",
   "execution_count": 26,
   "id": "46053fc4-0fa3-4d8b-8269-2303434740b6",
   "metadata": {},
   "outputs": [
    {
     "data": {
      "application/vnd.jupyter.widget-view+json": {
       "model_id": "d76968c3668b49a3a82657af9d16ce95",
       "version_major": 2,
       "version_minor": 0
      },
      "text/plain": [
       "interactive(children=(Dropdown(description='x', options={'month': 0, 'yeaar': 1}, value=0), Output()), _dom_cl…"
      ]
     },
     "metadata": {},
     "output_type": "display_data"
    }
   ],
   "source": [
    "interact(func, x={'month':0, 'yeaar':1});"
   ]
  },
  {
   "cell_type": "code",
   "execution_count": 12,
   "id": "d8209767-90dd-442f-8851-b85907a316e6",
   "metadata": {},
   "outputs": [],
   "source": [
    "from IPython.display import display\n",
    "\n",
    "def add(a, b):\n",
    "    display(a*b)\n",
    "    return a*b"
   ]
  },
  {
   "cell_type": "code",
   "execution_count": 13,
   "id": "557fdf67-4151-4717-b022-ff28115935b2",
   "metadata": {},
   "outputs": [],
   "source": [
    "wid = interactive(add, a=5, b=7)"
   ]
  },
  {
   "cell_type": "code",
   "execution_count": 14,
   "id": "f184b42a-9e33-4793-946b-8c7419284d1f",
   "metadata": {},
   "outputs": [
    {
     "data": {
      "text/plain": [
       "(IntSlider(value=5, description='a', max=15, min=-5),\n",
       " IntSlider(value=7, description='b', max=21, min=-7),\n",
       " Output())"
      ]
     },
     "execution_count": 14,
     "metadata": {},
     "output_type": "execute_result"
    }
   ],
   "source": [
    "wid.children"
   ]
  },
  {
   "cell_type": "code",
   "execution_count": 15,
   "id": "08a773b2-9b1c-4800-a32b-86f5d3e0bbd8",
   "metadata": {},
   "outputs": [
    {
     "data": {
      "text/plain": [
       "ipywidgets.widgets.interaction.interactive"
      ]
     },
     "execution_count": 15,
     "metadata": {},
     "output_type": "execute_result"
    }
   ],
   "source": [
    "type(wid)"
   ]
  },
  {
   "cell_type": "code",
   "execution_count": 25,
   "id": "4de9bc22-0de7-487e-93bb-212d1a96a5aa",
   "metadata": {},
   "outputs": [
    {
     "data": {
      "application/vnd.jupyter.widget-view+json": {
       "model_id": "40f384799d7e41c1967cd3f9288e09f1",
       "version_major": 2,
       "version_minor": 0
      },
      "text/plain": [
       "interactive(children=(IntSlider(value=5, description='a', max=15, min=-5), IntSlider(value=7, description='b',…"
      ]
     },
     "execution_count": 25,
     "metadata": {},
     "output_type": "execute_result"
    }
   ],
   "source": [
    "wid"
   ]
  },
  {
   "cell_type": "code",
   "execution_count": 16,
   "id": "7efff8e3-29af-4383-9a88-cb4c6924beb0",
   "metadata": {},
   "outputs": [],
   "source": [
    "w = widgets.IntSlider()"
   ]
  },
  {
   "cell_type": "code",
   "execution_count": 17,
   "id": "7b8dd59b-572f-4099-b955-8c7d16bb724c",
   "metadata": {},
   "outputs": [
    {
     "data": {
      "application/vnd.jupyter.widget-view+json": {
       "model_id": "4809b73909f7426d9bffed3a303f39da",
       "version_major": 2,
       "version_minor": 0
      },
      "text/plain": [
       "IntSlider(value=0)"
      ]
     },
     "metadata": {},
     "output_type": "display_data"
    }
   ],
   "source": [
    "display(w)"
   ]
  },
  {
   "cell_type": "code",
   "execution_count": 30,
   "id": "a8a79b99-8490-4cbd-a846-6b58d4500c54",
   "metadata": {},
   "outputs": [
    {
     "data": {
      "application/vnd.jupyter.widget-view+json": {
       "model_id": "",
       "version_major": 2,
       "version_minor": 0
      },
      "text/plain": [
       "IntSlider(value=0)"
      ]
     },
     "metadata": {},
     "output_type": "display_data"
    }
   ],
   "source": [
    "display(w)"
   ]
  },
  {
   "cell_type": "code",
   "execution_count": 31,
   "id": "db31dad7-5ab6-4acb-a05d-844df36af040",
   "metadata": {},
   "outputs": [],
   "source": [
    "w.close()"
   ]
  },
  {
   "cell_type": "code",
   "execution_count": 33,
   "id": "d60b2668-e2a7-4519-9106-d650e70fa408",
   "metadata": {},
   "outputs": [
    {
     "data": {
      "text/plain": [
       "7"
      ]
     },
     "execution_count": 33,
     "metadata": {},
     "output_type": "execute_result"
    }
   ],
   "source": [
    "w.value"
   ]
  },
  {
   "cell_type": "code",
   "execution_count": 34,
   "id": "afad16a8-c932-4746-a427-82481625c3f2",
   "metadata": {},
   "outputs": [
    {
     "data": {
      "text/plain": [
       "['_dom_classes',\n",
       " '_model_module',\n",
       " '_model_module_version',\n",
       " '_model_name',\n",
       " '_view_count',\n",
       " '_view_module',\n",
       " '_view_module_version',\n",
       " '_view_name',\n",
       " 'behavior',\n",
       " 'continuous_update',\n",
       " 'description',\n",
       " 'description_allow_html',\n",
       " 'disabled',\n",
       " 'layout',\n",
       " 'max',\n",
       " 'min',\n",
       " 'orientation',\n",
       " 'readout',\n",
       " 'readout_format',\n",
       " 'step',\n",
       " 'style',\n",
       " 'tabbable',\n",
       " 'tooltip',\n",
       " 'value']"
      ]
     },
     "execution_count": 34,
     "metadata": {},
     "output_type": "execute_result"
    }
   ],
   "source": [
    "w.keys"
   ]
  },
  {
   "cell_type": "code",
   "execution_count": 41,
   "id": "2f0e922d-e0c0-4f1c-b81b-25007f4f3642",
   "metadata": {},
   "outputs": [
    {
     "data": {
      "application/vnd.jupyter.widget-view+json": {
       "model_id": "c16c36a64cc94c0ab1e964087c4cdab3",
       "version_major": 2,
       "version_minor": 0
      },
      "text/plain": [
       "FloatText(value=0.0)"
      ]
     },
     "metadata": {},
     "output_type": "display_data"
    },
    {
     "data": {
      "application/vnd.jupyter.widget-view+json": {
       "model_id": "3f5095685a7b4301b3b2f604a88d79c6",
       "version_major": 2,
       "version_minor": 0
      },
      "text/plain": [
       "FloatSlider(value=0.0)"
      ]
     },
     "metadata": {},
     "output_type": "display_data"
    }
   ],
   "source": [
    "a = widgets.FloatText()\n",
    "b = widgets.FloatSlider()\n",
    "\n",
    "mylink = widgets.jslink((a, 'value'), (b, 'max'))\n",
    "\n",
    "display(a, b)"
   ]
  },
  {
   "cell_type": "code",
   "execution_count": 42,
   "id": "8de9e687-84db-490d-bd89-5d4929bcfa8c",
   "metadata": {},
   "outputs": [],
   "source": [
    "mylink.unlink()"
   ]
  },
  {
   "cell_type": "code",
   "execution_count": 1,
   "id": "d93c61b3-fda2-4bd2-b2b6-ecd11ec4272a",
   "metadata": {},
   "outputs": [],
   "source": [
    "import ipywidgets as widgets\n",
    "import IPython.display as display"
   ]
  },
  {
   "cell_type": "code",
   "execution_count": 18,
   "id": "352f961d-0d58-4445-8359-2c201065fb50",
   "metadata": {},
   "outputs": [],
   "source": [
    "w = widgets.IntSlider()\n"
   ]
  },
  {
   "cell_type": "code",
   "execution_count": 19,
   "id": "60de111c-098b-49d4-b776-381f641e97cd",
   "metadata": {},
   "outputs": [
    {
     "data": {
      "application/vnd.jupyter.widget-view+json": {
       "model_id": "f54a85c757a44c489f3b2bcb6db7046c",
       "version_major": 2,
       "version_minor": 0
      },
      "text/plain": [
       "IntSlider(value=0)"
      ]
     },
     "metadata": {},
     "output_type": "display_data"
    }
   ],
   "source": [
    "display(w)"
   ]
  },
  {
   "cell_type": "code",
   "execution_count": 20,
   "id": "aa725a06-0d24-4caa-a61d-3b2b0fc4e8d4",
   "metadata": {},
   "outputs": [],
   "source": [
    "w.layout.margin = 'auto'\n",
    "w.layout.height = '75px'"
   ]
  },
  {
   "cell_type": "code",
   "execution_count": 21,
   "id": "c3abe23c-f234-4814-ae19-226ed2c3e3d1",
   "metadata": {},
   "outputs": [],
   "source": [
    "x =  widgets.IntSlider(value=15, description='Slider')"
   ]
  },
  {
   "cell_type": "code",
   "execution_count": 22,
   "id": "f2b8c178-2956-4509-b87d-e49c0cde4d70",
   "metadata": {},
   "outputs": [
    {
     "data": {
      "application/vnd.jupyter.widget-view+json": {
       "model_id": "8ad4304c780f4de28ccd45aa54ab896d",
       "version_major": 2,
       "version_minor": 0
      },
      "text/plain": [
       "IntSlider(value=15, description='Slider')"
      ]
     },
     "metadata": {},
     "output_type": "display_data"
    }
   ],
   "source": [
    "display(x)"
   ]
  },
  {
   "cell_type": "code",
   "execution_count": 23,
   "id": "0395351a-c8e3-4c79-8d37-08a8003762e6",
   "metadata": {},
   "outputs": [],
   "source": [
    "x.layout = w.layout"
   ]
  },
  {
   "cell_type": "code",
   "execution_count": 28,
   "id": "98a07853-4e44-49ca-ac4f-e5aac6f8dda2",
   "metadata": {},
   "outputs": [
    {
     "data": {
      "application/vnd.jupyter.widget-view+json": {
       "model_id": "815110b8375f4ff4a82cf76fc4c4684c",
       "version_major": 2,
       "version_minor": 0
      },
      "text/plain": [
       "Button(button_style='info', description='Ordinary Button', style=ButtonStyle())"
      ]
     },
     "execution_count": 28,
     "metadata": {},
     "output_type": "execute_result"
    }
   ],
   "source": [
    "widgets.Button(description='Ordinary Button', button_style='info')"
   ]
  },
  {
   "cell_type": "code",
   "execution_count": 29,
   "id": "d768a4fb-4b84-4154-8980-0cef3d96d0cc",
   "metadata": {},
   "outputs": [],
   "source": [
    "b1 = widgets.Button(description='Custom Colors')"
   ]
  },
  {
   "cell_type": "code",
   "execution_count": 30,
   "id": "51bb219d-a408-4ed2-a00a-9a4f1e39a6ad",
   "metadata": {},
   "outputs": [],
   "source": [
    "b1.style.button_color = 'green'"
   ]
  },
  {
   "cell_type": "code",
   "execution_count": 31,
   "id": "a4984fab-9177-4757-ac88-6ea104473c88",
   "metadata": {},
   "outputs": [
    {
     "data": {
      "application/vnd.jupyter.widget-view+json": {
       "model_id": "6fe00b8bc8dc475fbc178ced07cb2897",
       "version_major": 2,
       "version_minor": 0
      },
      "text/plain": [
       "Button(description='Custom Colors', style=ButtonStyle(button_color='green'))"
      ]
     },
     "execution_count": 31,
     "metadata": {},
     "output_type": "execute_result"
    }
   ],
   "source": [
    "b1"
   ]
  },
  {
   "cell_type": "code",
   "execution_count": 32,
   "id": "1959a655-f78e-4944-bb07-364abd0867b1",
   "metadata": {},
   "outputs": [
    {
     "data": {
      "text/plain": [
       "['_model_module',\n",
       " '_model_module_version',\n",
       " '_model_name',\n",
       " '_view_count',\n",
       " '_view_module',\n",
       " '_view_module_version',\n",
       " '_view_name',\n",
       " 'button_color',\n",
       " 'font_family',\n",
       " 'font_size',\n",
       " 'font_style',\n",
       " 'font_variant',\n",
       " 'font_weight',\n",
       " 'text_color',\n",
       " 'text_decoration']"
      ]
     },
     "execution_count": 32,
     "metadata": {},
     "output_type": "execute_result"
    }
   ],
   "source": [
    "b1.style.keys"
   ]
  },
  {
   "cell_type": "code",
   "execution_count": 36,
   "id": "9654bf9c-5cd2-4a8b-8d5f-511e1a4abd62",
   "metadata": {},
   "outputs": [],
   "source": [
    "b2 = widgets.Button(description='New')\n",
    "b2.style = b1.style"
   ]
  },
  {
   "cell_type": "code",
   "execution_count": 37,
   "id": "54b0269f-bda8-4d35-8b68-8dc44ee2f1db",
   "metadata": {},
   "outputs": [
    {
     "data": {
      "application/vnd.jupyter.widget-view+json": {
       "model_id": "98f63f762e7042a9916a5ecaddffe6a7",
       "version_major": 2,
       "version_minor": 0
      },
      "text/plain": [
       "Button(description='New', style=ButtonStyle(button_color='green'))"
      ]
     },
     "execution_count": 37,
     "metadata": {},
     "output_type": "execute_result"
    }
   ],
   "source": [
    "b2"
   ]
  },
  {
   "cell_type": "code",
   "execution_count": null,
   "id": "7e0cc368-df94-4c9e-90c5-ef2b00438773",
   "metadata": {},
   "outputs": [],
   "source": []
  }
 ],
 "metadata": {
  "kernelspec": {
   "display_name": "Python 3 (ipykernel)",
   "language": "python",
   "name": "python3"
  },
  "language_info": {
   "codemirror_mode": {
    "name": "ipython",
    "version": 3
   },
   "file_extension": ".py",
   "mimetype": "text/x-python",
   "name": "python",
   "nbconvert_exporter": "python",
   "pygments_lexer": "ipython3",
   "version": "3.11.7"
  }
 },
 "nbformat": 4,
 "nbformat_minor": 5
}
