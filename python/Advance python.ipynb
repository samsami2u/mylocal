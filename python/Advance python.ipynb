{
 "cells": [
  {
   "cell_type": "code",
   "execution_count": 1,
   "id": "23f638e9-8bc3-415b-bfdc-1e6f20bcd91d",
   "metadata": {},
   "outputs": [
    {
     "data": {
      "text/plain": [
       "'0b110010'"
      ]
     },
     "execution_count": 1,
     "metadata": {},
     "output_type": "execute_result"
    }
   ],
   "source": [
    "bin(50)"
   ]
  },
  {
   "cell_type": "code",
   "execution_count": 2,
   "id": "248f9498-9ef9-4e9b-95d0-7b3d72ece2b3",
   "metadata": {},
   "outputs": [
    {
     "data": {
      "text/plain": [
       "'0b101'"
      ]
     },
     "execution_count": 2,
     "metadata": {},
     "output_type": "execute_result"
    }
   ],
   "source": [
    "bin(5)"
   ]
  },
  {
   "cell_type": "code",
   "execution_count": 3,
   "id": "dd922986-c6da-495b-a176-2fe3e41763d7",
   "metadata": {},
   "outputs": [
    {
     "data": {
      "text/plain": [
       "'0x5'"
      ]
     },
     "execution_count": 3,
     "metadata": {},
     "output_type": "execute_result"
    }
   ],
   "source": [
    "hex(5)"
   ]
  },
  {
   "cell_type": "code",
   "execution_count": 4,
   "id": "440afc02-3df3-492a-9638-097c97263850",
   "metadata": {},
   "outputs": [
    {
     "data": {
      "text/plain": [
       "'0x8'"
      ]
     },
     "execution_count": 4,
     "metadata": {},
     "output_type": "execute_result"
    }
   ],
   "source": [
    "hex(8)"
   ]
  },
  {
   "cell_type": "code",
   "execution_count": 11,
   "id": "159e55f9-746b-4443-8110-e3f71c8f4216",
   "metadata": {},
   "outputs": [
    {
     "data": {
      "text/plain": [
       "'0b1000'"
      ]
     },
     "execution_count": 11,
     "metadata": {},
     "output_type": "execute_result"
    }
   ],
   "source": [
    "bin(8)"
   ]
  },
  {
   "cell_type": "code",
   "execution_count": 20,
   "id": "cdb36a2b-dc4e-4783-bd54-aaa634b34167",
   "metadata": {},
   "outputs": [],
   "source": [
    "for num in range(1, 21):\n",
    "    #print( num ** 2 )\n",
    "    pass"
   ]
  },
  {
   "cell_type": "code",
   "execution_count": 14,
   "id": "37a91c55-98b7-47a4-ad1e-1212322d6cfa",
   "metadata": {},
   "outputs": [
    {
     "data": {
      "text/plain": [
       "25"
      ]
     },
     "execution_count": 14,
     "metadata": {},
     "output_type": "execute_result"
    }
   ],
   "source": [
    "5 ** 2"
   ]
  },
  {
   "cell_type": "code",
   "execution_count": 21,
   "id": "18f8a168-6c26-48ee-bd54-99e1701ae84f",
   "metadata": {},
   "outputs": [],
   "source": [
    "str = 'hello world'"
   ]
  },
  {
   "cell_type": "code",
   "execution_count": 22,
   "id": "7665b88c-2e28-48a8-a8bc-bc9ed9104342",
   "metadata": {},
   "outputs": [
    {
     "data": {
      "text/plain": [
       "'Hello world'"
      ]
     },
     "execution_count": 22,
     "metadata": {},
     "output_type": "execute_result"
    }
   ],
   "source": [
    "str.capitalize()"
   ]
  },
  {
   "cell_type": "code",
   "execution_count": 23,
   "id": "b228d92e-08b6-4693-a850-a2e01763b07c",
   "metadata": {},
   "outputs": [
    {
     "data": {
      "text/plain": [
       "'HELLO WORLD'"
      ]
     },
     "execution_count": 23,
     "metadata": {},
     "output_type": "execute_result"
    }
   ],
   "source": [
    "str.upper()"
   ]
  },
  {
   "cell_type": "code",
   "execution_count": 24,
   "id": "91ba7443-e7a0-490e-b840-c7a2fae46711",
   "metadata": {},
   "outputs": [
    {
     "data": {
      "text/plain": [
       "'hello world'"
      ]
     },
     "execution_count": 24,
     "metadata": {},
     "output_type": "execute_result"
    }
   ],
   "source": [
    "str"
   ]
  },
  {
   "cell_type": "code",
   "execution_count": 25,
   "id": "f50c81db-c9b9-4edd-8566-1b95c0c1b897",
   "metadata": {},
   "outputs": [
    {
     "data": {
      "text/plain": [
       "6"
      ]
     },
     "execution_count": 25,
     "metadata": {},
     "output_type": "execute_result"
    }
   ],
   "source": [
    "str.find('w')"
   ]
  },
  {
   "cell_type": "code",
   "execution_count": 26,
   "id": "f22b9ac0-fdcf-449c-a114-5214ccfb1dcb",
   "metadata": {},
   "outputs": [
    {
     "data": {
      "text/plain": [
       "1"
      ]
     },
     "execution_count": 26,
     "metadata": {},
     "output_type": "execute_result"
    }
   ],
   "source": [
    "str.count('w')"
   ]
  },
  {
   "cell_type": "code",
   "execution_count": 28,
   "id": "0b61af95-e5bc-4e21-bec0-75b9ac50d6b5",
   "metadata": {},
   "outputs": [
    {
     "data": {
      "text/plain": [
       "'-------------------hello world--------------------'"
      ]
     },
     "execution_count": 28,
     "metadata": {},
     "output_type": "execute_result"
    }
   ],
   "source": [
    "str.center(50, '-')"
   ]
  },
  {
   "cell_type": "code",
   "execution_count": 31,
   "id": "03aa771c-2f2a-4859-acaa-7861b718515c",
   "metadata": {},
   "outputs": [
    {
     "data": {
      "text/plain": [
       "'hello   how are you?'"
      ]
     },
     "execution_count": 31,
     "metadata": {},
     "output_type": "execute_result"
    }
   ],
   "source": [
    "'hello\\thow are you?'.expandtabs()"
   ]
  },
  {
   "cell_type": "code",
   "execution_count": 35,
   "id": "36ad6d70-4b19-47b3-a653-5fd4a93a8671",
   "metadata": {},
   "outputs": [
    {
     "data": {
      "text/plain": [
       "True"
      ]
     },
     "execution_count": 35,
     "metadata": {},
     "output_type": "execute_result"
    }
   ],
   "source": [
    "str_new = 'hello'\n",
    "str_new.isalnum()"
   ]
  },
  {
   "cell_type": "code",
   "execution_count": 36,
   "id": "b35796ee-5515-4f2a-8c2d-4e759fb123ea",
   "metadata": {},
   "outputs": [
    {
     "data": {
      "text/plain": [
       "True"
      ]
     },
     "execution_count": 36,
     "metadata": {},
     "output_type": "execute_result"
    }
   ],
   "source": [
    "str_new.isalpha()"
   ]
  },
  {
   "cell_type": "code",
   "execution_count": 37,
   "id": "4b71e7b1-591e-4ac5-9b3b-42d4c214ee5a",
   "metadata": {},
   "outputs": [
    {
     "data": {
      "text/plain": [
       "True"
      ]
     },
     "execution_count": 37,
     "metadata": {},
     "output_type": "execute_result"
    }
   ],
   "source": [
    "str.islower()"
   ]
  },
  {
   "cell_type": "code",
   "execution_count": 38,
   "id": "3ad6d800-b829-4364-aca5-7d56288c36c7",
   "metadata": {},
   "outputs": [
    {
     "data": {
      "text/plain": [
       "False"
      ]
     },
     "execution_count": 38,
     "metadata": {},
     "output_type": "execute_result"
    }
   ],
   "source": [
    "str.isspace()"
   ]
  },
  {
   "cell_type": "code",
   "execution_count": 39,
   "id": "503b92c2-10c8-4223-9954-15217a47d124",
   "metadata": {},
   "outputs": [
    {
     "data": {
      "text/plain": [
       "False"
      ]
     },
     "execution_count": 39,
     "metadata": {},
     "output_type": "execute_result"
    }
   ],
   "source": [
    "str.istitle()"
   ]
  },
  {
   "cell_type": "code",
   "execution_count": 41,
   "id": "6008d292-edf2-4c6b-a288-e63e75353ea8",
   "metadata": {},
   "outputs": [
    {
     "data": {
      "text/plain": [
       "False"
      ]
     },
     "execution_count": 41,
     "metadata": {},
     "output_type": "execute_result"
    }
   ],
   "source": [
    "str.endswith('o')"
   ]
  },
  {
   "cell_type": "code",
   "execution_count": 43,
   "id": "4cb8d701-6bf6-4ef3-a8ec-915d2329c497",
   "metadata": {},
   "outputs": [
    {
     "data": {
      "text/plain": [
       "['hell', ' w', 'rld']"
      ]
     },
     "execution_count": 43,
     "metadata": {},
     "output_type": "execute_result"
    }
   ],
   "source": [
    "str.split('o')"
   ]
  },
  {
   "cell_type": "code",
   "execution_count": 44,
   "id": "637597be-7126-4046-96a1-b59d1ec77fe5",
   "metadata": {},
   "outputs": [
    {
     "data": {
      "text/plain": [
       "('hell', 'o', ' world')"
      ]
     },
     "execution_count": 44,
     "metadata": {},
     "output_type": "execute_result"
    }
   ],
   "source": [
    "str.partition('o')"
   ]
  },
  {
   "cell_type": "code",
   "execution_count": 45,
   "id": "3a04efed-02ec-4722-80db-bdb0f9251874",
   "metadata": {},
   "outputs": [],
   "source": [
    "#ADVANCE SETS"
   ]
  },
  {
   "cell_type": "code",
   "execution_count": 46,
   "id": "fe12d746-f505-403d-b4c5-eb00ee71a24e",
   "metadata": {},
   "outputs": [],
   "source": [
    "st = set()"
   ]
  },
  {
   "cell_type": "code",
   "execution_count": 47,
   "id": "6f2fef0c-1772-40ff-ba7b-6f9a5e636f2a",
   "metadata": {},
   "outputs": [],
   "source": [
    "st.add(1)"
   ]
  },
  {
   "cell_type": "code",
   "execution_count": 48,
   "id": "c28a533d-2941-4575-bb6b-d7dbe998512a",
   "metadata": {},
   "outputs": [
    {
     "data": {
      "text/plain": [
       "{1}"
      ]
     },
     "execution_count": 48,
     "metadata": {},
     "output_type": "execute_result"
    }
   ],
   "source": [
    "st"
   ]
  },
  {
   "cell_type": "code",
   "execution_count": 49,
   "id": "7adb9623-1f51-4dde-a774-4a78fc519d33",
   "metadata": {},
   "outputs": [],
   "source": [
    "st.add(2)"
   ]
  },
  {
   "cell_type": "code",
   "execution_count": 50,
   "id": "b938af6c-ab46-4c32-8ded-a6f0f6034f20",
   "metadata": {},
   "outputs": [
    {
     "data": {
      "text/plain": [
       "{1, 2}"
      ]
     },
     "execution_count": 50,
     "metadata": {},
     "output_type": "execute_result"
    }
   ],
   "source": [
    "st"
   ]
  },
  {
   "cell_type": "code",
   "execution_count": 51,
   "id": "c9ff2fdc-2f5c-427e-b30e-2ea1b37ba469",
   "metadata": {},
   "outputs": [],
   "source": [
    "st.add(0)"
   ]
  },
  {
   "cell_type": "code",
   "execution_count": 52,
   "id": "15fe7b75-041f-43a3-b67f-b210e63e552a",
   "metadata": {},
   "outputs": [
    {
     "data": {
      "text/plain": [
       "{0, 1, 2}"
      ]
     },
     "execution_count": 52,
     "metadata": {},
     "output_type": "execute_result"
    }
   ],
   "source": [
    "st"
   ]
  },
  {
   "cell_type": "code",
   "execution_count": 53,
   "id": "4dd5a258-e859-4264-b026-f65e362bb0bb",
   "metadata": {},
   "outputs": [],
   "source": [
    "st.remove(1)"
   ]
  },
  {
   "cell_type": "code",
   "execution_count": 54,
   "id": "3c5595e6-394b-43ed-8a4c-ebd1f247abd2",
   "metadata": {},
   "outputs": [
    {
     "data": {
      "text/plain": [
       "{0, 2}"
      ]
     },
     "execution_count": 54,
     "metadata": {},
     "output_type": "execute_result"
    }
   ],
   "source": [
    "st"
   ]
  },
  {
   "cell_type": "code",
   "execution_count": 55,
   "id": "d31456d1-e6ca-4ec6-8b12-4edd9b1d43d6",
   "metadata": {},
   "outputs": [],
   "source": [
    "st.add(1)"
   ]
  },
  {
   "cell_type": "code",
   "execution_count": 56,
   "id": "dcca01f1-df07-4e49-b265-2480630818ac",
   "metadata": {},
   "outputs": [],
   "source": [
    "nst = st.copy()"
   ]
  },
  {
   "cell_type": "code",
   "execution_count": 57,
   "id": "3c0f562b-740b-465d-9187-572b31abf57e",
   "metadata": {},
   "outputs": [
    {
     "data": {
      "text/plain": [
       "{0, 1, 2}"
      ]
     },
     "execution_count": 57,
     "metadata": {},
     "output_type": "execute_result"
    }
   ],
   "source": [
    "nst"
   ]
  },
  {
   "cell_type": "code",
   "execution_count": 58,
   "id": "0a73f684-4280-4b4f-870d-877371396994",
   "metadata": {},
   "outputs": [],
   "source": [
    "st.clear()"
   ]
  },
  {
   "cell_type": "code",
   "execution_count": 59,
   "id": "b8a09f5a-6a28-4455-b14a-47cdc9f45f17",
   "metadata": {},
   "outputs": [
    {
     "data": {
      "text/plain": [
       "set()"
      ]
     },
     "execution_count": 59,
     "metadata": {},
     "output_type": "execute_result"
    }
   ],
   "source": [
    "st"
   ]
  },
  {
   "cell_type": "code",
   "execution_count": 60,
   "id": "fafb2317-8b8f-4d38-82fa-1b796f5185d6",
   "metadata": {},
   "outputs": [
    {
     "data": {
      "text/plain": [
       "{0, 1, 2}"
      ]
     },
     "execution_count": 60,
     "metadata": {},
     "output_type": "execute_result"
    }
   ],
   "source": [
    "nst"
   ]
  },
  {
   "cell_type": "code",
   "execution_count": 61,
   "id": "0e55212c-9fae-402b-8745-c50efc6d216f",
   "metadata": {},
   "outputs": [
    {
     "data": {
      "text/plain": [
       "set()"
      ]
     },
     "execution_count": 61,
     "metadata": {},
     "output_type": "execute_result"
    }
   ],
   "source": [
    "st.difference(nst)"
   ]
  },
  {
   "cell_type": "code",
   "execution_count": 62,
   "id": "bb5f79bf-fb1a-4715-a3b9-3c26c40044bf",
   "metadata": {},
   "outputs": [],
   "source": [
    "st.add(2)"
   ]
  },
  {
   "cell_type": "code",
   "execution_count": 63,
   "id": "70f02ea8-4be7-4f86-a5b2-0a0f299c3125",
   "metadata": {},
   "outputs": [
    {
     "data": {
      "text/plain": [
       "set()"
      ]
     },
     "execution_count": 63,
     "metadata": {},
     "output_type": "execute_result"
    }
   ],
   "source": [
    "st.difference(nst)"
   ]
  },
  {
   "cell_type": "code",
   "execution_count": 64,
   "id": "9c019f0e-a4cf-470b-a083-4218625efabe",
   "metadata": {},
   "outputs": [
    {
     "data": {
      "text/plain": [
       "{0, 1, 2}"
      ]
     },
     "execution_count": 64,
     "metadata": {},
     "output_type": "execute_result"
    }
   ],
   "source": [
    "nst"
   ]
  },
  {
   "cell_type": "code",
   "execution_count": 65,
   "id": "d88f7701-0b2d-49a3-999f-554155690241",
   "metadata": {},
   "outputs": [
    {
     "data": {
      "text/plain": [
       "{0, 1}"
      ]
     },
     "execution_count": 65,
     "metadata": {},
     "output_type": "execute_result"
    }
   ],
   "source": [
    "nst.difference(st)"
   ]
  },
  {
   "cell_type": "code",
   "execution_count": 66,
   "id": "e0a14540-ccd7-4969-9365-3a89cf0774ab",
   "metadata": {},
   "outputs": [
    {
     "data": {
      "text/plain": [
       "{2}"
      ]
     },
     "execution_count": 66,
     "metadata": {},
     "output_type": "execute_result"
    }
   ],
   "source": [
    "st"
   ]
  },
  {
   "cell_type": "code",
   "execution_count": 67,
   "id": "f6fbc317-8670-4045-af00-ce17a6f77aa1",
   "metadata": {},
   "outputs": [
    {
     "ename": "KeyError",
     "evalue": "5",
     "output_type": "error",
     "traceback": [
      "\u001b[1;31m---------------------------------------------------------------------------\u001b[0m",
      "\u001b[1;31mKeyError\u001b[0m                                  Traceback (most recent call last)",
      "Cell \u001b[1;32mIn[67], line 1\u001b[0m\n\u001b[1;32m----> 1\u001b[0m st\u001b[38;5;241m.\u001b[39mremove(\u001b[38;5;241m5\u001b[39m)\n",
      "\u001b[1;31mKeyError\u001b[0m: 5"
     ]
    }
   ],
   "source": [
    "st.remove(5)"
   ]
  },
  {
   "cell_type": "code",
   "execution_count": 68,
   "id": "891365fe-32b0-48b8-8a82-d1513f54bcbc",
   "metadata": {},
   "outputs": [],
   "source": [
    "st.discard(5)"
   ]
  },
  {
   "cell_type": "code",
   "execution_count": 69,
   "id": "ec94eb02-d1c7-4de4-bafc-8dc4716f7745",
   "metadata": {},
   "outputs": [
    {
     "ename": "NameError",
     "evalue": "name 'nt' is not defined",
     "output_type": "error",
     "traceback": [
      "\u001b[1;31m---------------------------------------------------------------------------\u001b[0m",
      "\u001b[1;31mNameError\u001b[0m                                 Traceback (most recent call last)",
      "Cell \u001b[1;32mIn[69], line 1\u001b[0m\n\u001b[1;32m----> 1\u001b[0m nt\n",
      "\u001b[1;31mNameError\u001b[0m: name 'nt' is not defined"
     ]
    }
   ],
   "source": [
    "nt"
   ]
  },
  {
   "cell_type": "code",
   "execution_count": 70,
   "id": "491043ff-a68a-4dc6-89b0-c077a9b187df",
   "metadata": {},
   "outputs": [
    {
     "data": {
      "text/plain": [
       "{2}"
      ]
     },
     "execution_count": 70,
     "metadata": {},
     "output_type": "execute_result"
    }
   ],
   "source": [
    "st"
   ]
  },
  {
   "cell_type": "code",
   "execution_count": 71,
   "id": "0731e15b-25cf-407d-b1ea-b029982ab6dd",
   "metadata": {},
   "outputs": [
    {
     "data": {
      "text/plain": [
       "{0, 1, 2}"
      ]
     },
     "execution_count": 71,
     "metadata": {},
     "output_type": "execute_result"
    }
   ],
   "source": [
    "nst"
   ]
  },
  {
   "cell_type": "code",
   "execution_count": 72,
   "id": "f1e7b6fd-49f7-484b-a16f-81449ceb2059",
   "metadata": {},
   "outputs": [
    {
     "data": {
      "text/plain": [
       "set()"
      ]
     },
     "execution_count": 72,
     "metadata": {},
     "output_type": "execute_result"
    }
   ],
   "source": [
    "st.difference(nst)"
   ]
  },
  {
   "cell_type": "code",
   "execution_count": 73,
   "id": "f96a2506-b428-40a8-8ab4-f408cab24fda",
   "metadata": {},
   "outputs": [],
   "source": [
    "st.difference_update(nst)"
   ]
  },
  {
   "cell_type": "code",
   "execution_count": 74,
   "id": "249b1e36-f9d0-4075-9c70-0e0ea9647046",
   "metadata": {},
   "outputs": [
    {
     "data": {
      "text/plain": [
       "set()"
      ]
     },
     "execution_count": 74,
     "metadata": {},
     "output_type": "execute_result"
    }
   ],
   "source": [
    "st"
   ]
  },
  {
   "cell_type": "code",
   "execution_count": 75,
   "id": "a0ef12ae-c856-488a-8252-3b1acb56b367",
   "metadata": {},
   "outputs": [
    {
     "data": {
      "text/plain": [
       "{0, 1, 2}"
      ]
     },
     "execution_count": 75,
     "metadata": {},
     "output_type": "execute_result"
    }
   ],
   "source": [
    "nst"
   ]
  },
  {
   "cell_type": "code",
   "execution_count": 76,
   "id": "2da0aaa7-4be4-4738-aa99-fddc882ae71a",
   "metadata": {},
   "outputs": [
    {
     "data": {
      "text/plain": [
       "{0, 1, 2}"
      ]
     },
     "execution_count": 76,
     "metadata": {},
     "output_type": "execute_result"
    }
   ],
   "source": [
    "nst.difference(st)"
   ]
  },
  {
   "cell_type": "code",
   "execution_count": 77,
   "id": "66cf6a12-4644-4432-8a13-e3d1590268e8",
   "metadata": {},
   "outputs": [],
   "source": [
    "nst.difference_update(st)"
   ]
  },
  {
   "cell_type": "code",
   "execution_count": 78,
   "id": "b5a71459-8d04-4675-855c-8f6a4156d44e",
   "metadata": {},
   "outputs": [
    {
     "data": {
      "text/plain": [
       "{0, 1, 2}"
      ]
     },
     "execution_count": 78,
     "metadata": {},
     "output_type": "execute_result"
    }
   ],
   "source": [
    "nst"
   ]
  },
  {
   "cell_type": "code",
   "execution_count": 80,
   "id": "5ed1264a-046e-4414-b322-f97627ba7e5c",
   "metadata": {},
   "outputs": [],
   "source": [
    "st.add(0)"
   ]
  },
  {
   "cell_type": "code",
   "execution_count": 81,
   "id": "3ba94f75-be2e-4ffc-9d96-15f49d331e8f",
   "metadata": {},
   "outputs": [],
   "source": [
    "st.add(1)"
   ]
  },
  {
   "cell_type": "code",
   "execution_count": 82,
   "id": "cbeaf79a-c8b7-4b73-9015-d00e306ceeeb",
   "metadata": {},
   "outputs": [
    {
     "data": {
      "text/plain": [
       "{0, 1}"
      ]
     },
     "execution_count": 82,
     "metadata": {},
     "output_type": "execute_result"
    }
   ],
   "source": [
    "st"
   ]
  },
  {
   "cell_type": "code",
   "execution_count": 83,
   "id": "fa3227b7-cad9-46a6-ae92-cc5ed4048275",
   "metadata": {},
   "outputs": [
    {
     "data": {
      "text/plain": [
       "{0, 1, 2}"
      ]
     },
     "execution_count": 83,
     "metadata": {},
     "output_type": "execute_result"
    }
   ],
   "source": [
    "nst"
   ]
  },
  {
   "cell_type": "code",
   "execution_count": 85,
   "id": "44ca6a5d-22a7-4de2-9120-f091eaa2f59c",
   "metadata": {},
   "outputs": [
    {
     "data": {
      "text/plain": [
       "set()"
      ]
     },
     "execution_count": 85,
     "metadata": {},
     "output_type": "execute_result"
    }
   ],
   "source": [
    "st.difference(nst)"
   ]
  },
  {
   "cell_type": "code",
   "execution_count": 86,
   "id": "d55c57c0-a97b-4719-a61f-1937f004053a",
   "metadata": {},
   "outputs": [
    {
     "data": {
      "text/plain": [
       "{2}"
      ]
     },
     "execution_count": 86,
     "metadata": {},
     "output_type": "execute_result"
    }
   ],
   "source": [
    "nst.difference(st)"
   ]
  },
  {
   "cell_type": "code",
   "execution_count": 87,
   "id": "21a54244-204d-47b4-bc84-108377ce4558",
   "metadata": {},
   "outputs": [],
   "source": [
    "nst.difference_update(st)"
   ]
  },
  {
   "cell_type": "code",
   "execution_count": 88,
   "id": "65119a2e-07e1-4299-bf36-3bb2e67a2ecc",
   "metadata": {},
   "outputs": [
    {
     "data": {
      "text/plain": [
       "{0, 1}"
      ]
     },
     "execution_count": 88,
     "metadata": {},
     "output_type": "execute_result"
    }
   ],
   "source": [
    "st"
   ]
  },
  {
   "cell_type": "code",
   "execution_count": 89,
   "id": "b0fa7e5b-3342-4147-b1cd-63e67690f00f",
   "metadata": {},
   "outputs": [
    {
     "data": {
      "text/plain": [
       "{2}"
      ]
     },
     "execution_count": 89,
     "metadata": {},
     "output_type": "execute_result"
    }
   ],
   "source": [
    "nst"
   ]
  },
  {
   "cell_type": "code",
   "execution_count": 90,
   "id": "9f611c44-5fe6-487e-b3c5-72a777f54e01",
   "metadata": {},
   "outputs": [
    {
     "data": {
      "text/plain": [
       "True"
      ]
     },
     "execution_count": 90,
     "metadata": {},
     "output_type": "execute_result"
    }
   ],
   "source": [
    "st.isdisjoint(nst)"
   ]
  },
  {
   "cell_type": "code",
   "execution_count": 91,
   "id": "b54aad6d-98cb-4cd5-bd7f-ad83a79f7b76",
   "metadata": {},
   "outputs": [
    {
     "data": {
      "text/plain": [
       "False"
      ]
     },
     "execution_count": 91,
     "metadata": {},
     "output_type": "execute_result"
    }
   ],
   "source": [
    "st.issubset(nst)"
   ]
  },
  {
   "cell_type": "code",
   "execution_count": 92,
   "id": "2422f07d-c887-4ac3-bb48-d40376ad2eaf",
   "metadata": {},
   "outputs": [
    {
     "data": {
      "text/plain": [
       "{2}"
      ]
     },
     "execution_count": 92,
     "metadata": {},
     "output_type": "execute_result"
    }
   ],
   "source": [
    "nst"
   ]
  },
  {
   "cell_type": "code",
   "execution_count": 93,
   "id": "997a85e6-d2e0-47e3-aa61-4a12f87700e0",
   "metadata": {},
   "outputs": [
    {
     "data": {
      "text/plain": [
       "{0, 1}"
      ]
     },
     "execution_count": 93,
     "metadata": {},
     "output_type": "execute_result"
    }
   ],
   "source": [
    "st"
   ]
  },
  {
   "cell_type": "code",
   "execution_count": 94,
   "id": "c97f8e2f-840e-4772-b4b9-6b2ca725d09c",
   "metadata": {},
   "outputs": [],
   "source": [
    "nst.add(0)"
   ]
  },
  {
   "cell_type": "code",
   "execution_count": 95,
   "id": "8d7158b6-0e75-430e-9002-035a2598cb18",
   "metadata": {},
   "outputs": [],
   "source": [
    "nst.add(1)"
   ]
  },
  {
   "cell_type": "code",
   "execution_count": 96,
   "id": "95cab0be-f92f-4371-9b3b-5894b5d883c8",
   "metadata": {},
   "outputs": [
    {
     "data": {
      "text/plain": [
       "True"
      ]
     },
     "execution_count": 96,
     "metadata": {},
     "output_type": "execute_result"
    }
   ],
   "source": [
    "st.issubset(nst)"
   ]
  },
  {
   "cell_type": "code",
   "execution_count": 98,
   "id": "cc853599-130e-4912-bc90-52d6cac967dd",
   "metadata": {},
   "outputs": [
    {
     "data": {
      "text/plain": [
       "True"
      ]
     },
     "execution_count": 98,
     "metadata": {},
     "output_type": "execute_result"
    }
   ],
   "source": [
    "nst.issuperset(st)"
   ]
  },
  {
   "cell_type": "code",
   "execution_count": 99,
   "id": "c0ec9290-2dc1-4a9f-a502-81cb0bc367cb",
   "metadata": {},
   "outputs": [
    {
     "data": {
      "text/plain": [
       "{2}"
      ]
     },
     "execution_count": 99,
     "metadata": {},
     "output_type": "execute_result"
    }
   ],
   "source": [
    "st.symmetric_difference(nst)"
   ]
  },
  {
   "cell_type": "code",
   "execution_count": 100,
   "id": "7969e5c6-c7f9-4433-ad30-245f7b322e39",
   "metadata": {},
   "outputs": [
    {
     "data": {
      "text/plain": [
       "{0, 1, 2}"
      ]
     },
     "execution_count": 100,
     "metadata": {},
     "output_type": "execute_result"
    }
   ],
   "source": [
    "st.union(nst)"
   ]
  },
  {
   "cell_type": "code",
   "execution_count": 101,
   "id": "c39d9fe4-892f-4e69-ad4c-1a8c7036db08",
   "metadata": {},
   "outputs": [
    {
     "data": {
      "text/plain": [
       "{0, 1}"
      ]
     },
     "execution_count": 101,
     "metadata": {},
     "output_type": "execute_result"
    }
   ],
   "source": [
    "st"
   ]
  },
  {
   "cell_type": "code",
   "execution_count": 102,
   "id": "0b094ce1-927f-4f09-97ff-412eca6a1d7c",
   "metadata": {},
   "outputs": [],
   "source": [
    "#ADVANCED DICTIONARIES"
   ]
  },
  {
   "cell_type": "code",
   "execution_count": 105,
   "id": "481548eb-9a56-4c1f-b18d-62925c3720aa",
   "metadata": {},
   "outputs": [],
   "source": [
    "dic = {'k':1, 'j':2}"
   ]
  },
  {
   "cell_type": "code",
   "execution_count": 107,
   "id": "949b4445-55a9-4a22-a36b-264a92ae480d",
   "metadata": {},
   "outputs": [
    {
     "data": {
      "text/plain": [
       "{'k': 1, 'j': 2}"
      ]
     },
     "execution_count": 107,
     "metadata": {},
     "output_type": "execute_result"
    }
   ],
   "source": [
    "dic"
   ]
  },
  {
   "cell_type": "code",
   "execution_count": 109,
   "id": "7dae98d7-9c79-4baa-8e83-0048ef393af8",
   "metadata": {},
   "outputs": [
    {
     "data": {
      "text/plain": [
       "{'x': 0, 'y': 2, 'z': 4}"
      ]
     },
     "execution_count": 109,
     "metadata": {},
     "output_type": "execute_result"
    }
   ],
   "source": [
    "{k:v*2 for k,v in zip(['x', 'y', 'z'],range(0, 10))}"
   ]
  },
  {
   "cell_type": "code",
   "execution_count": 113,
   "id": "e46c5b9f-7d0d-46cd-9f08-9913587e3c2f",
   "metadata": {},
   "outputs": [
    {
     "name": "stdout",
     "output_type": "stream",
     "text": [
      "1\n",
      "2\n"
     ]
    }
   ],
   "source": [
    "for al in dic.values():\n",
    "    print(al)"
   ]
  },
  {
   "cell_type": "code",
   "execution_count": 114,
   "id": "0deb4f14-44b4-40d8-8d8e-be5e5a985e9a",
   "metadata": {},
   "outputs": [
    {
     "data": {
      "text/plain": [
       "dict_keys(['k', 'j'])"
      ]
     },
     "execution_count": 114,
     "metadata": {},
     "output_type": "execute_result"
    }
   ],
   "source": [
    "dic.keys()"
   ]
  },
  {
   "cell_type": "code",
   "execution_count": 1,
   "id": "7614763b-93d0-4c73-a768-d877efe14421",
   "metadata": {},
   "outputs": [],
   "source": [
    "# ADVANCED LIST"
   ]
  },
  {
   "cell_type": "code",
   "execution_count": 2,
   "id": "ba6917d9-38f5-4021-b985-5d60a67b84d9",
   "metadata": {},
   "outputs": [],
   "source": [
    "lst = [1, 2, 3]"
   ]
  },
  {
   "cell_type": "code",
   "execution_count": 4,
   "id": "63f43f0c-d3b8-407f-8aa0-f11de408cff7",
   "metadata": {},
   "outputs": [
    {
     "data": {
      "text/plain": [
       "0"
      ]
     },
     "execution_count": 4,
     "metadata": {},
     "output_type": "execute_result"
    }
   ],
   "source": [
    "lst.count(5)"
   ]
  },
  {
   "cell_type": "code",
   "execution_count": 5,
   "id": "c0558027-5557-4c1e-bb6d-999b334d4565",
   "metadata": {},
   "outputs": [],
   "source": [
    "lst.append(0)"
   ]
  },
  {
   "cell_type": "code",
   "execution_count": 6,
   "id": "04d1485a-ec0f-4664-a845-35269f3fa05d",
   "metadata": {},
   "outputs": [
    {
     "data": {
      "text/plain": [
       "[1, 2, 3, 0]"
      ]
     },
     "execution_count": 6,
     "metadata": {},
     "output_type": "execute_result"
    }
   ],
   "source": [
    "lst"
   ]
  },
  {
   "cell_type": "code",
   "execution_count": 7,
   "id": "2c2a0b2d-f066-437f-9332-2cb8bb88d4b3",
   "metadata": {},
   "outputs": [],
   "source": [
    "lst.extend([4,5])"
   ]
  },
  {
   "cell_type": "code",
   "execution_count": 8,
   "id": "897b6a32-70f8-4580-b952-1ea6efbd3851",
   "metadata": {},
   "outputs": [
    {
     "data": {
      "text/plain": [
       "[1, 2, 3, 0, 4, 5]"
      ]
     },
     "execution_count": 8,
     "metadata": {},
     "output_type": "execute_result"
    }
   ],
   "source": [
    "lst"
   ]
  },
  {
   "cell_type": "code",
   "execution_count": 9,
   "id": "957eb654-c4a2-48ac-9aff-e8352904c4d0",
   "metadata": {},
   "outputs": [
    {
     "data": {
      "text/plain": [
       "1"
      ]
     },
     "execution_count": 9,
     "metadata": {},
     "output_type": "execute_result"
    }
   ],
   "source": [
    "lst.count(0)"
   ]
  },
  {
   "cell_type": "code",
   "execution_count": 14,
   "id": "a06c6e56-abea-45f0-b3c9-5eb50a6e1a46",
   "metadata": {},
   "outputs": [
    {
     "data": {
      "text/plain": [
       "2"
      ]
     },
     "execution_count": 14,
     "metadata": {},
     "output_type": "execute_result"
    }
   ],
   "source": [
    "lst.index(2)"
   ]
  },
  {
   "cell_type": "code",
   "execution_count": 11,
   "id": "8be7866a-15d5-4ce8-9f3a-0dbe8cce3b17",
   "metadata": {},
   "outputs": [
    {
     "data": {
      "text/plain": [
       "[1, 2, 3, 0, 4, 5]"
      ]
     },
     "execution_count": 11,
     "metadata": {},
     "output_type": "execute_result"
    }
   ],
   "source": [
    "lst"
   ]
  },
  {
   "cell_type": "code",
   "execution_count": 12,
   "id": "dcf9cd82-5ada-44d2-8b3b-e2900717df59",
   "metadata": {},
   "outputs": [],
   "source": [
    "lst.insert(1, 10)"
   ]
  },
  {
   "cell_type": "code",
   "execution_count": 13,
   "id": "806eae4a-f588-445d-b4a0-08a2f9cbb571",
   "metadata": {},
   "outputs": [
    {
     "data": {
      "text/plain": [
       "[1, 10, 2, 3, 0, 4, 5]"
      ]
     },
     "execution_count": 13,
     "metadata": {},
     "output_type": "execute_result"
    }
   ],
   "source": [
    "lst"
   ]
  },
  {
   "cell_type": "code",
   "execution_count": 15,
   "id": "c7901a9b-93a3-4853-8060-f68d84a0c9be",
   "metadata": {},
   "outputs": [],
   "source": [
    "popped = lst.pop()"
   ]
  },
  {
   "cell_type": "code",
   "execution_count": 16,
   "id": "2bb47ba9-1503-428e-a04e-ee512c18d3ad",
   "metadata": {},
   "outputs": [
    {
     "data": {
      "text/plain": [
       "[1, 10, 2, 3, 0, 4]"
      ]
     },
     "execution_count": 16,
     "metadata": {},
     "output_type": "execute_result"
    }
   ],
   "source": [
    "lst"
   ]
  },
  {
   "cell_type": "code",
   "execution_count": 17,
   "id": "fa971fb8-10a8-49cd-9294-80edc7078a33",
   "metadata": {},
   "outputs": [
    {
     "data": {
      "text/plain": [
       "5"
      ]
     },
     "execution_count": 17,
     "metadata": {},
     "output_type": "execute_result"
    }
   ],
   "source": [
    "popped"
   ]
  },
  {
   "cell_type": "code",
   "execution_count": 18,
   "id": "862ed729-41f8-4cf2-b249-a20ac6507206",
   "metadata": {},
   "outputs": [],
   "source": [
    "lst.append(5)"
   ]
  },
  {
   "cell_type": "code",
   "execution_count": 19,
   "id": "bf143926-7763-4caf-b062-23500d2a331f",
   "metadata": {},
   "outputs": [
    {
     "data": {
      "text/plain": [
       "10"
      ]
     },
     "execution_count": 19,
     "metadata": {},
     "output_type": "execute_result"
    }
   ],
   "source": [
    "lst.pop(1)"
   ]
  },
  {
   "cell_type": "code",
   "execution_count": 20,
   "id": "10c1ea79-47cb-4872-aa43-e2444acb17f9",
   "metadata": {},
   "outputs": [
    {
     "data": {
      "text/plain": [
       "[1, 2, 3, 0, 4, 5]"
      ]
     },
     "execution_count": 20,
     "metadata": {},
     "output_type": "execute_result"
    }
   ],
   "source": [
    "lst"
   ]
  },
  {
   "cell_type": "code",
   "execution_count": 21,
   "id": "e3c543fb-6d6b-4ec9-ba9f-e36c7222387e",
   "metadata": {},
   "outputs": [],
   "source": [
    "lst.remove(0)"
   ]
  },
  {
   "cell_type": "code",
   "execution_count": 22,
   "id": "60dce309-d430-4c21-b0d0-bbbc85d55823",
   "metadata": {},
   "outputs": [
    {
     "data": {
      "text/plain": [
       "[1, 2, 3, 4, 5]"
      ]
     },
     "execution_count": 22,
     "metadata": {},
     "output_type": "execute_result"
    }
   ],
   "source": [
    "lst"
   ]
  },
  {
   "cell_type": "code",
   "execution_count": 23,
   "id": "e6ad8701-e3b2-464c-b290-18de2b2464f3",
   "metadata": {},
   "outputs": [],
   "source": [
    "lst.reverse()"
   ]
  },
  {
   "cell_type": "code",
   "execution_count": 24,
   "id": "59f329a7-5f46-4c89-802f-a963822ecdf8",
   "metadata": {},
   "outputs": [
    {
     "data": {
      "text/plain": [
       "[5, 4, 3, 2, 1]"
      ]
     },
     "execution_count": 24,
     "metadata": {},
     "output_type": "execute_result"
    }
   ],
   "source": [
    "lst"
   ]
  },
  {
   "cell_type": "code",
   "execution_count": 25,
   "id": "92b88e33-ced6-4743-9b08-080d99e57dac",
   "metadata": {},
   "outputs": [],
   "source": [
    "lst.sort()"
   ]
  },
  {
   "cell_type": "code",
   "execution_count": 26,
   "id": "bf761961-e2ef-4017-b3de-34c568a47d5e",
   "metadata": {},
   "outputs": [
    {
     "data": {
      "text/plain": [
       "[1, 2, 3, 4, 5]"
      ]
     },
     "execution_count": 26,
     "metadata": {},
     "output_type": "execute_result"
    }
   ],
   "source": [
    "lst"
   ]
  },
  {
   "cell_type": "code",
   "execution_count": 27,
   "id": "39b461db-11e2-4139-a254-894ff0904c13",
   "metadata": {},
   "outputs": [
    {
     "ename": "SyntaxError",
     "evalue": "leading zeros in decimal integer literals are not permitted; use an 0o prefix for octal integers (2779196100.py, line 1)",
     "output_type": "error",
     "traceback": [
      "\u001b[1;36m  Cell \u001b[1;32mIn[27], line 1\u001b[1;36m\u001b[0m\n\u001b[1;33m    lst.append(06)\u001b[0m\n\u001b[1;37m               ^\u001b[0m\n\u001b[1;31mSyntaxError\u001b[0m\u001b[1;31m:\u001b[0m leading zeros in decimal integer literals are not permitted; use an 0o prefix for octal integers\n"
     ]
    }
   ],
   "source": [
    "lst.append(06)"
   ]
  },
  {
   "cell_type": "code",
   "execution_count": 57,
   "id": "95119ba8-ff7f-46f0-8376-99d14888aacf",
   "metadata": {},
   "outputs": [
    {
     "name": "stdout",
     "output_type": "stream",
     "text": [
      "0b10000000000\n",
      "0x400\n"
     ]
    }
   ],
   "source": [
    "#Problem 1: Convert 1024 to binary and hexadecimal representation\n",
    "\n",
    "print(bin(1024))\n",
    "print(hex(1024))"
   ]
  },
  {
   "cell_type": "code",
   "execution_count": 46,
   "id": "124f27f0-a7ba-4fd6-8fb7-b0a82f5792d5",
   "metadata": {},
   "outputs": [
    {
     "data": {
      "text/plain": [
       "5"
      ]
     },
     "execution_count": 46,
     "metadata": {},
     "output_type": "execute_result"
    }
   ],
   "source": [
    "#Problem 2: Round 5.23222 to two decimal places\n",
    "\n",
    "round(5.23222)"
   ]
  },
  {
   "cell_type": "code",
   "execution_count": 34,
   "id": "8d270c66-f465-4449-a094-84baa3496854",
   "metadata": {},
   "outputs": [],
   "source": [
    "s = \"hello how are you Mary, are you feeling okay?\""
   ]
  },
  {
   "cell_type": "code",
   "execution_count": 45,
   "id": "8df62a5c-d05a-4b06-9d72-c963465ba898",
   "metadata": {},
   "outputs": [
    {
     "data": {
      "text/plain": [
       "True"
      ]
     },
     "execution_count": 45,
     "metadata": {},
     "output_type": "execute_result"
    }
   ],
   "source": [
    "#Problem 3: Check if every letter in the string s is lower case\n",
    "\n",
    "s.islower()"
   ]
  },
  {
   "cell_type": "code",
   "execution_count": 36,
   "id": "e0174bc9-44f2-44c4-ac62-d18ed6b9123d",
   "metadata": {},
   "outputs": [],
   "source": [
    "s = 'twywywtwywbwhsjhwuwshshwuwwwjdjdid'"
   ]
  },
  {
   "cell_type": "code",
   "execution_count": 44,
   "id": "8a054f6c-7789-4c8f-9c8d-2ee08fe04ded",
   "metadata": {},
   "outputs": [
    {
     "data": {
      "text/plain": [
       "12"
      ]
     },
     "execution_count": 44,
     "metadata": {},
     "output_type": "execute_result"
    }
   ],
   "source": [
    "#Problem 4: How many times does the letter 'w' show up in the string below?\n",
    "\n",
    "s.count('w')"
   ]
  },
  {
   "cell_type": "code",
   "execution_count": 39,
   "id": "e1f77fc2-f6cb-4a96-a23f-02ee651aa57a",
   "metadata": {},
   "outputs": [],
   "source": [
    "set1 = {2,3,1,5,6,8}\n",
    "set2 = {3,1,7,5,6,8}"
   ]
  },
  {
   "cell_type": "code",
   "execution_count": 40,
   "id": "7353e3ea-f5de-4ded-be4f-36a4f64f13e2",
   "metadata": {},
   "outputs": [
    {
     "data": {
      "text/plain": [
       "{2}"
      ]
     },
     "execution_count": 40,
     "metadata": {},
     "output_type": "execute_result"
    }
   ],
   "source": [
    "#Problem 5: Find the elements in set1 that are not in set2:\n",
    "set1.difference(set2)"
   ]
  },
  {
   "cell_type": "code",
   "execution_count": 43,
   "id": "09a35eeb-b1c9-44de-b835-3f06cae61fbd",
   "metadata": {},
   "outputs": [
    {
     "data": {
      "text/plain": [
       "{1, 2, 3, 5, 6, 7, 8}"
      ]
     },
     "execution_count": 43,
     "metadata": {},
     "output_type": "execute_result"
    }
   ],
   "source": [
    "#Problem 6: Find all elements that are in either set:\n",
    "set1.union(set2)"
   ]
  },
  {
   "cell_type": "code",
   "execution_count": 48,
   "id": "905b55dc-0c14-4ffc-990a-384650b87f2b",
   "metadata": {},
   "outputs": [
    {
     "data": {
      "text/plain": [
       "{0: 0, 1: 1, 2: 8, 3: 27, 4: 64}"
      ]
     },
     "execution_count": 48,
     "metadata": {},
     "output_type": "execute_result"
    }
   ],
   "source": [
    "#Problem 7: Create this dictionary: {0: 0, 1: 1, 2: 8, 3: 27, 4: 64} using a dictionary comprehension.\n",
    "\n",
    "{x:x**3 for x in range(0,5)}"
   ]
  },
  {
   "cell_type": "code",
   "execution_count": 49,
   "id": "04dfedcd-b327-4659-aeb4-6c393750127c",
   "metadata": {},
   "outputs": [],
   "source": [
    "#Problem 8: Reverse the list below:\n",
    "\n",
    "list1 = [1,2,3,4]"
   ]
  },
  {
   "cell_type": "code",
   "execution_count": 50,
   "id": "79fa57c3-e521-4650-be6a-124d04702a9a",
   "metadata": {},
   "outputs": [],
   "source": [
    "list1.reverse()"
   ]
  },
  {
   "cell_type": "code",
   "execution_count": 51,
   "id": "e4c233c5-f9a1-48d6-abba-258fb6845b37",
   "metadata": {},
   "outputs": [
    {
     "data": {
      "text/plain": [
       "[4, 3, 2, 1]"
      ]
     },
     "execution_count": 51,
     "metadata": {},
     "output_type": "execute_result"
    }
   ],
   "source": [
    "list1"
   ]
  },
  {
   "cell_type": "code",
   "execution_count": 52,
   "id": "acaaccba-c281-491b-bcdf-7ac4c55fd6e2",
   "metadata": {},
   "outputs": [],
   "source": [
    "#Problem 9: Sort the list below:\n",
    "\n",
    "list2 = [3,4,2,5,1]"
   ]
  },
  {
   "cell_type": "code",
   "execution_count": 53,
   "id": "bfd0ebb6-1ceb-4fc6-94ae-fa36f7bc8736",
   "metadata": {},
   "outputs": [],
   "source": [
    "list2.sort()"
   ]
  },
  {
   "cell_type": "code",
   "execution_count": 54,
   "id": "12e49531-ca20-47b5-969c-1f728f1344b6",
   "metadata": {},
   "outputs": [
    {
     "data": {
      "text/plain": [
       "[1, 2, 3, 4, 5]"
      ]
     },
     "execution_count": 54,
     "metadata": {},
     "output_type": "execute_result"
    }
   ],
   "source": [
    "list2"
   ]
  },
  {
   "cell_type": "code",
   "execution_count": null,
   "id": "9826a892-7632-401c-81de-e3f275b65178",
   "metadata": {},
   "outputs": [],
   "source": []
  }
 ],
 "metadata": {
  "kernelspec": {
   "display_name": "Python 3 (ipykernel)",
   "language": "python",
   "name": "python3"
  },
  "language_info": {
   "codemirror_mode": {
    "name": "ipython",
    "version": 3
   },
   "file_extension": ".py",
   "mimetype": "text/x-python",
   "name": "python",
   "nbconvert_exporter": "python",
   "pygments_lexer": "ipython3",
   "version": "3.11.7"
  }
 },
 "nbformat": 4,
 "nbformat_minor": 5
}
