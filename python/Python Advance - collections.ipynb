{
 "cells": [
  {
   "cell_type": "code",
   "execution_count": 4,
   "id": "136bef71",
   "metadata": {},
   "outputs": [
    {
     "data": {
      "text/plain": [
       "Counter({4: 10, 5: 8, 3: 6, 1: 5, 6: 3, 2: 1})"
      ]
     },
     "execution_count": 4,
     "metadata": {},
     "output_type": "execute_result"
    }
   ],
   "source": [
    "from collections import Counter\n",
    "\n",
    "\n",
    "mylist = [1,1,1,1,1,2,3,3,4,3,4,5,4,5,4,6,4,6,4,6,4,5,3,4,5,3,4,5,5,5,3,4,5]\n",
    "\n",
    "Counter(mylist)"
   ]
  },
  {
   "cell_type": "code",
   "execution_count": 5,
   "id": "9282ea84",
   "metadata": {},
   "outputs": [
    {
     "data": {
      "text/plain": [
       "Counter({'l': 9,\n",
       "         'd': 8,\n",
       "         'a': 7,\n",
       "         'k': 7,\n",
       "         'f': 7,\n",
       "         's': 6,\n",
       "         'j': 5,\n",
       "         'm': 3,\n",
       "         ';': 2,\n",
       "         'r': 1,\n",
       "         'o': 1,\n",
       "         'i': 1})"
      ]
     },
     "execution_count": 5,
     "metadata": {},
     "output_type": "execute_result"
    }
   ],
   "source": [
    "Counter('asldkjalkdfmljroijdflkmsadlfkmsdalfasdf;lkjfl;kasdjflkasd')"
   ]
  },
  {
   "cell_type": "code",
   "execution_count": 6,
   "id": "05b1e15b",
   "metadata": {},
   "outputs": [
    {
     "data": {
      "text/plain": [
       "Counter({'l': 17,\n",
       "         'j': 15,\n",
       "         'd': 14,\n",
       "         'k': 13,\n",
       "         'f': 13,\n",
       "         's': 13,\n",
       "         'a': 12,\n",
       "         'm': 2})"
      ]
     },
     "execution_count": 6,
     "metadata": {},
     "output_type": "execute_result"
    }
   ],
   "source": [
    "Counter('lakjfsdlksadmflksadmflkjasdlfjasdlkfjalsdjflkasdjflkjsdalfkjsdlkfjlasdjflksadjflkjasddlkjfjsadljkfl')"
   ]
  },
  {
   "cell_type": "code",
   "execution_count": 8,
   "id": "c806b4c4",
   "metadata": {},
   "outputs": [],
   "source": [
    "cnt = Counter('fjakjfhakjhakdjhckjsdhkcjhaskjfhckjshkjdshkjahkjdhkjhsdkjhldhdkjshkjdhjdhkjsdhjhjhreuihnkfjhadnkjafhkdjhlfdhskjhdslhskj kjkjdf')"
   ]
  },
  {
   "cell_type": "code",
   "execution_count": 9,
   "id": "40276587",
   "metadata": {},
   "outputs": [
    {
     "data": {
      "text/plain": [
       "dict_items([('f', 7), ('j', 26), ('a', 7), ('k', 22), ('h', 26), ('d', 15), ('c', 3), ('s', 10), ('l', 3), ('r', 1), ('e', 1), ('u', 1), ('i', 1), ('n', 2), (' ', 1)])"
      ]
     },
     "execution_count": 9,
     "metadata": {},
     "output_type": "execute_result"
    }
   ],
   "source": [
    "cnt.items()"
   ]
  },
  {
   "cell_type": "code",
   "execution_count": 10,
   "id": "799fd846",
   "metadata": {},
   "outputs": [
    {
     "data": {
      "text/plain": [
       "<bound method Counter.elements of Counter({'j': 26, 'h': 26, 'k': 22, 'd': 15, 's': 10, 'f': 7, 'a': 7, 'c': 3, 'l': 3, 'n': 2, 'r': 1, 'e': 1, 'u': 1, 'i': 1, ' ': 1})>"
      ]
     },
     "execution_count": 10,
     "metadata": {},
     "output_type": "execute_result"
    }
   ],
   "source": [
    "cnt.elements"
   ]
  },
  {
   "cell_type": "code",
   "execution_count": 11,
   "id": "6f79f7f5",
   "metadata": {},
   "outputs": [
    {
     "data": {
      "text/plain": [
       "<itertools.chain at 0x159e64e8d00>"
      ]
     },
     "execution_count": 11,
     "metadata": {},
     "output_type": "execute_result"
    }
   ],
   "source": [
    "cnt.elements()"
   ]
  },
  {
   "cell_type": "code",
   "execution_count": 12,
   "id": "eb102406",
   "metadata": {},
   "outputs": [
    {
     "data": {
      "text/plain": [
       "['f', 'j', 'a', 'k', 'h', 'd', 'c', 's', 'l', 'r', 'e', 'u', 'i', 'n', ' ']"
      ]
     },
     "execution_count": 12,
     "metadata": {},
     "output_type": "execute_result"
    }
   ],
   "source": [
    "list(cnt)"
   ]
  },
  {
   "cell_type": "code",
   "execution_count": 13,
   "id": "b2d506a8",
   "metadata": {},
   "outputs": [
    {
     "data": {
      "text/plain": [
       "<bound method Counter.total of Counter({'j': 26, 'h': 26, 'k': 22, 'd': 15, 's': 10, 'f': 7, 'a': 7, 'c': 3, 'l': 3, 'n': 2, 'r': 1, 'e': 1, 'u': 1, 'i': 1, ' ': 1})>"
      ]
     },
     "execution_count": 13,
     "metadata": {},
     "output_type": "execute_result"
    }
   ],
   "source": [
    "cnt.total"
   ]
  },
  {
   "cell_type": "code",
   "execution_count": 14,
   "id": "d25b694f",
   "metadata": {},
   "outputs": [
    {
     "data": {
      "text/plain": [
       "126"
      ]
     },
     "execution_count": 14,
     "metadata": {},
     "output_type": "execute_result"
    }
   ],
   "source": [
    "cnt.total()"
   ]
  },
  {
   "cell_type": "code",
   "execution_count": 15,
   "id": "77b658da",
   "metadata": {},
   "outputs": [],
   "source": [
    "from collections import defaultdict"
   ]
  },
  {
   "cell_type": "code",
   "execution_count": 16,
   "id": "99af751f",
   "metadata": {},
   "outputs": [],
   "source": [
    "d = {'a':10}"
   ]
  },
  {
   "cell_type": "code",
   "execution_count": 17,
   "id": "3008ca70",
   "metadata": {},
   "outputs": [
    {
     "ename": "NameError",
     "evalue": "name 'a' is not defined",
     "output_type": "error",
     "traceback": [
      "\u001b[1;31m---------------------------------------------------------------------------\u001b[0m",
      "\u001b[1;31mNameError\u001b[0m                                 Traceback (most recent call last)",
      "Cell \u001b[1;32mIn[17], line 1\u001b[0m\n\u001b[1;32m----> 1\u001b[0m d[a]\n",
      "\u001b[1;31mNameError\u001b[0m: name 'a' is not defined"
     ]
    }
   ],
   "source": [
    "d[a]"
   ]
  },
  {
   "cell_type": "code",
   "execution_count": 18,
   "id": "a0392e6d",
   "metadata": {},
   "outputs": [
    {
     "data": {
      "text/plain": [
       "10"
      ]
     },
     "execution_count": 18,
     "metadata": {},
     "output_type": "execute_result"
    }
   ],
   "source": [
    "d['a']"
   ]
  },
  {
   "cell_type": "code",
   "execution_count": 19,
   "id": "41eba5a0",
   "metadata": {},
   "outputs": [
    {
     "ename": "KeyError",
     "evalue": "'b'",
     "output_type": "error",
     "traceback": [
      "\u001b[1;31m---------------------------------------------------------------------------\u001b[0m",
      "\u001b[1;31mKeyError\u001b[0m                                  Traceback (most recent call last)",
      "Cell \u001b[1;32mIn[19], line 1\u001b[0m\n\u001b[1;32m----> 1\u001b[0m d[\u001b[38;5;124m'\u001b[39m\u001b[38;5;124mb\u001b[39m\u001b[38;5;124m'\u001b[39m]\n",
      "\u001b[1;31mKeyError\u001b[0m: 'b'"
     ]
    }
   ],
   "source": [
    "d['b']"
   ]
  },
  {
   "cell_type": "code",
   "execution_count": 20,
   "id": "669a6e97",
   "metadata": {},
   "outputs": [],
   "source": [
    "dd = defaultdict(lambda: 5)"
   ]
  },
  {
   "cell_type": "code",
   "execution_count": 21,
   "id": "c98f0ab8",
   "metadata": {},
   "outputs": [],
   "source": [
    "dd['correct'] = 100"
   ]
  },
  {
   "cell_type": "code",
   "execution_count": 22,
   "id": "043dc1e0",
   "metadata": {},
   "outputs": [
    {
     "data": {
      "text/plain": [
       "100"
      ]
     },
     "execution_count": 22,
     "metadata": {},
     "output_type": "execute_result"
    }
   ],
   "source": [
    "dd['correct']"
   ]
  },
  {
   "cell_type": "code",
   "execution_count": 23,
   "id": "7b32cf01",
   "metadata": {},
   "outputs": [
    {
     "data": {
      "text/plain": [
       "5"
      ]
     },
     "execution_count": 23,
     "metadata": {},
     "output_type": "execute_result"
    }
   ],
   "source": [
    "dd['incorrect']"
   ]
  },
  {
   "cell_type": "code",
   "execution_count": 24,
   "id": "147125b3",
   "metadata": {},
   "outputs": [
    {
     "data": {
      "text/plain": [
       "5"
      ]
     },
     "execution_count": 24,
     "metadata": {},
     "output_type": "execute_result"
    }
   ],
   "source": [
    "dd['one']"
   ]
  },
  {
   "cell_type": "code",
   "execution_count": 25,
   "id": "b06acfbf",
   "metadata": {},
   "outputs": [
    {
     "data": {
      "text/plain": [
       "defaultdict(<function __main__.<lambda>()>,\n",
       "            {'correct': 100, 'incorrect': 5, 'one': 5})"
      ]
     },
     "execution_count": 25,
     "metadata": {},
     "output_type": "execute_result"
    }
   ],
   "source": [
    "dd"
   ]
  },
  {
   "cell_type": "code",
   "execution_count": 28,
   "id": "99a5d43f",
   "metadata": {},
   "outputs": [],
   "source": [
    "from collections import namedtuple"
   ]
  },
  {
   "cell_type": "code",
   "execution_count": 29,
   "id": "f9d2d0d9",
   "metadata": {},
   "outputs": [],
   "source": [
    "Dog = namedtuple('Dg', ['age', 'breed', 'name'])"
   ]
  },
  {
   "cell_type": "code",
   "execution_count": 30,
   "id": "af69e851",
   "metadata": {},
   "outputs": [
    {
     "data": {
      "text/plain": [
       "type"
      ]
     },
     "execution_count": 30,
     "metadata": {},
     "output_type": "execute_result"
    }
   ],
   "source": [
    "type(Dog)"
   ]
  },
  {
   "cell_type": "code",
   "execution_count": 32,
   "id": "378f2a58",
   "metadata": {},
   "outputs": [],
   "source": [
    "Sammy = Dog(age=5, breed='Rotwiller', name='Tommy')"
   ]
  },
  {
   "cell_type": "code",
   "execution_count": 33,
   "id": "57133a27",
   "metadata": {},
   "outputs": [
    {
     "data": {
      "text/plain": [
       "__main__.Dg"
      ]
     },
     "execution_count": 33,
     "metadata": {},
     "output_type": "execute_result"
    }
   ],
   "source": [
    "type(Sammy)"
   ]
  },
  {
   "cell_type": "code",
   "execution_count": 34,
   "id": "a3c47a47",
   "metadata": {},
   "outputs": [
    {
     "data": {
      "text/plain": [
       "Dg(age=5, breed='Rotwiller', name='Tommy')"
      ]
     },
     "execution_count": 34,
     "metadata": {},
     "output_type": "execute_result"
    }
   ],
   "source": [
    "Sammy"
   ]
  },
  {
   "cell_type": "code",
   "execution_count": 35,
   "id": "3ff9b573",
   "metadata": {},
   "outputs": [
    {
     "data": {
      "text/plain": [
       "5"
      ]
     },
     "execution_count": 35,
     "metadata": {},
     "output_type": "execute_result"
    }
   ],
   "source": [
    "Sammy.age"
   ]
  },
  {
   "cell_type": "code",
   "execution_count": 38,
   "id": "60083469",
   "metadata": {},
   "outputs": [
    {
     "data": {
      "text/plain": [
       "5"
      ]
     },
     "execution_count": 38,
     "metadata": {},
     "output_type": "execute_result"
    }
   ],
   "source": [
    "Sammy[0]"
   ]
  },
  {
   "cell_type": "code",
   "execution_count": null,
   "id": "fc495cc1",
   "metadata": {},
   "outputs": [],
   "source": []
  }
 ],
 "metadata": {
  "kernelspec": {
   "display_name": "Python 3 (ipykernel)",
   "language": "python",
   "name": "python3"
  },
  "language_info": {
   "codemirror_mode": {
    "name": "ipython",
    "version": 3
   },
   "file_extension": ".py",
   "mimetype": "text/x-python",
   "name": "python",
   "nbconvert_exporter": "python",
   "pygments_lexer": "ipython3",
   "version": "3.11.5"
  }
 },
 "nbformat": 4,
 "nbformat_minor": 5
}
